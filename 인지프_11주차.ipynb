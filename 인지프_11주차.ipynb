{
  "nbformat": 4,
  "nbformat_minor": 0,
  "metadata": {
    "colab": {
      "provenance": [],
      "authorship_tag": "ABX9TyNdPc/z82ZlX4bye32OJQn3",
      "include_colab_link": true
    },
    "kernelspec": {
      "name": "python3",
      "display_name": "Python 3"
    },
    "language_info": {
      "name": "python"
    }
  },
  "cells": [
    {
      "cell_type": "markdown",
      "metadata": {
        "id": "view-in-github",
        "colab_type": "text"
      },
      "source": [
        "<a href=\"https://colab.research.google.com/github/Hyebeen-101903/AI_Programing/blob/main/%EC%9D%B8%EC%A7%80%ED%94%84_11%EC%A3%BC%EC%B0%A8.ipynb\" target=\"_parent\"><img src=\"https://colab.research.google.com/assets/colab-badge.svg\" alt=\"Open In Colab\"/></a>"
      ]
    },
    {
      "cell_type": "code",
      "execution_count": 1,
      "metadata": {
        "id": "oT9myDx13abz"
      },
      "outputs": [],
      "source": [
        "import torch\n",
        "from torch import nn\n",
        "from torch.nn import init\n",
        "from collections import OrderedDict"
      ]
    },
    {
      "cell_type": "code",
      "source": [
        "class SimpleModel0(nn.Module):\n",
        "\n",
        "  def __init__(self, n_in_f, n_out_f):\n",
        "\n",
        "    super().__init__()\n",
        "\n",
        "    self.l0 = nn.Linear(n_in_f, n_out_f)\n",
        "\n",
        "    const_weight = 1.\n",
        "    const_bias = 0.5\n",
        "\n",
        "    init.constant_(self.l0.weight, const_weight)\n",
        "    if self.l0.bias is not None:\n",
        "      init.constant_(self.l0.bias, const_bias)\n",
        "\n",
        "  def forward(self, x):\n",
        "    return self.l0(x)"
      ],
      "metadata": {
        "id": "J7hcQK_tMnCL"
      },
      "execution_count": 2,
      "outputs": []
    },
    {
      "cell_type": "code",
      "source": [
        "class SimpleModel1(nn.Module):\n",
        "\n",
        "  def __init__(self, n_in_f, n_out_f):\n",
        "\n",
        "    super().__init__()\n",
        "\n",
        "    self.l0 = nn.Linear(n_in_f, n_out_f)\n",
        "    self.l1 = nn.Linear(n_out_f, n_out_f)\n",
        "\n",
        "    const_weight = 2.\n",
        "    const_bias = 1.5\n",
        "\n",
        "    init.constant_(self.l0.weight, const_weight)\n",
        "    if self.l0.bias is not None:\n",
        "      init.constant_(self.l0.bias, const_bias)\n",
        "\n",
        "  def forward(self, x):\n",
        "    return self.l0(x)"
      ],
      "metadata": {
        "id": "LclmZaHzMoDH"
      },
      "execution_count": 3,
      "outputs": []
    },
    {
      "cell_type": "code",
      "source": [
        "model = SimpleModel0(3,1)\n",
        "\n",
        "print(list(model.named_parameters()))"
      ],
      "metadata": {
        "colab": {
          "base_uri": "https://localhost:8080/"
        },
        "id": "Tt-mi08oMpDR",
        "outputId": "0db4fc9a-ee50-46b8-e6ee-2e6d697b0a95"
      },
      "execution_count": 4,
      "outputs": [
        {
          "output_type": "stream",
          "name": "stdout",
          "text": [
            "[('l0.weight', Parameter containing:\n",
            "tensor([[1., 1., 1.]], requires_grad=True)), ('l0.bias', Parameter containing:\n",
            "tensor([0.5000], requires_grad=True))]\n"
          ]
        }
      ]
    },
    {
      "cell_type": "code",
      "source": [
        "ordered_dict_params = model.state_dict()\n",
        "for c in ordered_dict_params.items():\n",
        "  print(f'{c[0]:<10}={c[1]}')"
      ],
      "metadata": {
        "colab": {
          "base_uri": "https://localhost:8080/"
        },
        "id": "ENP-sraoMqUU",
        "outputId": "ebc6dd1d-5ffc-4de4-e49a-a96f58a99423"
      },
      "execution_count": 6,
      "outputs": [
        {
          "output_type": "stream",
          "name": "stdout",
          "text": [
            "l0.weight =tensor([[1., 1., 1.]])\n",
            "l0.bias   =tensor([0.5000])\n"
          ]
        }
      ]
    },
    {
      "cell_type": "code",
      "source": [
        "torch.save(model.state_dict(), 'model_params.pth')"
      ],
      "metadata": {
        "id": "pwilvGf0Msxv"
      },
      "execution_count": 7,
      "outputs": []
    },
    {
      "cell_type": "code",
      "source": [
        "n_model = SimpleModel1(3,1)\n",
        "\n",
        "for old, new in zip(model.parameters(), n_model.parameters()):\n",
        "\n",
        "  if not torch.equal(old,new):\n",
        "    print('model and n_model w/ default init do not have parameters with the same values!')\n",
        "    break\n",
        "else:\n",
        "  print('model and n_model w/ default init have parameters with the same values!')"
      ],
      "metadata": {
        "colab": {
          "base_uri": "https://localhost:8080/"
        },
        "id": "yDDRJFPXMvop",
        "outputId": "282c13ee-5d44-47f2-bbcf-d34bd47b6802"
      },
      "execution_count": 11,
      "outputs": [
        {
          "output_type": "stream",
          "name": "stdout",
          "text": [
            "model and n_model w/ default init do not have parameters with the same values!\n"
          ]
        }
      ]
    },
    {
      "cell_type": "code",
      "source": [
        "for old, new in zip(model.parameters(), n_model.parameters()):\n",
        "\n",
        "  if not torch.equal(old,new):\n",
        "    print('model and n_model do not have parameters with the same values!')\n",
        "    break\n",
        "else:\n",
        "  print('model and n_model have parameters with the same values!')"
      ],
      "metadata": {
        "colab": {
          "base_uri": "https://localhost:8080/"
        },
        "id": "IRi6Bu3iMxq5",
        "outputId": "854b8508-381f-4007-eb47-bd4c1ad8ffab"
      },
      "execution_count": 10,
      "outputs": [
        {
          "output_type": "stream",
          "name": "stdout",
          "text": [
            "model and n_model have parameters with the same values!\n"
          ]
        }
      ]
    },
    {
      "cell_type": "code",
      "source": [
        "model = SimpleModel0(3,1)"
      ],
      "metadata": {
        "id": "MI0-rs__MyuI"
      },
      "execution_count": 13,
      "outputs": []
    },
    {
      "cell_type": "code",
      "source": [
        "torch.save(model,'model.pth')"
      ],
      "metadata": {
        "id": "QfrCR2wSM318"
      },
      "execution_count": 14,
      "outputs": []
    },
    {
      "cell_type": "code",
      "source": [
        "class SimpleModel0(nn.Module):\n",
        "\n",
        "  def __init__(self, n_in_f, n_out_f):\n",
        "\n",
        "    super().__init__()\n",
        "\n",
        "    self.l0 = nn.Linear(n_in_f, n_out_f)\n",
        "\n",
        "    const_weight = 2.\n",
        "    const_bias = 1.5\n",
        "\n",
        "    init.constant_(self.l0.weight, const_weight)\n",
        "    if self.l0.bias is not None:\n",
        "      init.constant_(self.l0.bias, const_bias)\n",
        "\n",
        "  def forward(self, x):\n",
        "    return self.l0(x)"
      ],
      "metadata": {
        "id": "fg_kWEedM5Nf"
      },
      "execution_count": 15,
      "outputs": []
    },
    {
      "cell_type": "code",
      "source": [
        "n_model = torch.load('model.pth')\n",
        "print(f'{type(n_model)=}, {n_model}')\n"
      ],
      "metadata": {
        "colab": {
          "base_uri": "https://localhost:8080/"
        },
        "id": "iOa36ti2M7_w",
        "outputId": "5ee328f5-15b2-4d05-ba80-cdd946c4a13e"
      },
      "execution_count": 16,
      "outputs": [
        {
          "output_type": "stream",
          "name": "stdout",
          "text": [
            "type(n_model)=<class '__main__.SimpleModel0'>, SimpleModel0(\n",
            "  (l0): Linear(in_features=3, out_features=1, bias=True)\n",
            ")\n"
          ]
        }
      ]
    },
    {
      "cell_type": "code",
      "source": [
        "for c in n_model.named_parameters():\n",
        "  print(c)"
      ],
      "metadata": {
        "colab": {
          "base_uri": "https://localhost:8080/"
        },
        "id": "am7hmlS8M99J",
        "outputId": "e3f4ed71-5195-4709-e267-f348caf6b924"
      },
      "execution_count": 17,
      "outputs": [
        {
          "output_type": "stream",
          "name": "stdout",
          "text": [
            "('l0.weight', Parameter containing:\n",
            "tensor([[1., 1., 1.]], requires_grad=True))\n",
            "('l0.bias', Parameter containing:\n",
            "tensor([0.5000], requires_grad=True))\n"
          ]
        }
      ]
    },
    {
      "cell_type": "code",
      "source": [
        "import pickle\n",
        "\n",
        "pickle.dump(n_model,open('m.pkl','wb'))\n",
        "nn_model = pickle.load(open('m.pkl','rb'))\n",
        "nn_model"
      ],
      "metadata": {
        "colab": {
          "base_uri": "https://localhost:8080/"
        },
        "id": "INLCmjJFM_Nh",
        "outputId": "f2c27d27-3d74-41dc-ed54-90db795e5a99"
      },
      "execution_count": 18,
      "outputs": [
        {
          "output_type": "execute_result",
          "data": {
            "text/plain": [
              "SimpleModel0(\n",
              "  (l0): Linear(in_features=3, out_features=1, bias=True)\n",
              ")"
            ]
          },
          "metadata": {},
          "execution_count": 18
        }
      ]
    },
    {
      "cell_type": "code",
      "source": [
        "for old, new in zip(n_model.parameters(), nn_model.parameters()):\n",
        "\n",
        "  if not torch.equal(old,new):\n",
        "    print('model and n_model do not have parameters with the same values!')\n",
        "    break\n",
        "else:\n",
        "  print('model and n_model have parameters with the same values!')"
      ],
      "metadata": {
        "colab": {
          "base_uri": "https://localhost:8080/"
        },
        "id": "zkeBrZa3NAdH",
        "outputId": "0cafdd8b-7931-4904-b2c6-d08760f0d96e"
      },
      "execution_count": 19,
      "outputs": [
        {
          "output_type": "stream",
          "name": "stdout",
          "text": [
            "model and n_model have parameters with the same values!\n"
          ]
        }
      ]
    },
    {
      "cell_type": "code",
      "source": [
        "import torch\n",
        "import torch.nn as nn\n",
        "from collections import OrderedDict\n",
        "\n",
        "# 간단한 모델 정의\n",
        "class MyModel(nn.Module):\n",
        "    def __init__(self):\n",
        "        super(MyModel, self).__init__()\n",
        "        self.linear = nn.Linear(10, 5)\n",
        "        self.bn = nn.BatchNorm1d(5)\n",
        "        # self.sub = nn.Sequential(\n",
        "        #     OrderedDict({\n",
        "        #         'ds00_layer': nn.Linear(5,5),\n",
        "        #         'ds00_bn':nn.BatchNorm1d(5),\n",
        "        #         'ds00_act': nn.ReLU(),\n",
        "        #         'ds01_layer': nn.Linear(5,5),\n",
        "        #     })\n",
        "        # )\n",
        "\n",
        "    def forward(self, x):\n",
        "        x = self.linear(x)\n",
        "        x = self.bn(x)\n",
        "        x = self.sub(x)\n",
        "        return x\n",
        "\n",
        "# 모델 인스턴스 생성\n",
        "model = MyModel()\n",
        "\n",
        "# 모델의 state_dict 가져오기\n",
        "state_dict = model.state_dict()\n",
        "\n",
        "# state_dict 내용 출력\n",
        "for key, value in state_dict.items():\n",
        "    print(f\"{key:<25}: {str(type(value)):<20}: {value.shape}\")"
      ],
      "metadata": {
        "colab": {
          "base_uri": "https://localhost:8080/"
        },
        "id": "JxM0c1iaNA5x",
        "outputId": "0ae2f80c-aa2b-444e-ddc1-f27ea68c39f5"
      },
      "execution_count": 20,
      "outputs": [
        {
          "output_type": "stream",
          "name": "stdout",
          "text": [
            "linear.weight            : <class 'torch.Tensor'>: torch.Size([5, 10])\n",
            "linear.bias              : <class 'torch.Tensor'>: torch.Size([5])\n",
            "bn.weight                : <class 'torch.Tensor'>: torch.Size([5])\n",
            "bn.bias                  : <class 'torch.Tensor'>: torch.Size([5])\n",
            "bn.running_mean          : <class 'torch.Tensor'>: torch.Size([5])\n",
            "bn.running_var           : <class 'torch.Tensor'>: torch.Size([5])\n",
            "bn.num_batches_tracked   : <class 'torch.Tensor'>: torch.Size([])\n"
          ]
        }
      ]
    },
    {
      "cell_type": "code",
      "source": [
        "# 모델의 state_dict 가져오기\n",
        "state_dict0 = model.state_dict(prefix='ds', keep_vars=True)\n",
        "\n",
        "# state_dict 내용 출력\n",
        "for key, value in state_dict0.items():\n",
        "    print(f\"{key:<25}: {str(type(value)):<20}: {value.shape}\")"
      ],
      "metadata": {
        "colab": {
          "base_uri": "https://localhost:8080/"
        },
        "id": "hE2xS8dLNKae",
        "outputId": "70c05ccf-3a53-48aa-8821-053c83126153"
      },
      "execution_count": 21,
      "outputs": [
        {
          "output_type": "stream",
          "name": "stdout",
          "text": [
            "dslinear.weight          : <class 'torch.nn.parameter.Parameter'>: torch.Size([5, 10])\n",
            "dslinear.bias            : <class 'torch.nn.parameter.Parameter'>: torch.Size([5])\n",
            "dsbn.weight              : <class 'torch.nn.parameter.Parameter'>: torch.Size([5])\n",
            "dsbn.bias                : <class 'torch.nn.parameter.Parameter'>: torch.Size([5])\n",
            "dsbn.running_mean        : <class 'torch.Tensor'>: torch.Size([5])\n",
            "dsbn.running_var         : <class 'torch.Tensor'>: torch.Size([5])\n",
            "dsbn.num_batches_tracked : <class 'torch.Tensor'>: torch.Size([])\n"
          ]
        }
      ]
    },
    {
      "cell_type": "code",
      "source": [],
      "metadata": {
        "id": "YkSecq6xNL-H"
      },
      "execution_count": null,
      "outputs": []
    }
  ]
}