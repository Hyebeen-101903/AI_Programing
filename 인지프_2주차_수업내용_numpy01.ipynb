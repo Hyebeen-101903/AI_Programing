{
  "nbformat": 4,
  "nbformat_minor": 0,
  "metadata": {
    "colab": {
      "provenance": [],
      "gpuType": "T4",
      "name": "인지프 2주차 수업내용 numpy01.ipynb",
      "include_colab_link": true
    },
    "kernelspec": {
      "name": "python3",
      "display_name": "Python 3"
    },
    "language_info": {
      "name": "python"
    },
    "accelerator": "GPU"
  },
  "cells": [
    {
      "cell_type": "markdown",
      "metadata": {
        "id": "view-in-github",
        "colab_type": "text"
      },
      "source": [
        "<a href=\"https://colab.research.google.com/github/Hyebeen-101903/AI_Programing/blob/main/%EC%9D%B8%EC%A7%80%ED%94%84_2%EC%A3%BC%EC%B0%A8_%EC%88%98%EC%97%85%EB%82%B4%EC%9A%A9_numpy01.ipynb\" target=\"_parent\"><img src=\"https://colab.research.google.com/assets/colab-badge.svg\" alt=\"Open In Colab\"/></a>"
      ]
    },
    {
      "cell_type": "code",
      "source": [
        "from google.colab import drive\n",
        "drive.mount(\"/content/drive\")"
      ],
      "metadata": {
        "colab": {
          "base_uri": "https://localhost:8080/"
        },
        "id": "GgiLpaZ2MyaX",
        "outputId": "eac844fb-6349-4569-e6e0-b52cad67b27a"
      },
      "execution_count": null,
      "outputs": [
        {
          "output_type": "stream",
          "name": "stdout",
          "text": [
            "Mounted at /content/drive\n"
          ]
        }
      ]
    },
    {
      "cell_type": "code",
      "execution_count": null,
      "metadata": {
        "id": "-UGw-ZfNkWeQ"
      },
      "outputs": [],
      "source": [
        "import numpy as np\n",
        "import tensorflow as tf\n",
        "import torch\n"
      ]
    },
    {
      "cell_type": "code",
      "source": [
        "np.__version__\n"
      ],
      "metadata": {
        "colab": {
          "base_uri": "https://localhost:8080/",
          "height": 35
        },
        "id": "JCfJAFsarb2B",
        "outputId": "f495c334-b002-4eb2-ee71-fec58b53012b"
      },
      "execution_count": null,
      "outputs": [
        {
          "output_type": "execute_result",
          "data": {
            "text/plain": [
              "'1.25.2'"
            ],
            "application/vnd.google.colaboratory.intrinsic+json": {
              "type": "string"
            }
          },
          "metadata": {},
          "execution_count": 2
        }
      ]
    },
    {
      "cell_type": "code",
      "source": [
        "tf.__version__"
      ],
      "metadata": {
        "colab": {
          "base_uri": "https://localhost:8080/",
          "height": 35
        },
        "id": "R0asMKEbrfz2",
        "outputId": "f3156a1f-6bdc-4267-8f58-24a352d15256"
      },
      "execution_count": null,
      "outputs": [
        {
          "output_type": "execute_result",
          "data": {
            "text/plain": [
              "'2.15.0'"
            ],
            "application/vnd.google.colaboratory.intrinsic+json": {
              "type": "string"
            }
          },
          "metadata": {},
          "execution_count": 3
        }
      ]
    },
    {
      "cell_type": "code",
      "source": [
        "torch.__version__"
      ],
      "metadata": {
        "colab": {
          "base_uri": "https://localhost:8080/",
          "height": 35
        },
        "id": "-wnouwZRriXN",
        "outputId": "3d0fd9c7-ca5d-4246-ff4c-f4f413f739d9"
      },
      "execution_count": null,
      "outputs": [
        {
          "output_type": "execute_result",
          "data": {
            "text/plain": [
              "'2.3.0+cu121'"
            ],
            "application/vnd.google.colaboratory.intrinsic+json": {
              "type": "string"
            }
          },
          "metadata": {},
          "execution_count": 4
        }
      ]
    },
    {
      "cell_type": "code",
      "source": [
        "import sys\n",
        "print(sys.version)"
      ],
      "metadata": {
        "colab": {
          "base_uri": "https://localhost:8080/"
        },
        "id": "95_9O_CTrlLi",
        "outputId": "4c630a12-440f-48c4-bd33-0a057e657218"
      },
      "execution_count": null,
      "outputs": [
        {
          "output_type": "stream",
          "name": "stdout",
          "text": [
            "3.10.12 (main, Nov 20 2023, 15:14:05) [GCC 11.4.0]\n"
          ]
        }
      ]
    },
    {
      "cell_type": "markdown",
      "source": [
        "#Tensor 생성하기#"
      ],
      "metadata": {
        "id": "EECXhT7e0J1x"
      }
    },
    {
      "cell_type": "markdown",
      "source": [
        "np.array ( list [,dtype])\n",
        "\n",
        "list 나 tuple 등으로 ndarray 생성.\n",
        "dtype : data type of element.\n",
        "- float64 : default type in the numpy.\n",
        "- uint8 : unsigned int (8bit), the most commonly used for image processing\n",
        "- int8 : signed int (8bit)\n",
        "- float32 : float (32bit)"
      ],
      "metadata": {
        "id": "I_HfpDih0R4s"
      }
    },
    {
      "cell_type": "code",
      "source": [
        "t = (1,2,3,4,5,6)\n",
        "a = np.array(t) # Numpy 배열을 생성\n",
        "a_tf = tf.constant(a) #TensorFlow 상수 생성 (numpy의 array를 tf로 타입 변환)\n",
        "a_torch = torch.tensor(a)  #Pytorch 텐서 생성\n",
        "\n",
        "print(type(t))\n",
        "print(type(a))\n",
        "print(type(a_tf))\n",
        "print(type(a_torch))"
      ],
      "metadata": {
        "colab": {
          "base_uri": "https://localhost:8080/"
        },
        "id": "rASbHHxqrsDI",
        "outputId": "53e6c321-f4ee-437c-e49f-2a5a8e9644a7"
      },
      "execution_count": null,
      "outputs": [
        {
          "output_type": "stream",
          "name": "stdout",
          "text": [
            "<class 'tuple'>\n",
            "<class 'numpy.ndarray'>\n",
            "<class 'tensorflow.python.framework.ops.EagerTensor'>\n",
            "<class 'torch.Tensor'>\n"
          ]
        }
      ]
    },
    {
      "cell_type": "code",
      "source": [
        "print(a.ndim) #배열의 차원 수\n",
        "print(a.shape) # 각 차원의 크기\n",
        "print(a.itemsize)  #배열의 각 요소의 bytes 크기를 반환\n",
        "print(a.size) # 배열의 모든 요소의 총 개수 반환\n",
        "print(a.dtype) # 배열 요소의 데이터 타입 반환"
      ],
      "metadata": {
        "colab": {
          "base_uri": "https://localhost:8080/"
        },
        "id": "ngUYq3BZui6L",
        "outputId": "972e2363-818f-494f-8044-5f60444d7445"
      },
      "execution_count": null,
      "outputs": [
        {
          "output_type": "stream",
          "name": "stdout",
          "text": [
            "1\n",
            "(6,)\n",
            "8\n",
            "6\n",
            "int64\n"
          ]
        }
      ]
    },
    {
      "cell_type": "code",
      "source": [
        "a = np.array([1.,2.,3.])\n",
        "print(a.dtype)\n",
        "\n",
        "a = np.array([1.,2.,3.], dtype=int) # float 타입의 숫자를 int 타입으로 변환하여 배열을 생성\n",
        "print(a.dtype)\n",
        "\n",
        "a = np.array([1.,2.,3.], dtype=float)\n",
        "print(a.dtype)\n"
      ],
      "metadata": {
        "id": "Mvj6OwtTvrQ1",
        "colab": {
          "base_uri": "https://localhost:8080/"
        },
        "outputId": "81ae3241-f343-4817-ada3-3c9cb4caea2a"
      },
      "execution_count": null,
      "outputs": [
        {
          "output_type": "stream",
          "name": "stdout",
          "text": [
            "float64\n",
            "int64\n",
            "float64\n"
          ]
        }
      ]
    },
    {
      "cell_type": "code",
      "source": [
        "t = (1, 2, 3,4,5,6)\n",
        "tensor = tf.constant(t)\n",
        "print(tf.rank(tensor))\n",
        "print(tensor.ndim)\n",
        "print(tensor.shape)\n",
        "# print(tensor.itemsize)  #error. not supported\n",
        "# print(tensor.size)      #error. not supported\n",
        "print(tensor.dtype)\n",
        "tensor"
      ],
      "metadata": {
        "colab": {
          "base_uri": "https://localhost:8080/"
        },
        "id": "0NE8sP2q1Spe",
        "outputId": "ccc32cae-b1e3-4481-a9f3-523898d5fc64"
      },
      "execution_count": null,
      "outputs": [
        {
          "output_type": "stream",
          "name": "stdout",
          "text": [
            "tf.Tensor(1, shape=(), dtype=int32)\n",
            "1\n",
            "(6,)\n",
            "<dtype: 'int32'>\n"
          ]
        },
        {
          "output_type": "execute_result",
          "data": {
            "text/plain": [
              "<tf.Tensor: shape=(6,), dtype=int32, numpy=array([1, 2, 3, 4, 5, 6], dtype=int32)>"
            ]
          },
          "metadata": {},
          "execution_count": 10
        }
      ]
    },
    {
      "cell_type": "code",
      "source": [
        "p = torch.tensor(t)\n",
        "print(p.ndim)\n",
        "print(p.shape)\n",
        "print(p.itemsize)\n",
        "print(p.size())    # not attribute but method\n",
        "print(p.dtype)"
      ],
      "metadata": {
        "colab": {
          "base_uri": "https://localhost:8080/"
        },
        "id": "E4REiNb_1b-q",
        "outputId": "99b66dfb-b69c-4817-c873-9012b1d322c5"
      },
      "execution_count": null,
      "outputs": [
        {
          "output_type": "stream",
          "name": "stdout",
          "text": [
            "1\n",
            "torch.Size([6])\n",
            "8\n",
            "torch.Size([6])\n",
            "torch.int64\n"
          ]
        }
      ]
    },
    {
      "cell_type": "code",
      "source": [
        "import tensorflow as tf\n",
        "\n",
        "# 튜플 't'를 TensorFlow 상수 텐서로 변환\n",
        "t = (1, 2, 3)\n",
        "tensor = tf.constant(t)\n",
        "print(tf.Variable(tensor))  # \"tensor\"를 TensorFlow 변수로 변환하고 출력\n",
        "\n",
        "\n",
        "# print(tensor.ndim)  # 에러 발생: TensorFlow 텐서에는 ndim 속성이 없음\n",
        "# print(tensor.shape)  # 정상 작동: shape는 TensorFlow 텐서에서 사용 가능\n",
        "# print(tensor.itemsize)  # 에러 발생: TensorFlow 텐서에는 itemsize 속성이 없음\n",
        "# print(tensor.size)  # 에러 발생: TensorFlow 텐서에는 size 속성이 없음\n",
        "\n",
        "print(tensor.dtype)\n",
        "print(tensor)  # 텐서를 출력\n"
      ],
      "metadata": {
        "colab": {
          "base_uri": "https://localhost:8080/"
        },
        "id": "hwf-5dtkyAdL",
        "outputId": "e4d995e4-79b5-4429-98f1-e7716a1823b6"
      },
      "execution_count": null,
      "outputs": [
        {
          "output_type": "stream",
          "name": "stdout",
          "text": [
            "<tf.Variable 'Variable:0' shape=(6,) dtype=int32, numpy=array([1, 2, 3, 4, 5, 6], dtype=int32)>\n",
            "<dtype: 'int32'>\n"
          ]
        },
        {
          "output_type": "execute_result",
          "data": {
            "text/plain": [
              "<tf.Tensor: shape=(6,), dtype=int32, numpy=array([1, 2, 3, 4, 5, 6], dtype=int32)>"
            ]
          },
          "metadata": {},
          "execution_count": 10
        }
      ]
    },
    {
      "cell_type": "markdown",
      "source": [
        "위의 코드에서 작동하지 않는 코드 수정"
      ],
      "metadata": {
        "id": "_NKeb2xiJUda"
      }
    },
    {
      "cell_type": "code",
      "source": [
        "import tensorflow as tf\n",
        "\n",
        "# 튜플 't'를 TensorFlow 상수 텐서로 변환\n",
        "t = (1, 2, 3)\n",
        "tensor = tf.constant(t)\n",
        "print(tf.Variable(tensor))  # \"tensor\"를 TensorFlow 변수로 변환하고 출력\n",
        "\n",
        "# 수정된 부분들:\n",
        "print(tensor.shape.ndims)  # 텐서의 차원 수 출력\n",
        "print(tensor.shape)  # 텐서의 shape 출력\n",
        "print(tf.size(tensor).numpy())  # 텐서의 요소 개수 출력\n",
        "\n",
        "print(tensor.dtype)\n",
        "print(tensor)  # 텐서를 출력\n"
      ],
      "metadata": {
        "colab": {
          "base_uri": "https://localhost:8080/"
        },
        "id": "8pu_6qCTJTlu",
        "outputId": "a6f58c4c-244c-496b-913d-ba10acbdc92a"
      },
      "execution_count": null,
      "outputs": [
        {
          "output_type": "stream",
          "name": "stdout",
          "text": [
            "<tf.Variable 'Variable:0' shape=(3,) dtype=int32, numpy=array([1, 2, 3], dtype=int32)>\n",
            "1\n",
            "(3,)\n",
            "3\n",
            "<dtype: 'int32'>\n",
            "tf.Tensor([1 2 3], shape=(3,), dtype=int32)\n"
          ]
        }
      ]
    },
    {
      "cell_type": "code",
      "source": [
        "import torch\n",
        "\n",
        "# 튜플 't'를 PyTorch 텐서로 변환\n",
        "t = (1, 2, 3)\n",
        "p = torch.tensor(t)\n",
        "\n",
        "print(p.ndim, type(p.ndim))  # 텐서의 차원 수 (rank)와 그 타입을 출력\n",
        "# 출력 : 1 <class 'int'>\n",
        "print(p.shape, type(p.shape))  # 텐서의 shape과 그 타입을 출력\n",
        "#출력 : torch.Size([6]) <class 'torch.Size'>\n",
        "print(p.itemsize, type(p.itemsize))  # 에러 발생: PyTorch 텐서에는 itemsize 속성이 없음\n",
        "#출력 : 8 <class 'int'>\n",
        "print(p.size(), type(p.size()))  # 텐서의 전체 요소 수와 그 타입을 출력\n",
        "#출력 : torch.Size([6]) <class 'torch.Size'>\n",
        "print(p.dtype, type(p.dtype))  # 텐서의 데이터 타입과 그 타입을 출력\n",
        "#출력 :\n",
        "\n"
      ],
      "metadata": {
        "colab": {
          "base_uri": "https://localhost:8080/"
        },
        "id": "9y5VCnnh2P5g",
        "outputId": "a2716c36-8da3-4440-f289-b448c714f956"
      },
      "execution_count": null,
      "outputs": [
        {
          "output_type": "stream",
          "name": "stdout",
          "text": [
            "1 <class 'int'>\n",
            "torch.Size([6]) <class 'torch.Size'>\n",
            "8 <class 'int'>\n",
            "torch.Size([6]) <class 'torch.Size'>\n",
            "torch.int64 <class 'torch.dtype'>\n"
          ]
        }
      ]
    },
    {
      "cell_type": "code",
      "source": [
        "print(np.array([1.,2.,3.]).dtype)\n",
        "print(np.array([1,2,3]).dtype)\n",
        "print(tf.constant([1.,2.,3.]).dtype)\n",
        "print(tf.constant([1,2,3]).dtype)\n",
        "print(torch.tensor([1.,2.,3.]).dtype)\n",
        "print(torch.tensor([1,2,3]).dtype)\n",
        "\n"
      ],
      "metadata": {
        "colab": {
          "base_uri": "https://localhost:8080/"
        },
        "id": "1a3xyFLV26R3",
        "outputId": "64077a37-a8e9-4d3e-f62a-dbb6fcde557c"
      },
      "execution_count": null,
      "outputs": [
        {
          "output_type": "stream",
          "name": "stdout",
          "text": [
            "float64\n",
            "int64\n",
            "<dtype: 'float32'>\n",
            "<dtype: 'int32'>\n",
            "torch.float32\n",
            "torch.int64\n"
          ]
        }
      ]
    },
    {
      "cell_type": "code",
      "source": [
        "# 중첩 리스트를 통해 다차원 배열 생성\n",
        "a = np.array([range(i, i+3) for i in [2, 4, 6]])\n",
        "\n",
        "print(a.ndim)  # 배열의 차원 수 출력\n",
        "print(a.shape)  # 배열의 shape 출력\n",
        "print(a.itemsize)  # 배열의 요소 하나의 크기(바이트 단위) 출력\n",
        "print(a.size)  # 배열의 전체 요소 수 출력\n",
        "print(a.dtype)  # 배열의 데이터 타입 출력\n",
        "\n",
        "a  # 배열 자체를 출력\n"
      ],
      "metadata": {
        "colab": {
          "base_uri": "https://localhost:8080/"
        },
        "id": "yqU1URwc3X-m",
        "outputId": "bbd213aa-3061-41cd-e31e-dbcc381dd31e"
      },
      "execution_count": null,
      "outputs": [
        {
          "output_type": "stream",
          "name": "stdout",
          "text": [
            "2\n",
            "(3, 3)\n",
            "8\n",
            "9\n",
            "int64\n"
          ]
        },
        {
          "output_type": "execute_result",
          "data": {
            "text/plain": [
              "array([[2, 3, 4],\n",
              "       [4, 5, 6],\n",
              "       [6, 7, 8]])"
            ]
          },
          "metadata": {},
          "execution_count": 13
        }
      ]
    },
    {
      "cell_type": "code",
      "source": [
        "tensor = tf.constant(a)\n",
        "print(tf.rank(tensor))\n",
        "print(tensor.ndim)\n",
        "# print(tensor.itemsize)  #error. not supported\n",
        "# print(tensor.size)      #error. not supported\n",
        "print(tensor.dtype)\n",
        "tensor"
      ],
      "metadata": {
        "id": "kzBBmAvB4Vbn",
        "colab": {
          "base_uri": "https://localhost:8080/"
        },
        "outputId": "c5dae445-9487-4be6-c491-c1574ed50b72"
      },
      "execution_count": null,
      "outputs": [
        {
          "output_type": "stream",
          "name": "stdout",
          "text": [
            "tf.Tensor(2, shape=(), dtype=int32)\n",
            "2\n",
            "<dtype: 'int64'>\n"
          ]
        },
        {
          "output_type": "execute_result",
          "data": {
            "text/plain": [
              "<tf.Tensor: shape=(3, 3), dtype=int64, numpy=\n",
              "array([[2, 3, 4],\n",
              "       [4, 5, 6],\n",
              "       [6, 7, 8]])>"
            ]
          },
          "metadata": {},
          "execution_count": 14
        }
      ]
    },
    {
      "cell_type": "code",
      "source": [
        "p = torch.tensor(a)\n",
        "print(p.ndim)\n",
        "print(p.shape)\n",
        "print(p.itemsize)\n",
        "print(p.size())    # not attribute but method\n",
        "print(p.dtype)\n",
        "p"
      ],
      "metadata": {
        "colab": {
          "base_uri": "https://localhost:8080/"
        },
        "id": "WfjegoSu1-UM",
        "outputId": "47d11a6e-4e49-4973-990c-166d6e88151b"
      },
      "execution_count": null,
      "outputs": [
        {
          "output_type": "stream",
          "name": "stdout",
          "text": [
            "2\n",
            "torch.Size([3, 3])\n",
            "8\n",
            "torch.Size([3, 3])\n",
            "torch.int64\n"
          ]
        },
        {
          "output_type": "execute_result",
          "data": {
            "text/plain": [
              "tensor([[2, 3, 4],\n",
              "        [4, 5, 6],\n",
              "        [6, 7, 8]])"
            ]
          },
          "metadata": {},
          "execution_count": 15
        }
      ]
    },
    {
      "cell_type": "markdown",
      "source": [
        "# 1-2. tensor를 특정값으로 **초기화하기**"
      ],
      "metadata": {
        "id": "gG_A267ksX0E"
      }
    },
    {
      "cell_type": "code",
      "source": [
        "a = np.zeros((3,2))\n",
        "# a = np.zeros(shape=(4,4),dtype=np.unit8)\n",
        "print(a.dtype)\n",
        "a"
      ],
      "metadata": {
        "colab": {
          "base_uri": "https://localhost:8080/"
        },
        "id": "pwWorOIQ42Fn",
        "outputId": "d588651e-74bc-4ee9-d992-81cce2a9ce1c"
      },
      "execution_count": null,
      "outputs": [
        {
          "output_type": "stream",
          "name": "stdout",
          "text": [
            "float64\n"
          ]
        },
        {
          "output_type": "execute_result",
          "data": {
            "text/plain": [
              "array([[0., 0.],\n",
              "       [0., 0.],\n",
              "       [0., 0.]])"
            ]
          },
          "metadata": {},
          "execution_count": 17
        }
      ]
    },
    {
      "cell_type": "code",
      "source": [
        "a_tf = tf.zeros(shape=(3,2))\n",
        "print(a_tf.dtype)\n",
        "a_tf\n",
        "#a_tf.numpy()"
      ],
      "metadata": {
        "colab": {
          "base_uri": "https://localhost:8080/"
        },
        "id": "pgHwUKaz5Xer",
        "outputId": "29187af4-630d-4664-f0af-3eb0e2b55222"
      },
      "execution_count": null,
      "outputs": [
        {
          "output_type": "stream",
          "name": "stdout",
          "text": [
            "<dtype: 'float32'>\n"
          ]
        },
        {
          "output_type": "execute_result",
          "data": {
            "text/plain": [
              "<tf.Tensor: shape=(3, 2), dtype=float32, numpy=\n",
              "array([[0., 0.],\n",
              "       [0., 0.],\n",
              "       [0., 0.]], dtype=float32)>"
            ]
          },
          "metadata": {},
          "execution_count": 18
        }
      ]
    },
    {
      "cell_type": "code",
      "source": [
        "a_tf.numpy() #다시 numpy의 array로\n"
      ],
      "metadata": {
        "colab": {
          "base_uri": "https://localhost:8080/"
        },
        "id": "4NT6EeO16OJL",
        "outputId": "52d50eae-5e39-41ee-893c-98d37d7f69c3"
      },
      "execution_count": null,
      "outputs": [
        {
          "output_type": "execute_result",
          "data": {
            "text/plain": [
              "array([[0., 0.],\n",
              "       [0., 0.],\n",
              "       [0., 0.]], dtype=float32)"
            ]
          },
          "metadata": {},
          "execution_count": 19
        }
      ]
    },
    {
      "cell_type": "code",
      "source": [
        "p = torch.zeros(size=(3,2))\n",
        "print(p.dtype)\n",
        "p"
      ],
      "metadata": {
        "colab": {
          "base_uri": "https://localhost:8080/"
        },
        "id": "jhq6XwT16dhp",
        "outputId": "54a07869-29f0-4bb1-c676-83c72bb2281e"
      },
      "execution_count": null,
      "outputs": [
        {
          "output_type": "stream",
          "name": "stdout",
          "text": [
            "torch.float32\n"
          ]
        },
        {
          "output_type": "execute_result",
          "data": {
            "text/plain": [
              "tensor([[0., 0.],\n",
              "        [0., 0.],\n",
              "        [0., 0.]])"
            ]
          },
          "metadata": {},
          "execution_count": 5
        }
      ]
    },
    {
      "cell_type": "code",
      "source": [
        "a = np.ones((4,2,3))\n",
        "print(a.dtype)\n",
        "a\n"
      ],
      "metadata": {
        "colab": {
          "base_uri": "https://localhost:8080/"
        },
        "id": "R0E0pNFh60k5",
        "outputId": "db55f95c-95a8-4f7c-e23f-3d5379042e61"
      },
      "execution_count": null,
      "outputs": [
        {
          "output_type": "stream",
          "name": "stdout",
          "text": [
            "float64\n"
          ]
        },
        {
          "output_type": "execute_result",
          "data": {
            "text/plain": [
              "array([[[1., 1., 1.],\n",
              "        [1., 1., 1.]],\n",
              "\n",
              "       [[1., 1., 1.],\n",
              "        [1., 1., 1.]],\n",
              "\n",
              "       [[1., 1., 1.],\n",
              "        [1., 1., 1.]],\n",
              "\n",
              "       [[1., 1., 1.],\n",
              "        [1., 1., 1.]]])"
            ]
          },
          "metadata": {},
          "execution_count": 21
        }
      ]
    },
    {
      "cell_type": "code",
      "source": [
        "a_tf = tf.ones(shape=(4,2,3))\n",
        "# a_tf = tf.ones((4,2), dtype=tf.int64)\n",
        "print(a_tf.dtype)\n",
        "a_tf"
      ],
      "metadata": {
        "id": "oa8m88X93lgb"
      },
      "execution_count": null,
      "outputs": []
    },
    {
      "cell_type": "code",
      "source": [
        "xxx = np.eye(3)  # eye: 단위 행렬(identity matrix)을 생성하는 함수. 단위 행렬은 대각선 요소가 모두 1이고, 나머지 요소가 모두 0인 정방 행렬\n",
        "print(xxx.dtype)\n",
        "xxx"
      ],
      "metadata": {
        "colab": {
          "base_uri": "https://localhost:8080/"
        },
        "id": "52OBXjV96_8L",
        "outputId": "3f43c8cb-3b06-4f4e-cf2a-d14c4a4a7ea5"
      },
      "execution_count": null,
      "outputs": [
        {
          "output_type": "stream",
          "name": "stdout",
          "text": [
            "float64\n"
          ]
        },
        {
          "output_type": "execute_result",
          "data": {
            "text/plain": [
              "array([[1., 0., 0.],\n",
              "       [0., 1., 0.],\n",
              "       [0., 0., 1.]])"
            ]
          },
          "metadata": {},
          "execution_count": 22
        }
      ]
    },
    {
      "cell_type": "code",
      "source": [
        "a = np.full((1,3),255)  # full: 지정된 형태와 값으로 배열을 생성하는 함수. 여기서(1, 3) 크기의 배열을 생성하고, 모든 요소를 255로 채움\n",
        "print(a.dtype)\n",
        "a"
      ],
      "metadata": {
        "colab": {
          "base_uri": "https://localhost:8080/"
        },
        "id": "tV_DCJDm7cyC",
        "outputId": "8fbb48b1-a6ab-4e6d-bd82-2c990d6264f5"
      },
      "execution_count": null,
      "outputs": [
        {
          "output_type": "stream",
          "name": "stdout",
          "text": [
            "int64\n"
          ]
        },
        {
          "output_type": "execute_result",
          "data": {
            "text/plain": [
              "array([[255, 255, 255]])"
            ]
          },
          "metadata": {},
          "execution_count": 23
        }
      ]
    },
    {
      "cell_type": "markdown",
      "source": [
        "numpy와 유사함!"
      ],
      "metadata": {
        "id": "QHzBBSNO8Im3"
      }
    },
    {
      "cell_type": "code",
      "source": [
        "a_tf = tf.fill((1,3),255) # not full, but fill\n",
        "print(a_tf.dtype) #default int32\n",
        "a_tf"
      ],
      "metadata": {
        "colab": {
          "base_uri": "https://localhost:8080/"
        },
        "id": "x_jqx6W_7l1v",
        "outputId": "c09f1aaf-2029-4ac8-9e01-3c06dc173550"
      },
      "execution_count": null,
      "outputs": [
        {
          "output_type": "stream",
          "name": "stdout",
          "text": [
            "<dtype: 'int32'>\n"
          ]
        },
        {
          "output_type": "execute_result",
          "data": {
            "text/plain": [
              "<tf.Tensor: shape=(1, 3), dtype=int32, numpy=array([[255, 255, 255]], dtype=int32)>"
            ]
          },
          "metadata": {},
          "execution_count": 24
        }
      ]
    },
    {
      "cell_type": "code",
      "source": [
        "p = torch.full((1,3),255)\n",
        "print(p.dtype)\n",
        "p"
      ],
      "metadata": {
        "colab": {
          "base_uri": "https://localhost:8080/"
        },
        "id": "G7r49J3J3641",
        "outputId": "9ace8a2b-c2d9-4d94-cd49-2d2b1eda3e18"
      },
      "execution_count": null,
      "outputs": [
        {
          "output_type": "stream",
          "name": "stdout",
          "text": [
            "torch.int64\n"
          ]
        },
        {
          "output_type": "execute_result",
          "data": {
            "text/plain": [
              "tensor([[255, 255, 255]])"
            ]
          },
          "metadata": {},
          "execution_count": 16
        }
      ]
    },
    {
      "cell_type": "markdown",
      "source": [
        "텐서플로우와 넘파이의 차이점! full과 fill"
      ],
      "metadata": {
        "id": "Inak78Sn8Nr8"
      }
    },
    {
      "cell_type": "code",
      "source": [],
      "metadata": {
        "id": "u9QuYJ3b8F8p"
      },
      "execution_count": null,
      "outputs": []
    },
    {
      "cell_type": "markdown",
      "source": [
        "# 1-3. 기존의 tensor와 같은 shape의 새로운 tensor생성"
      ],
      "metadata": {
        "id": "JdpgNZ0G8VDC"
      }
    },
    {
      "cell_type": "markdown",
      "source": [
        "- 기존의 ndarray와 같은 shape를 가지는 ndarray 생성 (torch의 tensor도 유사.)\n",
        "  * zeros_like, ones_like, and full_like\n",
        "- tf의 경우는 다음과 같음.\n",
        "  * zeoros_like, ones_like, and fill"
      ],
      "metadata": {
        "id": "MBqODsHm8cm0"
      }
    },
    {
      "cell_type": "code",
      "source": [
        "s = np.array([[1,2,3],[4,5,6]])\n",
        "print(s.shape, a.dtype)\n",
        "\n",
        "a = np.zeros_like(s)\n",
        "print(a.shape, a.dtype)\n",
        "a\n"
      ],
      "metadata": {
        "colab": {
          "base_uri": "https://localhost:8080/"
        },
        "id": "ebATacCb84jJ",
        "outputId": "2279c626-fd00-4777-85cd-1332071980e5"
      },
      "execution_count": null,
      "outputs": [
        {
          "output_type": "stream",
          "name": "stdout",
          "text": [
            "(2, 3) int64\n",
            "(2, 3) int64\n"
          ]
        },
        {
          "output_type": "execute_result",
          "data": {
            "text/plain": [
              "array([[0, 0, 0],\n",
              "       [0, 0, 0]])"
            ]
          },
          "metadata": {},
          "execution_count": 18
        }
      ]
    },
    {
      "cell_type": "code",
      "source": [
        "a = np.ones_like(s)\n",
        "print(a.shape, a.dtype)\n",
        "a"
      ],
      "metadata": {
        "colab": {
          "base_uri": "https://localhost:8080/"
        },
        "id": "TN_fTYNz4Kqb",
        "outputId": "a7afa329-a2c0-4670-dc83-311f2db762eb"
      },
      "execution_count": null,
      "outputs": [
        {
          "output_type": "stream",
          "name": "stdout",
          "text": [
            "(2, 3) int64\n"
          ]
        },
        {
          "output_type": "execute_result",
          "data": {
            "text/plain": [
              "array([[1, 1, 1],\n",
              "       [1, 1, 1]])"
            ]
          },
          "metadata": {},
          "execution_count": 19
        }
      ]
    },
    {
      "cell_type": "code",
      "source": [
        "a = np.full_like(s,3.0)\n",
        "print(a.dtype)\n",
        "a"
      ],
      "metadata": {
        "colab": {
          "base_uri": "https://localhost:8080/"
        },
        "id": "jVUfLf_U4SL6",
        "outputId": "f338830f-420e-4d9e-8aaa-e733210e7b2c"
      },
      "execution_count": null,
      "outputs": [
        {
          "output_type": "stream",
          "name": "stdout",
          "text": [
            "int64\n"
          ]
        },
        {
          "output_type": "execute_result",
          "data": {
            "text/plain": [
              "array([[3, 3, 3],\n",
              "       [3, 3, 3]])"
            ]
          },
          "metadata": {},
          "execution_count": 20
        }
      ]
    },
    {
      "cell_type": "code",
      "source": [
        "a = tf.fill(s.shape,3.0) # there is not fill_like\n",
        "print(a.dtype)\n",
        "a"
      ],
      "metadata": {
        "colab": {
          "base_uri": "https://localhost:8080/"
        },
        "id": "MWSRTvmn5F3m",
        "outputId": "edab2551-ecca-423f-9280-27199c697389"
      },
      "execution_count": null,
      "outputs": [
        {
          "output_type": "stream",
          "name": "stdout",
          "text": [
            "<dtype: 'float32'>\n"
          ]
        },
        {
          "output_type": "execute_result",
          "data": {
            "text/plain": [
              "<tf.Tensor: shape=(2, 3), dtype=float32, numpy=\n",
              "array([[3., 3., 3.],\n",
              "       [3., 3., 3.]], dtype=float32)>"
            ]
          },
          "metadata": {},
          "execution_count": 21
        }
      ]
    },
    {
      "cell_type": "markdown",
      "source": [
        "# 1-4. 기타 다른 tensor 생성 방법들."
      ],
      "metadata": {
        "id": "uvGPAwR89ZY-"
      }
    },
    {
      "cell_type": "code",
      "source": [
        "print(range(0,10,1)) #range(start, stop, step)\n",
        "print(np.arange(0,1,0.1))\n",
        "\n",
        "list(range(0,10,1)) # range(0,10,1)을 보기 위한 방법"
      ],
      "metadata": {
        "colab": {
          "base_uri": "https://localhost:8080/"
        },
        "id": "PXbGSRHi9fC8",
        "outputId": "7edb8789-9502-4ffe-c4d3-e07586d4ad61"
      },
      "execution_count": null,
      "outputs": [
        {
          "output_type": "stream",
          "name": "stdout",
          "text": [
            "range(0, 10)\n",
            "[0.  0.1 0.2 0.3 0.4 0.5 0.6 0.7 0.8 0.9]\n"
          ]
        },
        {
          "output_type": "execute_result",
          "data": {
            "text/plain": [
              "[0, 1, 2, 3, 4, 5, 6, 7, 8, 9]"
            ]
          },
          "metadata": {},
          "execution_count": 22
        }
      ]
    },
    {
      "cell_type": "code",
      "source": [
        "a = np.arange(0,24,2).reshape(3,4)\n",
        "print(a.dtype)\n",
        "a\n"
      ],
      "metadata": {
        "colab": {
          "base_uri": "https://localhost:8080/"
        },
        "id": "5lCkI2CG9ois",
        "outputId": "352acaa4-86b8-4b7f-d217-03b114063931"
      },
      "execution_count": null,
      "outputs": [
        {
          "output_type": "stream",
          "name": "stdout",
          "text": [
            "int64\n"
          ]
        },
        {
          "output_type": "execute_result",
          "data": {
            "text/plain": [
              "array([[ 0,  2,  4,  6],\n",
              "       [ 8, 10, 12, 14],\n",
              "       [16, 18, 20, 22]])"
            ]
          },
          "metadata": {},
          "execution_count": 28
        }
      ]
    },
    {
      "cell_type": "code",
      "source": [
        "a_tf = tf.constant(tf.range(0,6,0.5),shape=(3,4))\n",
        "print(a_tf.dtype)\n",
        "a_tf"
      ],
      "metadata": {
        "colab": {
          "base_uri": "https://localhost:8080/"
        },
        "id": "2a6zg-1x97gc",
        "outputId": "b793694a-c005-4db3-b0b7-71a6215c2cbe"
      },
      "execution_count": null,
      "outputs": [
        {
          "output_type": "stream",
          "name": "stdout",
          "text": [
            "<dtype: 'float32'>\n"
          ]
        },
        {
          "output_type": "execute_result",
          "data": {
            "text/plain": [
              "<tf.Tensor: shape=(3, 4), dtype=float32, numpy=\n",
              "array([[0. , 0.5, 1. , 1.5],\n",
              "       [2. , 2.5, 3. , 3.5],\n",
              "       [4. , 4.5, 5. , 5.5]], dtype=float32)>"
            ]
          },
          "metadata": {},
          "execution_count": 29
        }
      ]
    },
    {
      "cell_type": "code",
      "source": [
        "a = np.linspace(1,5,6) #numpy.linspace 함수는 시작 값과 끝 값 사이에서 지정된 수의 요소를 가진 배열을 생성\n",
        "print(a.dtype)\n",
        "print(a)\n",
        "a_tf = tf.linspace(1,5,6)\n",
        "print(a_tf.dtype)\n",
        "b_tf = tf.dtypes.cast(a_tf,tf.float32) #a_tf라는 텐서를 tf.float32로 변환하여 새로운 텐서 b_tf에 저장\n",
        "print(b_tf.dtype)\n",
        "print(b_tf)\n",
        "a_torch = torch.linspace(1,5,6)\n",
        "print(a_torch.dtype)\n",
        "print(a_torch)"
      ],
      "metadata": {
        "colab": {
          "base_uri": "https://localhost:8080/"
        },
        "id": "cK5o4Ozr-Hx7",
        "outputId": "8fcb5940-9bf2-4ecd-cb2e-8012b1c8f977"
      },
      "execution_count": null,
      "outputs": [
        {
          "output_type": "stream",
          "name": "stdout",
          "text": [
            "float64\n",
            "[1.  1.8 2.6 3.4 4.2 5. ]\n",
            "<dtype: 'float64'>\n",
            "<dtype: 'float32'>\n",
            "tf.Tensor([1.  1.8 2.6 3.4 4.2 5. ], shape=(6,), dtype=float32)\n",
            "torch.float32\n",
            "tensor([1.0000, 1.8000, 2.6000, 3.4000, 4.2000, 5.0000])\n"
          ]
        }
      ]
    },
    {
      "cell_type": "code",
      "source": [
        "a = np.eye(5)\n",
        "print(a.dtype)\n",
        "print(a)\n",
        "a_tf = tf.eye(5)\n",
        "print(a_tf.dtype)\n",
        "print(a_tf)\n",
        "a_torch = torch.eye(5)\n",
        "print(a_torch.dtype)\n",
        "print(a_torch)"
      ],
      "metadata": {
        "colab": {
          "base_uri": "https://localhost:8080/"
        },
        "id": "cY80d3FzG1oj",
        "outputId": "bd9a6f50-3833-4746-844f-cd640718544f"
      },
      "execution_count": null,
      "outputs": [
        {
          "output_type": "stream",
          "name": "stdout",
          "text": [
            "float64\n",
            "[[1. 0. 0. 0. 0.]\n",
            " [0. 1. 0. 0. 0.]\n",
            " [0. 0. 1. 0. 0.]\n",
            " [0. 0. 0. 1. 0.]\n",
            " [0. 0. 0. 0. 1.]]\n",
            "<dtype: 'float32'>\n",
            "tf.Tensor(\n",
            "[[1. 0. 0. 0. 0.]\n",
            " [0. 1. 0. 0. 0.]\n",
            " [0. 0. 1. 0. 0.]\n",
            " [0. 0. 0. 1. 0.]\n",
            " [0. 0. 0. 0. 1.]], shape=(5, 5), dtype=float32)\n",
            "torch.float32\n",
            "tensor([[1., 0., 0., 0., 0.],\n",
            "        [0., 1., 0., 0., 0.],\n",
            "        [0., 0., 1., 0., 0.],\n",
            "        [0., 0., 0., 1., 0.],\n",
            "        [0., 0., 0., 0., 1.]])\n"
          ]
        }
      ]
    },
    {
      "cell_type": "code",
      "source": [
        "# empty는 사용 비추, 초기화된 배열 생성인듯함.\n",
        "a = np.empty((4,2))\n",
        "print(a.dtype)\n",
        "print(a)\n",
        "\n",
        "# a_tf = tf.empty((4,2)) # not working. 초기화하지 않은 배열 생성.\n",
        "# print(a_tf.dtype)\n",
        "# print(a_tf)\n",
        "\n",
        "a_torch = torch.empty((4,2))\n",
        "print(a_torch.dtype)\n",
        "print(a_torch)"
      ],
      "metadata": {
        "colab": {
          "base_uri": "https://localhost:8080/"
        },
        "id": "bl-0azrn_J3X",
        "outputId": "40196575-9aba-4a66-b87e-ccda28e2eb41"
      },
      "execution_count": null,
      "outputs": [
        {
          "output_type": "stream",
          "name": "stdout",
          "text": [
            "float64\n",
            "[[4.64265017e-310 0.00000000e+000]\n",
            " [0.00000000e+000 0.00000000e+000]\n",
            " [0.00000000e+000 0.00000000e+000]\n",
            " [0.00000000e+000 0.00000000e+000]]\n",
            "torch.float32\n",
            "tensor([[-7.2286e+22,  3.0653e-41],\n",
            "        [-7.2497e+22,  3.0653e-41],\n",
            "        [ 0.0000e+00,  1.8750e+00],\n",
            "        [ 0.0000e+00,  1.8750e+00]])\n"
          ]
        }
      ]
    },
    {
      "cell_type": "markdown",
      "source": [
        "# **# 1-5.  난수로 구성된 tensor 생성.**\n",
        "\n",
        "\n",
        "\n",
        "- numpy.random 와 torch\n",
        "  * rand([d0 [,d1 [...,dn]) : 0~1 사이의 수들이 균일한 확률로 선택되어 반환됨.\n",
        "      * d0, ..., dn : 난수로 구성된 ndarray의 shape를 지정하는 데 사용됨\n",
        "  * randn([d0 [,d1 [..., dn]) : μ = 0, σ=1인 정규분포를 따르는 난수 반환.\n",
        "- tensorflow\n",
        "  * random.uniform(shape, minval, maxval)\n",
        "  * random.normal(shape, mean, stddev)"
      ],
      "metadata": {
        "id": "MRCUxxvm_3gA"
      }
    },
    {
      "cell_type": "code",
      "source": [
        "A = np. random.rand(3,4)\n",
        "print(A.dtype)\n",
        "A\n"
      ],
      "metadata": {
        "colab": {
          "base_uri": "https://localhost:8080/"
        },
        "id": "fYcZaE8p_u-3",
        "outputId": "3c165c5a-3aaa-4885-e734-d8173873d474"
      },
      "execution_count": null,
      "outputs": [
        {
          "output_type": "stream",
          "name": "stdout",
          "text": [
            "float64\n"
          ]
        },
        {
          "output_type": "execute_result",
          "data": {
            "text/plain": [
              "array([[0.79468726, 0.16109724, 0.01969602, 0.03898816],\n",
              "       [0.4362321 , 0.55547089, 0.15572804, 0.92560364],\n",
              "       [0.56268864, 0.56687295, 0.71376493, 0.37828509]])"
            ]
          },
          "metadata": {},
          "execution_count": 25
        }
      ]
    },
    {
      "cell_type": "code",
      "source": [
        "A_tf = tf.random.uniform(shape=(3,4), minval=0., maxval=1. )\n",
        "A_tf"
      ],
      "metadata": {
        "colab": {
          "base_uri": "https://localhost:8080/"
        },
        "id": "8RTtdMYbHHlO",
        "outputId": "f38874e4-d2e1-4919-8ced-63db0c1097ab"
      },
      "execution_count": null,
      "outputs": [
        {
          "output_type": "execute_result",
          "data": {
            "text/plain": [
              "<tf.Tensor: shape=(3, 4), dtype=float32, numpy=\n",
              "array([[0.01614976, 0.48922908, 0.5470562 , 0.53139293],\n",
              "       [0.41002715, 0.9687065 , 0.5386946 , 0.58146036],\n",
              "       [0.64093673, 0.49958086, 0.5709137 , 0.9310522 ]], dtype=float32)>"
            ]
          },
          "metadata": {},
          "execution_count": 26
        }
      ]
    },
    {
      "cell_type": "code",
      "source": [
        "A_torch = torch.rand(3,4)\n",
        "print(A_torch.dtype)\n",
        "A_torch"
      ],
      "metadata": {
        "colab": {
          "base_uri": "https://localhost:8080/"
        },
        "id": "c_QtedxpHJrE",
        "outputId": "f8f74b79-3d62-4d5b-a3d5-85a150917cc6"
      },
      "execution_count": null,
      "outputs": [
        {
          "output_type": "stream",
          "name": "stdout",
          "text": [
            "torch.float32\n"
          ]
        },
        {
          "output_type": "execute_result",
          "data": {
            "text/plain": [
              "tensor([[0.5446, 0.7324, 0.0792, 0.3030],\n",
              "        [0.2722, 0.5059, 0.0913, 0.7001],\n",
              "        [0.4911, 0.6304, 0.3590, 0.5644]])"
            ]
          },
          "metadata": {},
          "execution_count": 27
        }
      ]
    },
    {
      "cell_type": "code",
      "source": [
        "A = np.random.randn(3,4) #normal distribution of which parameters are mean and standard deviation.\n",
        "print(A.shape)\n",
        "print(np.mean(A),np.std(A))\n",
        "A"
      ],
      "metadata": {
        "colab": {
          "base_uri": "https://localhost:8080/"
        },
        "id": "bncI1ZvMHMBp",
        "outputId": "5ab971a9-f9b4-4f61-fb96-73520cb4e5ed"
      },
      "execution_count": null,
      "outputs": [
        {
          "output_type": "stream",
          "name": "stdout",
          "text": [
            "(3, 4)\n",
            "-0.13274496606150715 1.0464429017838577\n"
          ]
        },
        {
          "output_type": "execute_result",
          "data": {
            "text/plain": [
              "array([[-0.39530039, -0.71238713, -0.28439351,  0.60160549],\n",
              "       [-0.2339714 ,  0.69515375, -1.45023146,  0.56493073],\n",
              "       [ 0.66322011,  1.85584945, -0.67296407, -2.22445115]])"
            ]
          },
          "metadata": {},
          "execution_count": 28
        }
      ]
    },
    {
      "cell_type": "code",
      "source": [
        "A_tf = tf.random.normal(shape=(3,4),mean=0., stddev=1.0)\n",
        "print(A_tf.shape)\n",
        "print(tf.math.reduce_mean(A_tf),tf.math.reduce_std(A_tf))\n",
        "A_tf\n"
      ],
      "metadata": {
        "colab": {
          "base_uri": "https://localhost:8080/"
        },
        "id": "sJr7Hd71HOHf",
        "outputId": "291afe03-885d-4e30-8a48-e82f3b52d29a"
      },
      "execution_count": null,
      "outputs": [
        {
          "output_type": "stream",
          "name": "stdout",
          "text": [
            "(3, 4)\n",
            "tf.Tensor(-0.21457392, shape=(), dtype=float32) tf.Tensor(0.83589256, shape=(), dtype=float32)\n"
          ]
        },
        {
          "output_type": "execute_result",
          "data": {
            "text/plain": [
              "<tf.Tensor: shape=(3, 4), dtype=float32, numpy=\n",
              "array([[ 1.4692371e-01,  3.5444662e-02, -9.5163059e-01,  9.0270841e-01],\n",
              "       [-1.2668747e+00,  9.3757480e-01,  1.7390382e-03, -5.2837539e-01],\n",
              "       [ 4.0687418e-01, -5.9811950e-01,  2.9360521e-01, -1.9547569e+00]],\n",
              "      dtype=float32)>"
            ]
          },
          "metadata": {},
          "execution_count": 29
        }
      ]
    },
    {
      "cell_type": "code",
      "source": [
        "A_torch = torch.randn(3,4)\n",
        "print(A_torch.dtype)\n",
        "print(torch.mean(A_torch),torch.std(A_torch))\n",
        "A_torch"
      ],
      "metadata": {
        "colab": {
          "base_uri": "https://localhost:8080/"
        },
        "id": "HypeFyICHQ4E",
        "outputId": "61552969-bdbe-48b6-e9ae-28725f28ab8b"
      },
      "execution_count": null,
      "outputs": [
        {
          "output_type": "stream",
          "name": "stdout",
          "text": [
            "torch.float32\n",
            "tensor(0.1543) tensor(0.7310)\n"
          ]
        },
        {
          "output_type": "execute_result",
          "data": {
            "text/plain": [
              "tensor([[ 0.3985,  0.3914, -0.2638, -0.6972],\n",
              "        [ 1.0801, -0.1166, -0.5902,  0.3724],\n",
              "        [ 0.7069,  1.5204, -0.0471, -0.9030]])"
            ]
          },
          "metadata": {},
          "execution_count": 30
        }
      ]
    }
  ]
}