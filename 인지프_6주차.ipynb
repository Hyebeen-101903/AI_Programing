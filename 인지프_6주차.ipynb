{
  "nbformat": 4,
  "nbformat_minor": 0,
  "metadata": {
    "colab": {
      "provenance": [],
      "authorship_tag": "ABX9TyN86VEAzjNUjkeH+fLgIonk",
      "include_colab_link": true
    },
    "kernelspec": {
      "name": "python3",
      "display_name": "Python 3"
    },
    "language_info": {
      "name": "python"
    }
  },
  "cells": [
    {
      "cell_type": "markdown",
      "metadata": {
        "id": "view-in-github",
        "colab_type": "text"
      },
      "source": [
        "<a href=\"https://colab.research.google.com/github/Hyebeen-101903/AI_Programing/blob/main/%EC%9D%B8%EC%A7%80%ED%94%84_6%EC%A3%BC%EC%B0%A8.ipynb\" target=\"_parent\"><img src=\"https://colab.research.google.com/assets/colab-badge.svg\" alt=\"Open In Colab\"/></a>"
      ]
    },
    {
      "cell_type": "code",
      "execution_count": null,
      "metadata": {
        "colab": {
          "base_uri": "https://localhost:8080/"
        },
        "id": "IxGHCs-4pW04",
        "outputId": "6358263f-8790-42c3-b763-477006cc2ac6"
      },
      "outputs": [
        {
          "output_type": "stream",
          "name": "stdout",
          "text": [
            "\n",
            "Usage:   \n",
            "  pip3 install [options] <requirement specifier> [package-index-options] ...\n",
            "  pip3 install [options] -r <requirements file> [package-index-options] ...\n",
            "  pip3 install [options] [-e] <vcs project url> ...\n",
            "  pip3 install [options] [-e] <local project path> ...\n",
            "  pip3 install [options] <archive url/path> ...\n",
            "\n",
            "no such option: --quite\n"
          ]
        }
      ],
      "source": [
        "!pip install --quite torchision"
      ]
    },
    {
      "cell_type": "code",
      "source": [
        "! pip install torchvision"
      ],
      "metadata": {
        "colab": {
          "base_uri": "https://localhost:8080/"
        },
        "id": "nqjYPDGOqdcs",
        "outputId": "db2f8451-a2fc-440f-c599-dc5e4240d64e"
      },
      "execution_count": null,
      "outputs": [
        {
          "output_type": "stream",
          "name": "stdout",
          "text": [
            "Requirement already satisfied: torchvision in /usr/local/lib/python3.10/dist-packages (0.17.1+cu121)\n",
            "Requirement already satisfied: numpy in /usr/local/lib/python3.10/dist-packages (from torchvision) (1.25.2)\n",
            "Requirement already satisfied: torch==2.2.1 in /usr/local/lib/python3.10/dist-packages (from torchvision) (2.2.1+cu121)\n",
            "Requirement already satisfied: pillow!=8.3.*,>=5.3.0 in /usr/local/lib/python3.10/dist-packages (from torchvision) (9.4.0)\n",
            "Requirement already satisfied: filelock in /usr/local/lib/python3.10/dist-packages (from torch==2.2.1->torchvision) (3.13.4)\n",
            "Requirement already satisfied: typing-extensions>=4.8.0 in /usr/local/lib/python3.10/dist-packages (from torch==2.2.1->torchvision) (4.11.0)\n",
            "Requirement already satisfied: sympy in /usr/local/lib/python3.10/dist-packages (from torch==2.2.1->torchvision) (1.12)\n",
            "Requirement already satisfied: networkx in /usr/local/lib/python3.10/dist-packages (from torch==2.2.1->torchvision) (3.3)\n",
            "Requirement already satisfied: jinja2 in /usr/local/lib/python3.10/dist-packages (from torch==2.2.1->torchvision) (3.1.3)\n",
            "Requirement already satisfied: fsspec in /usr/local/lib/python3.10/dist-packages (from torch==2.2.1->torchvision) (2023.6.0)\n",
            "Collecting nvidia-cuda-nvrtc-cu12==12.1.105 (from torch==2.2.1->torchvision)\n",
            "  Using cached nvidia_cuda_nvrtc_cu12-12.1.105-py3-none-manylinux1_x86_64.whl (23.7 MB)\n",
            "Collecting nvidia-cuda-runtime-cu12==12.1.105 (from torch==2.2.1->torchvision)\n",
            "  Using cached nvidia_cuda_runtime_cu12-12.1.105-py3-none-manylinux1_x86_64.whl (823 kB)\n",
            "Collecting nvidia-cuda-cupti-cu12==12.1.105 (from torch==2.2.1->torchvision)\n",
            "  Using cached nvidia_cuda_cupti_cu12-12.1.105-py3-none-manylinux1_x86_64.whl (14.1 MB)\n",
            "Collecting nvidia-cudnn-cu12==8.9.2.26 (from torch==2.2.1->torchvision)\n",
            "  Using cached nvidia_cudnn_cu12-8.9.2.26-py3-none-manylinux1_x86_64.whl (731.7 MB)\n",
            "Collecting nvidia-cublas-cu12==12.1.3.1 (from torch==2.2.1->torchvision)\n",
            "  Using cached nvidia_cublas_cu12-12.1.3.1-py3-none-manylinux1_x86_64.whl (410.6 MB)\n",
            "Collecting nvidia-cufft-cu12==11.0.2.54 (from torch==2.2.1->torchvision)\n",
            "  Using cached nvidia_cufft_cu12-11.0.2.54-py3-none-manylinux1_x86_64.whl (121.6 MB)\n",
            "Collecting nvidia-curand-cu12==10.3.2.106 (from torch==2.2.1->torchvision)\n",
            "  Using cached nvidia_curand_cu12-10.3.2.106-py3-none-manylinux1_x86_64.whl (56.5 MB)\n",
            "Collecting nvidia-cusolver-cu12==11.4.5.107 (from torch==2.2.1->torchvision)\n",
            "  Using cached nvidia_cusolver_cu12-11.4.5.107-py3-none-manylinux1_x86_64.whl (124.2 MB)\n",
            "Collecting nvidia-cusparse-cu12==12.1.0.106 (from torch==2.2.1->torchvision)\n",
            "  Using cached nvidia_cusparse_cu12-12.1.0.106-py3-none-manylinux1_x86_64.whl (196.0 MB)\n",
            "Collecting nvidia-nccl-cu12==2.19.3 (from torch==2.2.1->torchvision)\n",
            "  Using cached nvidia_nccl_cu12-2.19.3-py3-none-manylinux1_x86_64.whl (166.0 MB)\n",
            "Collecting nvidia-nvtx-cu12==12.1.105 (from torch==2.2.1->torchvision)\n",
            "  Using cached nvidia_nvtx_cu12-12.1.105-py3-none-manylinux1_x86_64.whl (99 kB)\n",
            "Requirement already satisfied: triton==2.2.0 in /usr/local/lib/python3.10/dist-packages (from torch==2.2.1->torchvision) (2.2.0)\n",
            "Collecting nvidia-nvjitlink-cu12 (from nvidia-cusolver-cu12==11.4.5.107->torch==2.2.1->torchvision)\n",
            "  Using cached nvidia_nvjitlink_cu12-12.4.127-py3-none-manylinux2014_x86_64.whl (21.1 MB)\n",
            "Requirement already satisfied: MarkupSafe>=2.0 in /usr/local/lib/python3.10/dist-packages (from jinja2->torch==2.2.1->torchvision) (2.1.5)\n",
            "Requirement already satisfied: mpmath>=0.19 in /usr/local/lib/python3.10/dist-packages (from sympy->torch==2.2.1->torchvision) (1.3.0)\n",
            "Installing collected packages: nvidia-nvtx-cu12, nvidia-nvjitlink-cu12, nvidia-nccl-cu12, nvidia-curand-cu12, nvidia-cufft-cu12, nvidia-cuda-runtime-cu12, nvidia-cuda-nvrtc-cu12, nvidia-cuda-cupti-cu12, nvidia-cublas-cu12, nvidia-cusparse-cu12, nvidia-cudnn-cu12, nvidia-cusolver-cu12\n",
            "Successfully installed nvidia-cublas-cu12-12.1.3.1 nvidia-cuda-cupti-cu12-12.1.105 nvidia-cuda-nvrtc-cu12-12.1.105 nvidia-cuda-runtime-cu12-12.1.105 nvidia-cudnn-cu12-8.9.2.26 nvidia-cufft-cu12-11.0.2.54 nvidia-curand-cu12-10.3.2.106 nvidia-cusolver-cu12-11.4.5.107 nvidia-cusparse-cu12-12.1.0.106 nvidia-nccl-cu12-2.19.3 nvidia-nvjitlink-cu12-12.4.127 nvidia-nvtx-cu12-12.1.105\n"
          ]
        }
      ]
    },
    {
      "cell_type": "code",
      "source": [
        "!pip install torchsummary  #모듈의 정보를 보이게 함"
      ],
      "metadata": {
        "colab": {
          "base_uri": "https://localhost:8080/"
        },
        "id": "Y6Ezryn8prub",
        "outputId": "e9bfabdb-6a49-4fe7-946d-10daa34a8889"
      },
      "execution_count": null,
      "outputs": [
        {
          "output_type": "stream",
          "name": "stdout",
          "text": [
            "Requirement already satisfied: torchsummary in /usr/local/lib/python3.10/dist-packages (1.5.1)\n"
          ]
        }
      ]
    },
    {
      "cell_type": "code",
      "source": [
        "import numpy as np\n",
        "import torch"
      ],
      "metadata": {
        "id": "a-Liiudhp3lF"
      },
      "execution_count": null,
      "outputs": []
    },
    {
      "cell_type": "code",
      "source": [
        "x = np.linspace(-10,10,100)\n",
        "y_label = 1.8 * x+32.\n",
        "y = y_label + 5. * np.random.randn((100))\n",
        "\n",
        "import matplotlib.pyplot as plt\n",
        "\n",
        "plt.plot(x,y_label)\n",
        "plt.scatter(x,y)"
      ],
      "metadata": {
        "colab": {
          "base_uri": "https://localhost:8080/",
          "height": 447
        },
        "id": "ic6QIu7wqnei",
        "outputId": "eb3fea70-9178-4fd1-b474-8f355ee84f45"
      },
      "execution_count": null,
      "outputs": [
        {
          "output_type": "execute_result",
          "data": {
            "text/plain": [
              "<matplotlib.collections.PathCollection at 0x7f7bf41674f0>"
            ]
          },
          "metadata": {},
          "execution_count": 7
        },
        {
          "output_type": "display_data",
          "data": {
            "text/plain": [
              "<Figure size 640x480 with 1 Axes>"
            ],
            "image/png": "[encoded data removed]"
          },
          "metadata": {}
        }
      ]
    },
    {
      "cell_type": "code",
      "source": [
        "x = torch.tensor(x).float()\n",
        "y = torch.tensor(y).float()\n",
        "\n",
        "print(x.shape)\n",
        "print(y.shape)"
      ],
      "metadata": {
        "colab": {
          "base_uri": "https://localhost:8080/"
        },
        "id": "N4emaXIrrOWl",
        "outputId": "3215c767-a018-4383-e45a-6fec0b01f498"
      },
      "execution_count": null,
      "outputs": [
        {
          "output_type": "stream",
          "name": "stdout",
          "text": [
            "torch.Size([100])\n",
            "torch.Size([100])\n"
          ]
        }
      ]
    },
    {
      "cell_type": "code",
      "source": [
        "from torch.nn import Module, init, Linear , Parameter, ReLU"
      ],
      "metadata": {
        "id": "73fNW977rsYS"
      },
      "execution_count": null,
      "outputs": []
    },
    {
      "cell_type": "code",
      "source": [
        "Linear.mro() #linear의 계층 구조를 보여줌"
      ],
      "metadata": {
        "colab": {
          "base_uri": "https://localhost:8080/"
        },
        "id": "eI8S_1vpuEAZ",
        "outputId": "10464ef4-28d8-46ad-ff22-40ca8c02eb2f"
      },
      "execution_count": null,
      "outputs": [
        {
          "output_type": "execute_result",
          "data": {
            "text/plain": [
              "[torch.nn.modules.linear.Linear, torch.nn.modules.module.Module, object]"
            ]
          },
          "metadata": {},
          "execution_count": 13
        }
      ]
    },
    {
      "cell_type": "markdown",
      "source": [
        "https://ds31x.tistory.com/236 init_으로 하는 것을 권함"
      ],
      "metadata": {
        "id": "vQyG1zIkw65F"
      }
    },
    {
      "cell_type": "code",
      "source": [
        "class DsLinearModel (Module): #custom module\n",
        "\n",
        "  def __init__(self,n_in_f, n_out_f ): #인스턴스 메소드일때 self 사용\n",
        "    super().__init__()\n",
        "\n",
        "    ##simple approach\n",
        "    # self.l0 = Linear(n_in_f, n_out_f) #l0는 Linear의 인스턴스 (call of?)\n",
        "    # self.l1 = Linear(3, n_out_f)\n",
        "\n",
        "\n",
        "    ##특정 tensor로 초기화하는 방법\n",
        "    # init_w = torch.ones(1,1)\n",
        "    # init_b = torch.zeros(1)\n",
        "    # self.l0 = Linear(n_in_f , n_out_f)\n",
        "    # self.l0.weight = Parameter(init_w)\n",
        "    # self.l0.bias = Parameter(init_b)\n",
        "\n",
        "    self.l0 = Linear(n_in_f,32)\n",
        "    self.relu0 = ReLU()\n",
        "    self.l1 = Linear(32,32)\n",
        "    self.relu1 = ReLU()\n",
        "    self.l2 = Linear(32, n_out_f)\n",
        "    with torch.no_grad():\n",
        "      init.constant_(self.l0.bias,0.)\n",
        "      init.xavier_uniform_(self.l0.weight)\n",
        "\n",
        "\n",
        "  def forward(self,x):\n",
        "    x = self.l0(x)\n",
        "    x = self.relu0(x)\n",
        "    x = self.l1(x)\n",
        "    x = self.relu1(x)\n",
        "    y = self.l2(x)\n",
        "    return y\n"
      ],
      "metadata": {
        "id": "38whjNxau7YD"
      },
      "execution_count": null,
      "outputs": []
    },
    {
      "cell_type": "code",
      "source": [
        "#Linear에 들어있는 weight와 bias를 알고자 할때\n",
        "model = DsLinearModel(1,1)\n",
        "for idx, c in enumerate(model.named_parameters()):\n",
        "  print(idx, c)"
      ],
      "metadata": {
        "colab": {
          "base_uri": "https://localhost:8080/"
        },
        "id": "1iM9Ex6qsv6K",
        "outputId": "b55f1c1d-a355-4b55-8ffa-824df169028e"
      },
      "execution_count": null,
      "outputs": [
        {
          "output_type": "stream",
          "name": "stdout",
          "text": [
            "0 ('l0.weight', Parameter containing:\n",
            "tensor([[ 0.2304],\n",
            "        [-0.3328],\n",
            "        [-0.0716],\n",
            "        [ 0.3805],\n",
            "        [-0.2063],\n",
            "        [-0.0167],\n",
            "        [-0.3073],\n",
            "        [ 0.2919],\n",
            "        [-0.4059],\n",
            "        [-0.1653],\n",
            "        [ 0.2343],\n",
            "        [ 0.1961],\n",
            "        [ 0.1602],\n",
            "        [ 0.1736],\n",
            "        [-0.1245],\n",
            "        [ 0.2348],\n",
            "        [-0.2761],\n",
            "        [ 0.2959],\n",
            "        [ 0.4175],\n",
            "        [-0.2653],\n",
            "        [-0.0448],\n",
            "        [-0.2034],\n",
            "        [-0.2685],\n",
            "        [-0.3621],\n",
            "        [ 0.0941],\n",
            "        [-0.0516],\n",
            "        [-0.3144],\n",
            "        [-0.2224],\n",
            "        [ 0.0567],\n",
            "        [ 0.2587],\n",
            "        [-0.2019],\n",
            "        [-0.1162]], requires_grad=True))\n",
            "1 ('l0.bias', Parameter containing:\n",
            "tensor([0., 0., 0., 0., 0., 0., 0., 0., 0., 0., 0., 0., 0., 0., 0., 0., 0., 0., 0., 0., 0., 0., 0., 0.,\n",
            "        0., 0., 0., 0., 0., 0., 0., 0.], requires_grad=True))\n",
            "2 ('l1.weight', Parameter containing:\n",
            "tensor([[ 0.1506, -0.0292, -0.1716,  ...,  0.1278, -0.0285,  0.0520],\n",
            "        [ 0.0408,  0.1662, -0.0665,  ...,  0.0152,  0.1627, -0.1007],\n",
            "        [-0.0411,  0.0623, -0.0464,  ...,  0.1037,  0.0584,  0.1594],\n",
            "        ...,\n",
            "        [-0.1286, -0.0199,  0.1630,  ...,  0.0576,  0.0515, -0.0036],\n",
            "        [ 0.0770, -0.1181, -0.1658,  ..., -0.1737,  0.1608, -0.1286],\n",
            "        [ 0.1757,  0.0694, -0.1671,  ...,  0.0466,  0.0953,  0.1731]],\n",
            "       requires_grad=True))\n",
            "3 ('l1.bias', Parameter containing:\n",
            "tensor([-0.0118, -0.1576, -0.0820,  0.1431, -0.1639,  0.1654, -0.0591,  0.0080,\n",
            "         0.0317,  0.1126,  0.0241,  0.0426,  0.1167, -0.0961, -0.0111, -0.0253,\n",
            "         0.1189, -0.0456,  0.0931,  0.1323, -0.0078,  0.1597, -0.0974, -0.0642,\n",
            "         0.0954,  0.0743,  0.1032, -0.0556, -0.1085, -0.0314, -0.0765, -0.0097],\n",
            "       requires_grad=True))\n",
            "4 ('l2.weight', Parameter containing:\n",
            "tensor([[ 0.1246, -0.0962,  0.1204,  0.1085,  0.0904,  0.1451, -0.0601,  0.0579,\n",
            "          0.0046, -0.1390, -0.1184,  0.0053,  0.0172,  0.0810, -0.1140, -0.1562,\n",
            "          0.0701, -0.1280, -0.0337, -0.1559, -0.0630, -0.0757,  0.1568,  0.0146,\n",
            "         -0.1015,  0.1254,  0.1132,  0.0900, -0.1439, -0.0346, -0.0315, -0.1018]],\n",
            "       requires_grad=True))\n",
            "5 ('l2.bias', Parameter containing:\n",
            "tensor([-0.0212], requires_grad=True))\n"
          ]
        }
      ]
    },
    {
      "cell_type": "code",
      "source": [
        "for idx, cl in enumerate(model.named_children()):\n",
        "  print(idx, cl)"
      ],
      "metadata": {
        "colab": {
          "base_uri": "https://localhost:8080/"
        },
        "id": "qFaDkpjvverB",
        "outputId": "ffb7b9fb-3619-478c-98dc-1ee69cec9d1b"
      },
      "execution_count": null,
      "outputs": [
        {
          "output_type": "stream",
          "name": "stdout",
          "text": [
            "0 ('l0', Linear(in_features=1, out_features=32, bias=True))\n",
            "1 ('relu0', ReLU())\n",
            "2 ('l1', Linear(in_features=32, out_features=32, bias=True))\n",
            "3 ('relu1', ReLU())\n",
            "4 ('l2', Linear(in_features=32, out_features=1, bias=True))\n"
          ]
        }
      ]
    },
    {
      "cell_type": "code",
      "source": [
        "for idx, modu in enumerate(model.modules()):\n",
        "#for idx modu in enumerate(model.named_modules())\n",
        "  print (idx, modu)"
      ],
      "metadata": {
        "colab": {
          "base_uri": "https://localhost:8080/"
        },
        "id": "wBfMC3Xsv1qB",
        "outputId": "b382778f-de36-45ac-d1ee-13ae2d1d6e3f"
      },
      "execution_count": null,
      "outputs": [
        {
          "output_type": "stream",
          "name": "stdout",
          "text": [
            "0 DsLinearModel(\n",
            "  (l0): Linear(in_features=1, out_features=32, bias=True)\n",
            "  (relu0): ReLU()\n",
            "  (l1): Linear(in_features=32, out_features=32, bias=True)\n",
            "  (relu1): ReLU()\n",
            "  (l2): Linear(in_features=32, out_features=1, bias=True)\n",
            ")\n",
            "1 Linear(in_features=1, out_features=32, bias=True)\n",
            "2 ReLU()\n",
            "3 Linear(in_features=32, out_features=32, bias=True)\n",
            "4 ReLU()\n",
            "5 Linear(in_features=32, out_features=1, bias=True)\n"
          ]
        }
      ]
    },
    {
      "cell_type": "code",
      "source": [
        "x = x.reshape(-1,1)\n",
        "x.shape"
      ],
      "metadata": {
        "colab": {
          "base_uri": "https://localhost:8080/"
        },
        "id": "fXFpwZNPMtAj",
        "outputId": "f04b40ef-0531-4375-e349-84a75be0a36d"
      },
      "execution_count": null,
      "outputs": [
        {
          "output_type": "execute_result",
          "data": {
            "text/plain": [
              "torch.Size([100, 1])"
            ]
          },
          "metadata": {},
          "execution_count": 19
        }
      ]
    },
    {
      "cell_type": "code",
      "source": [
        "y_pred = model(x)"
      ],
      "metadata": {
        "id": "CcNjo13YM2Nb"
      },
      "execution_count": null,
      "outputs": []
    },
    {
      "cell_type": "code",
      "source": [
        "y_pred"
      ],
      "metadata": {
        "colab": {
          "base_uri": "https://localhost:8080/"
        },
        "id": "PtBu-6TtwyX6",
        "outputId": "06ba5dc4-47ca-41d9-d27d-c9730c5d315e"
      },
      "execution_count": null,
      "outputs": [
        {
          "output_type": "execute_result",
          "data": {
            "text/plain": [
              "tensor([[ 2.2762e-01],\n",
              "        [ 2.2309e-01],\n",
              "        [ 2.1856e-01],\n",
              "        [ 2.1402e-01],\n",
              "        [ 2.0949e-01],\n",
              "        [ 2.0496e-01],\n",
              "        [ 2.0042e-01],\n",
              "        [ 1.9589e-01],\n",
              "        [ 1.9136e-01],\n",
              "        [ 1.8682e-01],\n",
              "        [ 1.8229e-01],\n",
              "        [ 1.7775e-01],\n",
              "        [ 1.7322e-01],\n",
              "        [ 1.6869e-01],\n",
              "        [ 1.6415e-01],\n",
              "        [ 1.5962e-01],\n",
              "        [ 1.5509e-01],\n",
              "        [ 1.5055e-01],\n",
              "        [ 1.4602e-01],\n",
              "        [ 1.4149e-01],\n",
              "        [ 1.3695e-01],\n",
              "        [ 1.3242e-01],\n",
              "        [ 1.2750e-01],\n",
              "        [ 1.2241e-01],\n",
              "        [ 1.1732e-01],\n",
              "        [ 1.1224e-01],\n",
              "        [ 1.0715e-01],\n",
              "        [ 1.0206e-01],\n",
              "        [ 9.6968e-02],\n",
              "        [ 9.1879e-02],\n",
              "        [ 8.6790e-02],\n",
              "        [ 8.1701e-02],\n",
              "        [ 7.6612e-02],\n",
              "        [ 7.1523e-02],\n",
              "        [ 6.6434e-02],\n",
              "        [ 6.1345e-02],\n",
              "        [ 5.6256e-02],\n",
              "        [ 5.1166e-02],\n",
              "        [ 4.6077e-02],\n",
              "        [ 4.1008e-02],\n",
              "        [ 3.6006e-02],\n",
              "        [ 2.9400e-02],\n",
              "        [ 2.2750e-02],\n",
              "        [ 1.8113e-02],\n",
              "        [ 1.2012e-02],\n",
              "        [ 7.0843e-03],\n",
              "        [ 5.6720e-04],\n",
              "        [-6.2729e-03],\n",
              "        [-1.2903e-02],\n",
              "        [-1.3129e-02],\n",
              "        [-8.3200e-03],\n",
              "        [ 4.0588e-03],\n",
              "        [ 2.1143e-02],\n",
              "        [ 3.9592e-02],\n",
              "        [ 5.8338e-02],\n",
              "        [ 8.0434e-02],\n",
              "        [ 1.0017e-01],\n",
              "        [ 1.2151e-01],\n",
              "        [ 1.4380e-01],\n",
              "        [ 1.6478e-01],\n",
              "        [ 1.8547e-01],\n",
              "        [ 2.0617e-01],\n",
              "        [ 2.2686e-01],\n",
              "        [ 2.4755e-01],\n",
              "        [ 2.6824e-01],\n",
              "        [ 2.8893e-01],\n",
              "        [ 3.0962e-01],\n",
              "        [ 3.3031e-01],\n",
              "        [ 3.5100e-01],\n",
              "        [ 3.7169e-01],\n",
              "        [ 3.9238e-01],\n",
              "        [ 4.1307e-01],\n",
              "        [ 4.3376e-01],\n",
              "        [ 4.5445e-01],\n",
              "        [ 4.7506e-01],\n",
              "        [ 4.9562e-01],\n",
              "        [ 5.1618e-01],\n",
              "        [ 5.3674e-01],\n",
              "        [ 5.5730e-01],\n",
              "        [ 5.7786e-01],\n",
              "        [ 5.9841e-01],\n",
              "        [ 6.1897e-01],\n",
              "        [ 6.3953e-01],\n",
              "        [ 6.6009e-01],\n",
              "        [ 6.8065e-01],\n",
              "        [ 7.0121e-01],\n",
              "        [ 7.2177e-01],\n",
              "        [ 7.4233e-01],\n",
              "        [ 7.6289e-01],\n",
              "        [ 7.8345e-01],\n",
              "        [ 8.0401e-01],\n",
              "        [ 8.2456e-01],\n",
              "        [ 8.4512e-01],\n",
              "        [ 8.6568e-01],\n",
              "        [ 8.8624e-01],\n",
              "        [ 9.0680e-01],\n",
              "        [ 9.2736e-01],\n",
              "        [ 9.4792e-01],\n",
              "        [ 9.6848e-01],\n",
              "        [ 9.8904e-01]], grad_fn=<AddmmBackward0>)"
            ]
          },
          "metadata": {},
          "execution_count": 21
        }
      ]
    },
    {
      "cell_type": "code",
      "source": [
        "pred = Linear(1,1)(x)"
      ],
      "metadata": {
        "id": "-5f-HRXEM_F5"
      },
      "execution_count": null,
      "outputs": []
    },
    {
      "cell_type": "code",
      "source": [
        "pred"
      ],
      "metadata": {
        "colab": {
          "base_uri": "https://localhost:8080/"
        },
        "id": "Ph-K27lWND8r",
        "outputId": "4bab65ce-e9f9-4c2c-c7f7-40a87be8aa4a"
      },
      "execution_count": null,
      "outputs": [
        {
          "output_type": "execute_result",
          "data": {
            "text/plain": [
              "tensor([[-1.4085],\n",
              "        [-1.3845],\n",
              "        [-1.3604],\n",
              "        [-1.3363],\n",
              "        [-1.3122],\n",
              "        [-1.2881],\n",
              "        [-1.2640],\n",
              "        [-1.2399],\n",
              "        [-1.2158],\n",
              "        [-1.1917],\n",
              "        [-1.1676],\n",
              "        [-1.1435],\n",
              "        [-1.1194],\n",
              "        [-1.0953],\n",
              "        [-1.0712],\n",
              "        [-1.0471],\n",
              "        [-1.0230],\n",
              "        [-0.9989],\n",
              "        [-0.9748],\n",
              "        [-0.9508],\n",
              "        [-0.9267],\n",
              "        [-0.9026],\n",
              "        [-0.8785],\n",
              "        [-0.8544],\n",
              "        [-0.8303],\n",
              "        [-0.8062],\n",
              "        [-0.7821],\n",
              "        [-0.7580],\n",
              "        [-0.7339],\n",
              "        [-0.7098],\n",
              "        [-0.6857],\n",
              "        [-0.6616],\n",
              "        [-0.6375],\n",
              "        [-0.6134],\n",
              "        [-0.5893],\n",
              "        [-0.5652],\n",
              "        [-0.5412],\n",
              "        [-0.5171],\n",
              "        [-0.4930],\n",
              "        [-0.4689],\n",
              "        [-0.4448],\n",
              "        [-0.4207],\n",
              "        [-0.3966],\n",
              "        [-0.3725],\n",
              "        [-0.3484],\n",
              "        [-0.3243],\n",
              "        [-0.3002],\n",
              "        [-0.2761],\n",
              "        [-0.2520],\n",
              "        [-0.2279],\n",
              "        [-0.2038],\n",
              "        [-0.1797],\n",
              "        [-0.1556],\n",
              "        [-0.1315],\n",
              "        [-0.1075],\n",
              "        [-0.0834],\n",
              "        [-0.0593],\n",
              "        [-0.0352],\n",
              "        [-0.0111],\n",
              "        [ 0.0130],\n",
              "        [ 0.0371],\n",
              "        [ 0.0612],\n",
              "        [ 0.0853],\n",
              "        [ 0.1094],\n",
              "        [ 0.1335],\n",
              "        [ 0.1576],\n",
              "        [ 0.1817],\n",
              "        [ 0.2058],\n",
              "        [ 0.2299],\n",
              "        [ 0.2540],\n",
              "        [ 0.2781],\n",
              "        [ 0.3022],\n",
              "        [ 0.3262],\n",
              "        [ 0.3503],\n",
              "        [ 0.3744],\n",
              "        [ 0.3985],\n",
              "        [ 0.4226],\n",
              "        [ 0.4467],\n",
              "        [ 0.4708],\n",
              "        [ 0.4949],\n",
              "        [ 0.5190],\n",
              "        [ 0.5431],\n",
              "        [ 0.5672],\n",
              "        [ 0.5913],\n",
              "        [ 0.6154],\n",
              "        [ 0.6395],\n",
              "        [ 0.6636],\n",
              "        [ 0.6877],\n",
              "        [ 0.7118],\n",
              "        [ 0.7358],\n",
              "        [ 0.7599],\n",
              "        [ 0.7840],\n",
              "        [ 0.8081],\n",
              "        [ 0.8322],\n",
              "        [ 0.8563],\n",
              "        [ 0.8804],\n",
              "        [ 0.9045],\n",
              "        [ 0.9286],\n",
              "        [ 0.9527],\n",
              "        [ 0.9768]], grad_fn=<AddmmBackward0>)"
            ]
          },
          "metadata": {},
          "execution_count": 23
        }
      ]
    },
    {
      "cell_type": "code",
      "source": [
        "y.shape"
      ],
      "metadata": {
        "colab": {
          "base_uri": "https://localhost:8080/"
        },
        "id": "Iowt-YgzNGrU",
        "outputId": "fd07a6ce-fb5b-4048-ddeb-ea466874834e"
      },
      "execution_count": null,
      "outputs": [
        {
          "output_type": "execute_result",
          "data": {
            "text/plain": [
              "torch.Size([100])"
            ]
          },
          "metadata": {},
          "execution_count": 24
        }
      ]
    },
    {
      "cell_type": "code",
      "source": [
        "y = y.reshape(-1,1)\n",
        "y"
      ],
      "metadata": {
        "colab": {
          "base_uri": "https://localhost:8080/"
        },
        "id": "S6f1tkovNLTe",
        "outputId": "9bf7a2e0-e4f2-4c2f-aed4-031926d19725"
      },
      "execution_count": null,
      "outputs": [
        {
          "output_type": "execute_result",
          "data": {
            "text/plain": [
              "tensor([[22.4643],\n",
              "        [ 5.1574],\n",
              "        [ 9.6317],\n",
              "        [ 7.5415],\n",
              "        [12.1551],\n",
              "        [22.5221],\n",
              "        [25.8285],\n",
              "        [18.3280],\n",
              "        [21.7411],\n",
              "        [20.3410],\n",
              "        [19.1268],\n",
              "        [17.8597],\n",
              "        [17.8116],\n",
              "        [22.2666],\n",
              "        [21.9664],\n",
              "        [ 7.2473],\n",
              "        [18.9516],\n",
              "        [14.4772],\n",
              "        [18.5625],\n",
              "        [19.3195],\n",
              "        [12.7656],\n",
              "        [16.8678],\n",
              "        [24.5454],\n",
              "        [19.4745],\n",
              "        [19.0061],\n",
              "        [17.4638],\n",
              "        [33.8762],\n",
              "        [19.8098],\n",
              "        [21.5175],\n",
              "        [16.9933],\n",
              "        [31.6924],\n",
              "        [27.5301],\n",
              "        [34.3430],\n",
              "        [28.6416],\n",
              "        [29.8663],\n",
              "        [31.8072],\n",
              "        [17.0065],\n",
              "        [30.5945],\n",
              "        [17.8669],\n",
              "        [30.3761],\n",
              "        [26.5759],\n",
              "        [30.9820],\n",
              "        [25.0590],\n",
              "        [29.9134],\n",
              "        [26.8820],\n",
              "        [32.5395],\n",
              "        [32.2573],\n",
              "        [29.1655],\n",
              "        [35.6542],\n",
              "        [40.6556],\n",
              "        [31.8352],\n",
              "        [30.2716],\n",
              "        [30.3768],\n",
              "        [29.9114],\n",
              "        [33.7195],\n",
              "        [26.8305],\n",
              "        [36.8812],\n",
              "        [38.8506],\n",
              "        [32.2176],\n",
              "        [37.3347],\n",
              "        [48.4386],\n",
              "        [49.9884],\n",
              "        [37.0338],\n",
              "        [47.6458],\n",
              "        [32.4067],\n",
              "        [44.9075],\n",
              "        [45.7860],\n",
              "        [38.1888],\n",
              "        [32.9073],\n",
              "        [43.9658],\n",
              "        [36.0703],\n",
              "        [33.3596],\n",
              "        [54.3306],\n",
              "        [40.7376],\n",
              "        [44.8568],\n",
              "        [36.2729],\n",
              "        [36.2754],\n",
              "        [48.6961],\n",
              "        [52.0382],\n",
              "        [32.7056],\n",
              "        [36.4280],\n",
              "        [45.2325],\n",
              "        [48.3895],\n",
              "        [39.4989],\n",
              "        [42.9360],\n",
              "        [41.1904],\n",
              "        [49.1418],\n",
              "        [48.1930],\n",
              "        [41.3593],\n",
              "        [58.3118],\n",
              "        [52.0576],\n",
              "        [49.7163],\n",
              "        [49.1928],\n",
              "        [46.4330],\n",
              "        [47.1247],\n",
              "        [42.1263],\n",
              "        [51.8747],\n",
              "        [35.3702],\n",
              "        [50.9773],\n",
              "        [58.5041]])"
            ]
          },
          "metadata": {},
          "execution_count": 25
        }
      ]
    },
    {
      "cell_type": "code",
      "source": [
        "pred.shape"
      ],
      "metadata": {
        "colab": {
          "base_uri": "https://localhost:8080/"
        },
        "id": "zqvnclE4NR3K",
        "outputId": "e13dbcac-82eb-4205-e56d-fc44d9d2e06d"
      },
      "execution_count": null,
      "outputs": [
        {
          "output_type": "execute_result",
          "data": {
            "text/plain": [
              "torch.Size([100, 1])"
            ]
          },
          "metadata": {},
          "execution_count": 26
        }
      ]
    },
    {
      "cell_type": "code",
      "source": [],
      "metadata": {
        "id": "EORUJCZ-wn5T"
      },
      "execution_count": null,
      "outputs": []
    },
    {
      "cell_type": "code",
      "source": [
        "from torch.optim import optimizer #optimizer!! 중요!"
      ],
      "metadata": {
        "id": "KfI5_y5eu2wk"
      },
      "execution_count": null,
      "outputs": []
    },
    {
      "cell_type": "markdown",
      "source": [],
      "metadata": {
        "id": "6BU2bTvQwrvR"
      }
    },
    {
      "cell_type": "markdown",
      "source": [
        "##loss"
      ],
      "metadata": {
        "id": "41MNRXrjwk2O"
      }
    },
    {
      "cell_type": "code",
      "source": [
        "from torch.nn import MSELoss\n",
        "\n",
        "loss_fnc = MSELoss()\n",
        "\n",
        "l = loss_fnc(pred,y)\n",
        "l"
      ],
      "metadata": {
        "colab": {
          "base_uri": "https://localhost:8080/"
        },
        "id": "1dH1tWKLNWe9",
        "outputId": "4d575ce8-1eaf-4eb5-c9a7-299df08212b4"
      },
      "execution_count": null,
      "outputs": [
        {
          "output_type": "execute_result",
          "data": {
            "text/plain": [
              "tensor(1200.0139, grad_fn=<MseLossBackward0>)"
            ]
          },
          "metadata": {},
          "execution_count": 28
        }
      ]
    },
    {
      "cell_type": "markdown",
      "source": [
        "## training Loop"
      ],
      "metadata": {
        "id": "kMxtVQanwgzm"
      }
    },
    {
      "cell_type": "code",
      "source": [
        "p = model(x)"
      ],
      "metadata": {
        "id": "F8S4WtoVQEPG"
      },
      "execution_count": null,
      "outputs": []
    },
    {
      "cell_type": "code",
      "source": [
        "from torch import optim\n",
        "\n",
        "def training_loop(\n",
        "    x, y,\n",
        "    model,\n",
        "    lr,\n",
        "    optimizer , #optimizer type\n",
        "    n_epochs,\n",
        "    ):\n",
        "\n",
        "  model.train()\n",
        "  #model.eval()\n",
        "  optimizer = optim.SGD(\n",
        "      model.parameters(),\n",
        "  )\n",
        "  for epoch in range(n_epochs):\n",
        "    pred = model(x)\n",
        "    l = loss_fnc(pred, y)\n",
        "\n",
        "    if torch.isinf(l).any():\n",
        "\n",
        "      print('Error : diverge!')\n",
        "      break\n",
        "\n",
        "    optimizer. zero_grad()\n",
        "    l.backward()\n",
        "    optimizer.step()\n",
        "\n",
        "    if epoch % 1000 == 0:\n",
        "      print(f'Epoch {epoch} : Loss {float(l):0.4f} ')\n",
        "\n",
        "    return model"
      ],
      "metadata": {
        "id": "J1VK9tRH5XT7"
      },
      "execution_count": null,
      "outputs": []
    },
    {
      "cell_type": "code",
      "source": [
        "# from torch import optim\n",
        "\n",
        "# def training_loop(\n",
        "#     x,y,\n",
        "#     model,\n",
        "#     lr,\n",
        "#     optimizer,\n",
        "#     n_epochs,\n",
        "#     ):\n",
        "#   model.train() #train모델로 설정\n",
        "#   model.eval()\n",
        "#   optimizer = optim.SGD(\n",
        "#         model.parameters(),\n",
        "# )\n",
        "\n",
        "#   for epoch in range(n_epochs):\n",
        "#      print(epoch)\n",
        "#      pred = model(x)\n",
        "#      l = loss_fnc(pred,y)\n",
        "#      if torch.isinif(l).any():\n",
        "#       print('Error: diverge!')\n",
        "#       break\n",
        "\n",
        "#       optimizer.zero_grad()\n",
        "#       l.backward()\n",
        "#       optimizer.step()\n",
        "\n",
        "#       if epoch % 1000 == 0:\n",
        "#         print(f'Epoch {epoch}: Loss{float(l):0.4f}')\n",
        "#     return model"
      ],
      "metadata": {
        "id": "RgkHl1zPe77E"
      },
      "execution_count": null,
      "outputs": []
    },
    {
      "cell_type": "code",
      "source": [
        "model = training_loop(\n",
        "    x,y,\n",
        "    model,\n",
        "    1e-3,\n",
        "    optimizer,\n",
        "    7000,\n",
        ")"
      ],
      "metadata": {
        "colab": {
          "base_uri": "https://localhost:8080/"
        },
        "id": "_cToPzUW6hL6",
        "outputId": "8cc23d5d-3a66-4ec3-af5c-7fe922ed816e"
      },
      "execution_count": null,
      "outputs": [
        {
          "output_type": "stream",
          "name": "stdout",
          "text": [
            "Epoch 0 : Loss 1177.0316 \n"
          ]
        }
      ]
    },
    {
      "cell_type": "markdown",
      "source": [
        "##train"
      ],
      "metadata": {
        "id": "S19deERKwci6"
      }
    },
    {
      "cell_type": "code",
      "source": [
        "pred = model(x)\n",
        "\n",
        "plt.scatter(x.detach().numpy(),y.detach().numpy())\n",
        "plt.plot(x.detach().numpy(),pred.detach().numpy(),color = 'r')\n",
        "plt.plot(x.detach().numpy(),y_label , color = 'g')"
      ],
      "metadata": {
        "colab": {
          "base_uri": "https://localhost:8080/",
          "height": 447
        },
        "id": "lj7L6GaA83qk",
        "outputId": "92f86e8a-e3e0-4630-897f-0eda6ac27701"
      },
      "execution_count": null,
      "outputs": [
        {
          "output_type": "execute_result",
          "data": {
            "text/plain": [
              "[<matplotlib.lines.Line2D at 0x7f7b2b65a980>]"
            ]
          },
          "metadata": {},
          "execution_count": 66
        },
        {
          "output_type": "display_data",
          "data": {
            "text/plain": [
              "<Figure size 640x480 with 1 Axes>"
            ],
            "image/png": "[encoded data removed]"
          },
          "metadata": {}
        }
      ]
    },
    {
      "cell_type": "markdown",
      "source": [
        "##evalution"
      ],
      "metadata": {
        "id": "nooOCsiCwUX6"
      }
    },
    {
      "cell_type": "code",
      "source": [
        "from torchsummary import summary\n",
        "\n",
        "summary(model,(1,))"
      ],
      "metadata": {
        "colab": {
          "base_uri": "https://localhost:8080/"
        },
        "id": "AaK2BqZ891zf",
        "outputId": "14efd086-8478-410f-c3ed-751f51846cd1"
      },
      "execution_count": null,
      "outputs": [
        {
          "output_type": "stream",
          "name": "stdout",
          "text": [
            "----------------------------------------------------------------\n",
            "        Layer (type)               Output Shape         Param #\n",
            "================================================================\n",
            "            Linear-1                   [-1, 32]              64\n",
            "              ReLU-2                   [-1, 32]               0\n",
            "            Linear-3                   [-1, 32]           1,056\n",
            "              ReLU-4                   [-1, 32]               0\n",
            "            Linear-5                    [-1, 1]              33\n",
            "================================================================\n",
            "Total params: 1,153\n",
            "Trainable params: 1,153\n",
            "Non-trainable params: 0\n",
            "----------------------------------------------------------------\n",
            "Input size (MB): 0.00\n",
            "Forward/backward pass size (MB): 0.00\n",
            "Params size (MB): 0.00\n",
            "Estimated Total Size (MB): 0.01\n",
            "----------------------------------------------------------------\n"
          ]
        }
      ]
    },
    {
      "cell_type": "code",
      "source": [],
      "metadata": {
        "id": "PfRPE3c2wKuW"
      },
      "execution_count": null,
      "outputs": []
    }
  ]
}