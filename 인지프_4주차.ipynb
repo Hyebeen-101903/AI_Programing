{
  "nbformat": 4,
  "nbformat_minor": 0,
  "metadata": {
    "colab": {
      "provenance": [],
      "authorship_tag": "ABX9TyN4f+JFcd5B5E44BJpc9xRP",
      "include_colab_link": true
    },
    "kernelspec": {
      "name": "python3",
      "display_name": "Python 3"
    },
    "language_info": {
      "name": "python"
    }
  },
  "cells": [
    {
      "cell_type": "markdown",
      "metadata": {
        "id": "view-in-github",
        "colab_type": "text"
      },
      "source": [
        "<a href=\"https://colab.research.google.com/github/Hyebeen-101903/AI_Programing/blob/main/%EC%9D%B8%EC%A7%80%ED%94%84_4%EC%A3%BC%EC%B0%A8.ipynb\" target=\"_parent\"><img src=\"https://colab.research.google.com/assets/colab-badge.svg\" alt=\"Open In Colab\"/></a>"
      ]
    },
    {
      "cell_type": "code",
      "execution_count": null,
      "metadata": {
        "id": "JvViC8-6_KlS"
      },
      "outputs": [],
      "source": [
        "import numpy as np\n",
        "import tensorflow as tf\n",
        "import torch"
      ]
    },
    {
      "cell_type": "code",
      "source": [
        "np.__version__"
      ],
      "metadata": {
        "colab": {
          "base_uri": "https://localhost:8080/",
          "height": 35
        },
        "id": "g9XD3RVy_fR1",
        "outputId": "ec379591-9089-4bef-8c90-8fc7518c1942"
      },
      "execution_count": null,
      "outputs": [
        {
          "output_type": "execute_result",
          "data": {
            "text/plain": [
              "'1.25.2'"
            ],
            "application/vnd.google.colaboratory.intrinsic+json": {
              "type": "string"
            }
          },
          "metadata": {},
          "execution_count": 2
        }
      ]
    },
    {
      "cell_type": "code",
      "source": [
        "tf.__version__"
      ],
      "metadata": {
        "colab": {
          "base_uri": "https://localhost:8080/",
          "height": 35
        },
        "id": "pP3nEhPk_jw9",
        "outputId": "f4fe117e-ec81-4198-ff05-eb6141eb4635"
      },
      "execution_count": null,
      "outputs": [
        {
          "output_type": "execute_result",
          "data": {
            "text/plain": [
              "'2.15.0'"
            ],
            "application/vnd.google.colaboratory.intrinsic+json": {
              "type": "string"
            }
          },
          "metadata": {},
          "execution_count": 3
        }
      ]
    },
    {
      "cell_type": "code",
      "source": [
        "torch.__version__"
      ],
      "metadata": {
        "colab": {
          "base_uri": "https://localhost:8080/",
          "height": 35
        },
        "id": "jSzh7nnF_mTQ",
        "outputId": "c2d830f2-75dd-4ddb-de58-70d2479947da"
      },
      "execution_count": null,
      "outputs": [
        {
          "output_type": "execute_result",
          "data": {
            "text/plain": [
              "'2.2.1+cu121'"
            ],
            "application/vnd.google.colaboratory.intrinsic+json": {
              "type": "string"
            }
          },
          "metadata": {},
          "execution_count": 5
        }
      ]
    },
    {
      "cell_type": "code",
      "source": [
        "a = np.random.rand(2, 3)\n",
        "t1 = np.transpose(a)\n",
        "# t1 = np.transpose(a, (1, 0))\n",
        "t2 = a.T\n",
        "print(a.shape)\n",
        "print(t1.shape)\n",
        "print(t2.shape)\n",
        "\n",
        "t2[0,1] = 77\n",
        "print(a[1,0])\n",
        "print(t1[0,1])\n",
        "print(t2[0,1])\n"
      ],
      "metadata": {
        "colab": {
          "base_uri": "https://localhost:8080/"
        },
        "id": "GRKj1NCJFHDu",
        "outputId": "46e88978-c7b0-454b-9436-951f8efcf11b"
      },
      "execution_count": null,
      "outputs": [
        {
          "output_type": "stream",
          "name": "stdout",
          "text": [
            "(2, 3)\n",
            "(3, 2)\n",
            "(3, 2)\n",
            "77.0\n",
            "77.0\n",
            "77.0\n"
          ]
        }
      ]
    },
    {
      "cell_type": "code",
      "source": [
        "a_torch = torch.rand(2, 3)\n",
        "t1_torch = torch.transpose(a_torch, 0, 1)\n",
        "t2_torch = a_torch.T\n",
        "print(a_torch.shape)\n",
        "print(t1_torch.shape)\n",
        "print(t2_torch.shape)\n",
        "\n",
        "t2_torch[0,1] = 77\n",
        "print(a_torch[1,0])\n",
        "print(t1_torch[0,1])\n",
        "print(t2_torch[0,1])"
      ],
      "metadata": {
        "colab": {
          "base_uri": "https://localhost:8080/"
        },
        "id": "-aEFE2FSFJZf",
        "outputId": "7ed6070f-83f2-4084-f427-803854412bac"
      },
      "execution_count": null,
      "outputs": [
        {
          "output_type": "stream",
          "name": "stdout",
          "text": [
            "torch.Size([2, 3])\n",
            "torch.Size([3, 2])\n",
            "torch.Size([3, 2])\n",
            "tensor(77.)\n",
            "tensor(77.)\n",
            "tensor(77.)\n"
          ]
        }
      ]
    },
    {
      "cell_type": "code",
      "source": [
        "a_tf = tf.random.normal([2, 3])\n",
        "t1_tf = tf.transpose(a_tf)\n",
        "t2_tf = tf.transpose(a_tf, perm=[1, 0])\n",
        "print(a_tf.shape, a_tf.dtype)\n",
        "print(t1_tf.shape, t1_tf.dtype)\n",
        "print(t2_tf.shape, t2_tf.dtype)\n",
        "\n",
        "indices = tf.constant([[0, 1]]) # (2, 2) 위치를 변경하고자 함\n",
        "updates = tf.constant([77], dtype=tf.float32) # 해당 위치에 넣고 싶은 값\n",
        "t2_tf = tf.tensor_scatter_nd_update(t2_tf, indices, updates)\n",
        "print(a_tf[1,0])\n",
        "print(t1_tf[0,1])\n",
        "print(t2_tf[0,1])"
      ],
      "metadata": {
        "colab": {
          "base_uri": "https://localhost:8080/"
        },
        "id": "NFfR8qk0FPpX",
        "outputId": "18f2375d-45cf-4baf-8624-fa76d838bc29"
      },
      "execution_count": null,
      "outputs": [
        {
          "output_type": "stream",
          "name": "stdout",
          "text": [
            "(2, 3) <dtype: 'float32'>\n",
            "(3, 2) <dtype: 'float32'>\n",
            "(3, 2) <dtype: 'float32'>\n",
            "tf.Tensor(-0.5324527, shape=(), dtype=float32)\n",
            "tf.Tensor(-0.5324527, shape=(), dtype=float32)\n",
            "tf.Tensor(77.0, shape=(), dtype=float32)\n"
          ]
        }
      ]
    },
    {
      "cell_type": "code",
      "source": [
        "a = np.random.rand(2, 3, 4)\n",
        "t1 = np.transpose(a, (0, 2, 1))\n",
        "print(a.shape)\n",
        "print(t1.shape)\n",
        "t1[0,1,2] = 77\n",
        "print(a[0,2,1])\n",
        "print(t1[0,1,2])"
      ],
      "metadata": {
        "id": "2V_GvtNXFRoC"
      },
      "execution_count": null,
      "outputs": []
    },
    {
      "cell_type": "code",
      "source": [
        "a_torch = torch.rand(2, 3, 4)\n",
        "t1_torch = torch.permute(a_torch, (0, 2, 1))\n",
        "print(a_torch.shape)\n",
        "print(t1_torch.shape)\n",
        "t1_torch[0,1,2] = 77\n",
        "print(a_torch[0,2,1])\n",
        "print(t1_torch[0,1,2])"
      ],
      "metadata": {
        "colab": {
          "base_uri": "https://localhost:8080/"
        },
        "id": "e1Qngvy5FT7l",
        "outputId": "9babc930-f68e-47f8-9991-8d3d6f3ea236"
      },
      "execution_count": null,
      "outputs": [
        {
          "output_type": "stream",
          "name": "stdout",
          "text": [
            "torch.Size([2, 3, 4])\n",
            "torch.Size([2, 4, 3])\n",
            "tensor(77.)\n",
            "tensor(77.)\n"
          ]
        }
      ]
    },
    {
      "cell_type": "code",
      "source": [
        "a_tf = tf.random.normal([2, 3, 4])\n",
        "t1_tf = tf.transpose(a_tf, perm=[0, 2, 1])\n",
        "print(a_tf.shape, a_tf.dtype)\n",
        "print(t1_tf.shape, t1_tf.dtype)"
      ],
      "metadata": {
        "colab": {
          "base_uri": "https://localhost:8080/"
        },
        "id": "t95c1R3dFVt_",
        "outputId": "74c1702f-9d61-47b8-c29b-bb0c5f51515b"
      },
      "execution_count": null,
      "outputs": [
        {
          "output_type": "stream",
          "name": "stdout",
          "text": [
            "(2, 3, 4) <dtype: 'float32'>\n",
            "(2, 4, 3) <dtype: 'float32'>\n"
          ]
        }
      ]
    },
    {
      "cell_type": "code",
      "source": [
        "import sys\n",
        "print(sys.version)"
      ],
      "metadata": {
        "colab": {
          "base_uri": "https://localhost:8080/"
        },
        "id": "6CL72w9P_o4a",
        "outputId": "776fbd7e-a279-4eb4-ad9c-8c75e59a463b"
      },
      "execution_count": null,
      "outputs": [
        {
          "output_type": "stream",
          "name": "stdout",
          "text": [
            "3.10.12 (main, Nov 20 2023, 15:14:05) [GCC 11.4.0]\n"
          ]
        }
      ]
    },
    {
      "cell_type": "markdown",
      "source": [
        "# libary 설치 여부 및 colab 동작 여부 **확인**"
      ],
      "metadata": {
        "id": "R8EnkDYEFj7o"
      }
    },
    {
      "cell_type": "code",
      "source": [
        "import importlib\n",
        "# Check if a module exists\n",
        "try:\n",
        "  module_name = \"google.colab\"\n",
        "  if importlib.util.find_spec(module_name):\n",
        "    print(f\"{module_name} module exists.\")\n",
        "  else:\n",
        "    print(f\"{module_name} module does not exist.\")\n",
        "except ImportError:\n",
        "  print(f\"{module_name} module does not exist.\")\n",
        "\n",
        "# Check module location\n",
        "try:\n",
        "  module_spec = importlib.util.find_spec(\"torch\")\n",
        "  if module_spec:\n",
        "    print(f\"{module_spec.name} module is located at {module_spec.origin}.\")\n",
        "except ImportError:\n",
        "  print(f\"{module_name} module does not exist.\")"
      ],
      "metadata": {
        "colab": {
          "base_uri": "https://localhost:8080/"
        },
        "id": "a6UO5a37AxbI",
        "outputId": "40a96575-3f64-4c67-8dee-0cb37a87d0ee"
      },
      "execution_count": null,
      "outputs": [
        {
          "output_type": "stream",
          "name": "stdout",
          "text": [
            "google.colab module exists.\n",
            "torch module is located at /usr/local/lib/python3.10/dist-packages/torch/__init__.py.\n"
          ]
        }
      ]
    },
    {
      "cell_type": "code",
      "source": [
        "try:\n",
        "    metadata = importlib.metadata.PackagePath(module_name)\n",
        "    print(f\"{module_name} 패키지가 존재합니다.\")\n",
        "    print(f\"패키지 이름: {metadata.name}\")\n",
        "    print(f\"패키지 버전: {metadata.locate}\")\n",
        "    print(f\"패키지 버전: {importlib.metadata.version(module_name)}\")\n",
        "\n",
        "except importlib.metadata.PackageNotFoundError:\n",
        "    print(f\"{module_name} 패키지가 존재하지 않습니다.\")"
      ],
      "metadata": {
        "id": "BIndGPBseJfr",
        "colab": {
          "base_uri": "https://localhost:8080/"
        },
        "outputId": "7296fc9e-2ebb-45b1-8e7e-51bde7ad4db8"
      },
      "execution_count": null,
      "outputs": [
        {
          "output_type": "stream",
          "name": "stdout",
          "text": [
            "google.colab 패키지가 존재합니다.\n",
            "패키지 이름: google.colab\n",
            "패키지 버전: <bound method PackagePath.locate of PackagePath('google.colab')>\n",
            "패키지 버전: 1.0.0\n"
          ]
        }
      ]
    },
    {
      "cell_type": "markdown",
      "source": [
        "# **Tensor 생성**"
      ],
      "metadata": {
        "id": "XYVpjhO6Frj_"
      }
    },
    {
      "cell_type": "code",
      "source": [
        "t = (1,2,3,4,5,6)\n",
        "a = np.array(t)\n",
        "print(type(t))\n",
        "print(type(a))"
      ],
      "metadata": {
        "colab": {
          "base_uri": "https://localhost:8080/"
        },
        "id": "dKHzGFYSFoao",
        "outputId": "fd4f2244-7dc8-4443-9ddb-b00f71496cbb"
      },
      "execution_count": null,
      "outputs": [
        {
          "output_type": "stream",
          "name": "stdout",
          "text": [
            "<class 'tuple'>\n",
            "<class 'numpy.ndarray'>\n"
          ]
        }
      ]
    },
    {
      "cell_type": "code",
      "source": [
        "print(a.ndim)\n",
        "print(a.shape)\n",
        "print(a.itemsize) #bytes\n",
        "print(a.size)\n",
        "print(a.dtype)"
      ],
      "metadata": {
        "id": "akL1vqZvlA1q",
        "colab": {
          "base_uri": "https://localhost:8080/"
        },
        "outputId": "10926e82-4906-48e2-8914-2aa2317dae90"
      },
      "execution_count": null,
      "outputs": [
        {
          "output_type": "stream",
          "name": "stdout",
          "text": [
            "1\n",
            "(6,)\n",
            "8\n",
            "6\n",
            "int64\n"
          ]
        }
      ]
    },
    {
      "cell_type": "code",
      "source": [
        "\n",
        "a = np.array([1.,2.,3.])\n",
        "print(a.dtype)\n",
        "a = np.array([1.,2.,3.], dtype=int)\n",
        "print(a.dtype)\n",
        "a = np.array([1.,2.,3.], dtype=float)\n",
        "print(a.dtype)"
      ],
      "metadata": {
        "colab": {
          "base_uri": "https://localhost:8080/"
        },
        "id": "5_w3TuJMFvd5",
        "outputId": "abf12f95-844e-4ee4-fc5c-2ef84a553344"
      },
      "execution_count": null,
      "outputs": [
        {
          "output_type": "stream",
          "name": "stdout",
          "text": [
            "float64\n",
            "int64\n",
            "float64\n"
          ]
        }
      ]
    },
    {
      "cell_type": "markdown",
      "source": [
        "# **tensorflow에서의 tensor 생성**"
      ],
      "metadata": {
        "id": "BH8FiQP7GTX_"
      }
    },
    {
      "cell_type": "code",
      "source": [
        "tensor = tf.constant(t)\n",
        "print(tf.rank(tensor))\n",
        "print(tensor.ndim)\n",
        "print(tensor.shape)\n",
        "# print(tensor.itemsize)  #error. not supported\n",
        "# print(tensor.size)      #error. not supported\n",
        "print(tensor.dtype)\n",
        "tensor"
      ],
      "metadata": {
        "colab": {
          "base_uri": "https://localhost:8080/"
        },
        "id": "e6WW5qoTGJtN",
        "outputId": "21c850d2-9b01-4bd3-b66f-df30e3f5c487"
      },
      "execution_count": null,
      "outputs": [
        {
          "output_type": "stream",
          "name": "stdout",
          "text": [
            "tf.Tensor(1, shape=(), dtype=int32)\n",
            "1\n",
            "(6,)\n",
            "<dtype: 'int32'>\n"
          ]
        },
        {
          "output_type": "execute_result",
          "data": {
            "text/plain": [
              "<tf.Tensor: shape=(6,), dtype=int32, numpy=array([1, 2, 3, 4, 5, 6], dtype=int32)>"
            ]
          },
          "metadata": {},
          "execution_count": 14
        }
      ]
    },
    {
      "cell_type": "markdown",
      "source": [
        "# **pytorch에서의 tensor 생성**"
      ],
      "metadata": {
        "id": "EF7Pio9zGVe2"
      }
    },
    {
      "cell_type": "code",
      "source": [
        "p = torch.tensor(t)\n",
        "print(p.ndim)\n",
        "print(p.shape)\n",
        "print(p.itemsize)\n",
        "print(p.size())    # not attribute but method\n",
        "print(p.dtype)"
      ],
      "metadata": {
        "colab": {
          "base_uri": "https://localhost:8080/"
        },
        "id": "x7FpRJ9JGLKj",
        "outputId": "31a72b2f-db86-47d3-b792-88d9e59c36b2"
      },
      "execution_count": null,
      "outputs": [
        {
          "output_type": "stream",
          "name": "stdout",
          "text": [
            "1\n",
            "torch.Size([6])\n",
            "8\n",
            "torch.Size([6])\n",
            "torch.int64\n"
          ]
        }
      ]
    },
    {
      "cell_type": "markdown",
      "source": [
        "# **기본 type**"
      ],
      "metadata": {
        "id": "7hXZWQikGZFs"
      }
    },
    {
      "cell_type": "code",
      "source": [
        "print(np.array([1.,2.,3.]).dtype)\n",
        "print(np.array([1,2,3]).dtype)\n",
        "print(tf.constant([1.,2.,3.]).dtype)\n",
        "print(tf.constant([1,2,3]).dtype)\n",
        "print(torch.tensor([1.,2.,3.]).dtype)\n",
        "print(torch.tensor([1,2,3]).dtype)"
      ],
      "metadata": {
        "colab": {
          "base_uri": "https://localhost:8080/"
        },
        "id": "25VTiVeXGNwN",
        "outputId": "0eee21cd-d6d2-44c6-fa72-0485abab7139"
      },
      "execution_count": null,
      "outputs": [
        {
          "output_type": "stream",
          "name": "stdout",
          "text": [
            "float64\n",
            "int64\n",
            "<dtype: 'float32'>\n",
            "<dtype: 'int32'>\n",
            "torch.float32\n",
            "torch.int64\n"
          ]
        }
      ]
    },
    {
      "cell_type": "code",
      "source": [
        "# nested lists result in multi-dimensional arrays\n",
        "a = np.array([range(i, i + 3) for i in [2, 4, 6]])\n",
        "print(a.ndim)\n",
        "print(a.shape)\n",
        "print(a.itemsize) #bytes\n",
        "print(a.size)\n",
        "print(a.dtype)\n",
        "a"
      ],
      "metadata": {
        "colab": {
          "base_uri": "https://localhost:8080/"
        },
        "id": "McKI_yAhGOGO",
        "outputId": "70d7ffe8-5b4a-40e4-84cf-7d910deb2966"
      },
      "execution_count": null,
      "outputs": [
        {
          "output_type": "stream",
          "name": "stdout",
          "text": [
            "2\n",
            "(3, 3)\n",
            "8\n",
            "9\n",
            "int64\n"
          ]
        },
        {
          "output_type": "execute_result",
          "data": {
            "text/plain": [
              "array([[2, 3, 4],\n",
              "       [4, 5, 6],\n",
              "       [6, 7, 8]])"
            ]
          },
          "metadata": {},
          "execution_count": 17
        }
      ]
    },
    {
      "cell_type": "code",
      "source": [
        "tensor = tf.constant(a)\n",
        "print(tf.rank(tensor))\n",
        "print(tensor.ndim)\n",
        "# print(tensor.itemsize)  #error. not supported\n",
        "# print(tensor.size)      #error. not supported\n",
        "print(tensor.dtype)\n",
        "tensor"
      ],
      "metadata": {
        "colab": {
          "base_uri": "https://localhost:8080/"
        },
        "id": "XPBLlc3RGhie",
        "outputId": "8c7ba5a7-bb81-4cd7-8c3b-b211730420d2"
      },
      "execution_count": null,
      "outputs": [
        {
          "output_type": "stream",
          "name": "stdout",
          "text": [
            "tf.Tensor(2, shape=(), dtype=int32)\n",
            "2\n",
            "<dtype: 'int64'>\n"
          ]
        },
        {
          "output_type": "execute_result",
          "data": {
            "text/plain": [
              "<tf.Tensor: shape=(3, 3), dtype=int64, numpy=\n",
              "array([[2, 3, 4],\n",
              "       [4, 5, 6],\n",
              "       [6, 7, 8]])>"
            ]
          },
          "metadata": {},
          "execution_count": 18
        }
      ]
    },
    {
      "cell_type": "code",
      "source": [
        "p = torch.tensor(a)\n",
        "print(p.ndim)\n",
        "print(p.shape)\n",
        "print(p.itemsize)\n",
        "print(p.size())    # not attribute but method\n",
        "print(p.dtype)\n",
        "p"
      ],
      "metadata": {
        "colab": {
          "base_uri": "https://localhost:8080/"
        },
        "id": "tGA-Z0YTGlmz",
        "outputId": "cbfafae7-86a6-442d-f4bd-9835a4bae353"
      },
      "execution_count": null,
      "outputs": [
        {
          "output_type": "stream",
          "name": "stdout",
          "text": [
            "2\n",
            "torch.Size([3, 3])\n",
            "8\n",
            "torch.Size([3, 3])\n",
            "torch.int64\n"
          ]
        },
        {
          "output_type": "execute_result",
          "data": {
            "text/plain": [
              "tensor([[2, 3, 4],\n",
              "        [4, 5, 6],\n",
              "        [6, 7, 8]])"
            ]
          },
          "metadata": {},
          "execution_count": 19
        }
      ]
    },
    {
      "cell_type": "markdown",
      "source": [
        "# **tensor를 특정 값으로 초기화**"
      ],
      "metadata": {
        "id": "I8YWafi6GocD"
      }
    },
    {
      "cell_type": "code",
      "source": [
        "a = np.zeros((3,2)) # default dtype = float64\n",
        "# a = np.zeros(shape=(4,4),dtype=np.uint8)\n",
        "print(a.dtype)\n",
        "a"
      ],
      "metadata": {
        "colab": {
          "base_uri": "https://localhost:8080/"
        },
        "id": "R6M7A_SFGngs",
        "outputId": "677c7ca5-2043-472e-f7d7-83c48c65c748"
      },
      "execution_count": null,
      "outputs": [
        {
          "output_type": "stream",
          "name": "stdout",
          "text": [
            "float64\n"
          ]
        },
        {
          "output_type": "execute_result",
          "data": {
            "text/plain": [
              "array([[0., 0.],\n",
              "       [0., 0.],\n",
              "       [0., 0.]])"
            ]
          },
          "metadata": {},
          "execution_count": 20
        }
      ]
    },
    {
      "cell_type": "code",
      "source": [
        "a_tf = tf.zeros(shape=(3,2)) #default dtype = float32\n",
        "print(a_tf.dtype)\n",
        "a_tf\n",
        "# a_tf.numpy()"
      ],
      "metadata": {
        "colab": {
          "base_uri": "https://localhost:8080/"
        },
        "id": "g-e-GhCEGsWY",
        "outputId": "d4adb90c-13cf-4245-f21c-86a8f10828f2"
      },
      "execution_count": null,
      "outputs": [
        {
          "output_type": "stream",
          "name": "stdout",
          "text": [
            "<dtype: 'float32'>\n"
          ]
        },
        {
          "output_type": "execute_result",
          "data": {
            "text/plain": [
              "<tf.Tensor: shape=(3, 2), dtype=float32, numpy=\n",
              "array([[0., 0.],\n",
              "       [0., 0.],\n",
              "       [0., 0.]], dtype=float32)>"
            ]
          },
          "metadata": {},
          "execution_count": 21
        }
      ]
    },
    {
      "cell_type": "code",
      "source": [
        "a_tf.numpy() # 다시 numpy array로"
      ],
      "metadata": {
        "colab": {
          "base_uri": "https://localhost:8080/"
        },
        "id": "LCVqPygKGt3G",
        "outputId": "11df3368-7e26-48a5-e574-243d9f315a46"
      },
      "execution_count": null,
      "outputs": [
        {
          "output_type": "execute_result",
          "data": {
            "text/plain": [
              "array([[0., 0.],\n",
              "       [0., 0.],\n",
              "       [0., 0.]], dtype=float32)"
            ]
          },
          "metadata": {},
          "execution_count": 22
        }
      ]
    },
    {
      "cell_type": "code",
      "source": [
        "p = torch.zeros(size=(3,2)) # shape 대신에 size\n",
        "print(p.dtype)\n",
        "p"
      ],
      "metadata": {
        "colab": {
          "base_uri": "https://localhost:8080/"
        },
        "id": "mnJa4luxGvTe",
        "outputId": "7476224a-2088-4262-b550-247db1fc19fe"
      },
      "execution_count": null,
      "outputs": [
        {
          "output_type": "stream",
          "name": "stdout",
          "text": [
            "torch.float32\n"
          ]
        },
        {
          "output_type": "execute_result",
          "data": {
            "text/plain": [
              "tensor([[0., 0.],\n",
              "        [0., 0.],\n",
              "        [0., 0.]])"
            ]
          },
          "metadata": {},
          "execution_count": 23
        }
      ]
    },
    {
      "cell_type": "code",
      "source": [
        "a = np.ones((4,2,3))\n",
        "print(a.dtype)\n",
        "a\n"
      ],
      "metadata": {
        "colab": {
          "base_uri": "https://localhost:8080/"
        },
        "id": "RsU8YHF3Gwur",
        "outputId": "678f9cb1-cb1b-4d52-e013-b1c483dff207"
      },
      "execution_count": null,
      "outputs": [
        {
          "output_type": "stream",
          "name": "stdout",
          "text": [
            "float64\n"
          ]
        },
        {
          "output_type": "execute_result",
          "data": {
            "text/plain": [
              "array([[[1., 1., 1.],\n",
              "        [1., 1., 1.]],\n",
              "\n",
              "       [[1., 1., 1.],\n",
              "        [1., 1., 1.]],\n",
              "\n",
              "       [[1., 1., 1.],\n",
              "        [1., 1., 1.]],\n",
              "\n",
              "       [[1., 1., 1.],\n",
              "        [1., 1., 1.]]])"
            ]
          },
          "metadata": {},
          "execution_count": 24
        }
      ]
    },
    {
      "cell_type": "code",
      "source": [
        "a_tf = tf.ones(shape=(4,2,3))\n",
        "# a_tf = tf.ones((4,2), dtype=tf.int64)\n",
        "print(a_tf.dtype)\n",
        "a_tf\n"
      ],
      "metadata": {
        "colab": {
          "base_uri": "https://localhost:8080/"
        },
        "id": "3OU1KhBHGyoT",
        "outputId": "cd4358f9-480d-4631-ffc6-e883052abbe1"
      },
      "execution_count": null,
      "outputs": [
        {
          "output_type": "stream",
          "name": "stdout",
          "text": [
            "<dtype: 'float32'>\n"
          ]
        },
        {
          "output_type": "execute_result",
          "data": {
            "text/plain": [
              "<tf.Tensor: shape=(4, 2, 3), dtype=float32, numpy=\n",
              "array([[[1., 1., 1.],\n",
              "        [1., 1., 1.]],\n",
              "\n",
              "       [[1., 1., 1.],\n",
              "        [1., 1., 1.]],\n",
              "\n",
              "       [[1., 1., 1.],\n",
              "        [1., 1., 1.]],\n",
              "\n",
              "       [[1., 1., 1.],\n",
              "        [1., 1., 1.]]], dtype=float32)>"
            ]
          },
          "metadata": {},
          "execution_count": 25
        }
      ]
    },
    {
      "cell_type": "markdown",
      "source": [
        "# **난수로 구성된 tensor 생성**"
      ],
      "metadata": {
        "id": "gJK7vEfiISfa"
      }
    },
    {
      "cell_type": "code",
      "source": [
        "A = np.random.rand(3,4)\n",
        "print(A.dtype)\n",
        "A"
      ],
      "metadata": {
        "colab": {
          "base_uri": "https://localhost:8080/"
        },
        "id": "RIelXL25G0rR",
        "outputId": "dd76b771-401f-4739-920b-f243b8c77d76"
      },
      "execution_count": null,
      "outputs": [
        {
          "output_type": "stream",
          "name": "stdout",
          "text": [
            "float64\n"
          ]
        },
        {
          "output_type": "execute_result",
          "data": {
            "text/plain": [
              "array([[0.47057355, 0.68811627, 0.03306503, 0.3828621 ],\n",
              "       [0.9627153 , 0.85439347, 0.64349523, 0.53254583],\n",
              "       [0.95818278, 0.65172976, 0.73294893, 0.3267134 ]])"
            ]
          },
          "metadata": {},
          "execution_count": 26
        }
      ]
    },
    {
      "cell_type": "code",
      "source": [
        "A_tf = tf.random.uniform(shape=(3,4), minval=0., maxval=1. )\n",
        "A_tf"
      ],
      "metadata": {
        "colab": {
          "base_uri": "https://localhost:8080/"
        },
        "id": "gTywawe1IURq",
        "outputId": "d84a5ab9-e00e-486b-a81a-4891536fb9d1"
      },
      "execution_count": null,
      "outputs": [
        {
          "output_type": "execute_result",
          "data": {
            "text/plain": [
              "<tf.Tensor: shape=(3, 4), dtype=float32, numpy=\n",
              "array([[0.6411561 , 0.8348224 , 0.19180155, 0.06217623],\n",
              "       [0.83678806, 0.4358847 , 0.7759253 , 0.08593047],\n",
              "       [0.29950535, 0.96230674, 0.88044226, 0.3833257 ]], dtype=float32)>"
            ]
          },
          "metadata": {},
          "execution_count": 27
        }
      ]
    },
    {
      "cell_type": "code",
      "source": [
        "A_torch = torch.rand(3,4)\n",
        "print(A_torch.dtype)\n",
        "A_torch"
      ],
      "metadata": {
        "colab": {
          "base_uri": "https://localhost:8080/"
        },
        "id": "qYVIb7tAIVhe",
        "outputId": "89f8e318-9f76-4c6a-e434-4c470726a9c5"
      },
      "execution_count": null,
      "outputs": [
        {
          "output_type": "stream",
          "name": "stdout",
          "text": [
            "torch.float32\n"
          ]
        },
        {
          "output_type": "execute_result",
          "data": {
            "text/plain": [
              "tensor([[0.1618, 0.8951, 0.4060, 0.2244],\n",
              "        [0.5173, 0.1691, 0.3552, 0.8777],\n",
              "        [0.0411, 0.0550, 0.4997, 0.5200]])"
            ]
          },
          "metadata": {},
          "execution_count": 28
        }
      ]
    },
    {
      "cell_type": "code",
      "source": [
        "A = np.random.randn(3,4) #normal distribution of which parameters are mean and standard deviation.\n",
        "print(A.shape)\n",
        "print(np.mean(A),np.std(A))\n",
        "A"
      ],
      "metadata": {
        "colab": {
          "base_uri": "https://localhost:8080/"
        },
        "id": "SuZTdbDyIWwS",
        "outputId": "2eaa4fdd-bffa-4b83-f670-762a1a70abb0"
      },
      "execution_count": null,
      "outputs": [
        {
          "output_type": "stream",
          "name": "stdout",
          "text": [
            "(3, 4)\n",
            "0.042196259623932454 1.175503905597633\n"
          ]
        },
        {
          "output_type": "execute_result",
          "data": {
            "text/plain": [
              "array([[ 0.54798653, -2.06628628,  1.32741968,  0.25848843],\n",
              "       [-1.51369878, -0.56778046,  0.83602593,  1.34208834],\n",
              "       [-1.49217053, -0.3335801 ,  0.63508231,  1.53278006]])"
            ]
          },
          "metadata": {},
          "execution_count": 29
        }
      ]
    },
    {
      "cell_type": "code",
      "source": [
        "A_tf = tf.random.normal(shape=(3,4),mean=0., stddev=1.0)\n",
        "print(A_tf.shape)\n",
        "print(tf.math.reduce_mean(A_tf),tf.math.reduce_std(A_tf))\n",
        "A_tf"
      ],
      "metadata": {
        "colab": {
          "base_uri": "https://localhost:8080/"
        },
        "id": "-Hkyf6orIX80",
        "outputId": "8d1c3e54-929e-4ebd-b5d6-32c3ae6776cc"
      },
      "execution_count": null,
      "outputs": [
        {
          "output_type": "stream",
          "name": "stdout",
          "text": [
            "(3, 4)\n",
            "tf.Tensor(-0.1505007, shape=(), dtype=float32) tf.Tensor(0.91605973, shape=(), dtype=float32)\n"
          ]
        },
        {
          "output_type": "execute_result",
          "data": {
            "text/plain": [
              "<tf.Tensor: shape=(3, 4), dtype=float32, numpy=\n",
              "array([[ 0.66031677, -0.16029674,  1.9151546 , -0.4188731 ],\n",
              "       [-1.0227128 , -0.8565724 , -0.8215166 , -1.7473283 ],\n",
              "       [-0.26828077,  0.5717319 ,  0.36044988, -0.01808099]],\n",
              "      dtype=float32)>"
            ]
          },
          "metadata": {},
          "execution_count": 30
        }
      ]
    },
    {
      "cell_type": "markdown",
      "source": [
        "# **indexing & slicing on Tensor**"
      ],
      "metadata": {
        "id": "dJPFCpJgIbKj"
      }
    },
    {
      "cell_type": "code",
      "source": [
        "A = np.arange(0,12).reshape(3,4)\n",
        "print(A.dtype)\n",
        "A"
      ],
      "metadata": {
        "colab": {
          "base_uri": "https://localhost:8080/"
        },
        "id": "s5cyc67vIZYD",
        "outputId": "c630d0bc-4317-4fba-f540-f780ea1d70c0"
      },
      "execution_count": null,
      "outputs": [
        {
          "output_type": "stream",
          "name": "stdout",
          "text": [
            "int64\n"
          ]
        },
        {
          "output_type": "execute_result",
          "data": {
            "text/plain": [
              "array([[ 0,  1,  2,  3],\n",
              "       [ 4,  5,  6,  7],\n",
              "       [ 8,  9, 10, 11]])"
            ]
          },
          "metadata": {},
          "execution_count": 31
        }
      ]
    },
    {
      "cell_type": "code",
      "source": [
        "# A_tf = tf.constant(tf.range(0,12),shape=(3,4))\n",
        "A_tf = tf.Variable(np.arange(0,12).reshape(3,4), dtype=tf.int32)\n",
        "print(A_tf.dtype)\n",
        "A_tf"
      ],
      "metadata": {
        "colab": {
          "base_uri": "https://localhost:8080/"
        },
        "id": "pP3OMntQIfF3",
        "outputId": "20b0686a-01c5-4eeb-a9fc-acc2426791f5"
      },
      "execution_count": null,
      "outputs": [
        {
          "output_type": "stream",
          "name": "stdout",
          "text": [
            "<dtype: 'int32'>\n"
          ]
        },
        {
          "output_type": "execute_result",
          "data": {
            "text/plain": [
              "<tf.Variable 'Variable:0' shape=(3, 4) dtype=int32, numpy=\n",
              "array([[ 0,  1,  2,  3],\n",
              "       [ 4,  5,  6,  7],\n",
              "       [ 8,  9, 10, 11]], dtype=int32)>"
            ]
          },
          "metadata": {},
          "execution_count": 32
        }
      ]
    },
    {
      "cell_type": "code",
      "source": [
        "A_torch = torch.tensor(torch.arange(0,12).reshape(3,4))\n",
        "print(A_torch.dtype)\n",
        "A_torch"
      ],
      "metadata": {
        "colab": {
          "base_uri": "https://localhost:8080/"
        },
        "id": "QVrYVgo3IgNw",
        "outputId": "cc1c1e89-5e77-4246-97f5-35e1e0f7413c"
      },
      "execution_count": null,
      "outputs": [
        {
          "output_type": "stream",
          "name": "stdout",
          "text": [
            "torch.int64\n"
          ]
        },
        {
          "output_type": "stream",
          "name": "stderr",
          "text": [
            "<ipython-input-33-5e1d184cde73>:1: UserWarning: To copy construct from a tensor, it is recommended to use sourceTensor.clone().detach() or sourceTensor.clone().detach().requires_grad_(True), rather than torch.tensor(sourceTensor).\n",
            "  A_torch = torch.tensor(torch.arange(0,12).reshape(3,4))\n"
          ]
        },
        {
          "output_type": "execute_result",
          "data": {
            "text/plain": [
              "tensor([[ 0,  1,  2,  3],\n",
              "        [ 4,  5,  6,  7],\n",
              "        [ 8,  9, 10, 11]])"
            ]
          },
          "metadata": {},
          "execution_count": 33
        }
      ]
    },
    {
      "cell_type": "code",
      "source": [
        "print(A)\n",
        "print(f'A[0] is \"{A[0]}\"')\n",
        "print(f'A[0,2] is \"{A[0,2]}\"')\n",
        "print(f'A[0][2] is \"{A[0][2]}\"')"
      ],
      "metadata": {
        "colab": {
          "base_uri": "https://localhost:8080/"
        },
        "id": "HOc4k3gLIhde",
        "outputId": "85c2e6be-bfee-4f01-ab00-f7342772138d"
      },
      "execution_count": null,
      "outputs": [
        {
          "output_type": "stream",
          "name": "stdout",
          "text": [
            "[[ 0  1  2  3]\n",
            " [ 4  5  6  7]\n",
            " [ 8  9 10 11]]\n",
            "A[0] is \"[0 1 2 3]\"\n",
            "A[0,2] is \"2\"\n",
            "A[0][2] is \"2\"\n"
          ]
        }
      ]
    },
    {
      "cell_type": "code",
      "source": [
        "A[2,2]"
      ],
      "metadata": {
        "colab": {
          "base_uri": "https://localhost:8080/"
        },
        "id": "EyAyIDF3IjvW",
        "outputId": "b7732d98-dc01-40f2-94ed-43d4c8a887dc"
      },
      "execution_count": null,
      "outputs": [
        {
          "output_type": "execute_result",
          "data": {
            "text/plain": [
              "10"
            ]
          },
          "metadata": {},
          "execution_count": 35
        }
      ]
    },
    {
      "cell_type": "code",
      "source": [
        "A[2,2] = 77\n",
        "A"
      ],
      "metadata": {
        "colab": {
          "base_uri": "https://localhost:8080/"
        },
        "id": "H_g9AWGIIljK",
        "outputId": "6e86645b-26ed-42e7-df2a-9b15da39b9e3"
      },
      "execution_count": null,
      "outputs": [
        {
          "output_type": "execute_result",
          "data": {
            "text/plain": [
              "array([[ 0,  1,  2,  3],\n",
              "       [ 4,  5,  6,  7],\n",
              "       [ 8,  9, 77, 11]])"
            ]
          },
          "metadata": {},
          "execution_count": 36
        }
      ]
    },
    {
      "cell_type": "code",
      "source": [
        "print(A)\n",
        "print(f'A[1,2:] is \"{A[1,2:]}\"')\n",
        "print(f'A[1,::2] is \"{A[1,::2]}\"')\n",
        "print(f'A[1,::-2] is \"{A[1,::-2]}\"')\n",
        "print(f'A[1,::-1] is \"{A[1,::-1]}\"')\n",
        "print(f'A[1,3:0:-1] is \"{A[1,3:0:-1]}\"')"
      ],
      "metadata": {
        "colab": {
          "base_uri": "https://localhost:8080/"
        },
        "id": "xeDsI1GlInUe",
        "outputId": "d62b5527-c0c1-4b14-bf30-be5676415cd8"
      },
      "execution_count": null,
      "outputs": [
        {
          "output_type": "stream",
          "name": "stdout",
          "text": [
            "[[ 0  1  2  3]\n",
            " [ 4  5  6  7]\n",
            " [ 8  9 77 11]]\n",
            "A[1,2:] is \"[6 7]\"\n",
            "A[1,::2] is \"[4 6]\"\n",
            "A[1,::-2] is \"[7 5]\"\n",
            "A[1,::-1] is \"[7 6 5 4]\"\n",
            "A[1,3:0:-1] is \"[7 6 5]\"\n"
          ]
        }
      ]
    },
    {
      "cell_type": "code",
      "source": [
        "print(A)\n",
        "A[1:3,1:3] = 3*A[1:3,1:3]\n",
        "A"
      ],
      "metadata": {
        "colab": {
          "base_uri": "https://localhost:8080/"
        },
        "id": "rIPPuLZIIo72",
        "outputId": "b1c6b96c-e546-4d75-af1e-8ac83490942f"
      },
      "execution_count": null,
      "outputs": [
        {
          "output_type": "stream",
          "name": "stdout",
          "text": [
            "[[ 0  1  2  3]\n",
            " [ 4  5  6  7]\n",
            " [ 8  9 77 11]]\n"
          ]
        },
        {
          "output_type": "execute_result",
          "data": {
            "text/plain": [
              "array([[  0,   1,   2,   3],\n",
              "       [  4,  15,  18,   7],\n",
              "       [  8,  27, 231,  11]])"
            ]
          },
          "metadata": {},
          "execution_count": 38
        }
      ]
    },
    {
      "cell_type": "code",
      "source": [
        "A[1:3,1:3] = 777\n",
        "A"
      ],
      "metadata": {
        "colab": {
          "base_uri": "https://localhost:8080/"
        },
        "id": "g5BG8EjAIqNw",
        "outputId": "1251d591-2e96-4587-def9-3d9a28c42e87"
      },
      "execution_count": null,
      "outputs": [
        {
          "output_type": "execute_result",
          "data": {
            "text/plain": [
              "array([[  0,   1,   2,   3],\n",
              "       [  4, 777, 777,   7],\n",
              "       [  8, 777, 777,  11]])"
            ]
          },
          "metadata": {},
          "execution_count": 39
        }
      ]
    },
    {
      "cell_type": "code",
      "source": [
        "print(A_tf)\n",
        "print(f'A_tf[1,2:] is \"{A_tf[1,2:]}\"')\n",
        "print(f'A_tf[1,::2] is \"{A_tf[1,::2]}\"')\n",
        "print(f'A_tf[1,::-2] is \"{A_tf[1,::-2]}\"')\n",
        "print(f'A_tf[1,::-1] is \"{A_tf[1,::-1]}\"')\n",
        "print(f'A_tf[1,3:0:-1] is \"{A_tf[1,3:0:-1]}\"')"
      ],
      "metadata": {
        "colab": {
          "base_uri": "https://localhost:8080/"
        },
        "id": "X-sYdUMrIre-",
        "outputId": "c06d23c1-0dff-4ddf-fb4e-997272984984"
      },
      "execution_count": null,
      "outputs": [
        {
          "output_type": "stream",
          "name": "stdout",
          "text": [
            "<tf.Variable 'Variable:0' shape=(3, 4) dtype=int32, numpy=\n",
            "array([[ 0,  1,  2,  3],\n",
            "       [ 4,  5,  6,  7],\n",
            "       [ 8,  9, 10, 11]], dtype=int32)>\n",
            "A_tf[1,2:] is \"[6 7]\"\n",
            "A_tf[1,::2] is \"[4 6]\"\n",
            "A_tf[1,::-2] is \"[7 5]\"\n",
            "A_tf[1,::-1] is \"[7 6 5 4]\"\n",
            "A_tf[1,3:0:-1] is \"[7 6 5]\"\n"
          ]
        }
      ]
    },
    {
      "cell_type": "code",
      "source": [
        "print(A_torch)\n",
        "print(f'A[1,2:] is \"{A_torch[1,2:]}\"')\n",
        "print(f'A[1,::2] is \"{A_torch[1,::2]}\"')\n",
        "# print(f'A[1,::-2] is \"{A_torch[1,::-2]}\"') # not working. positive step 만 지원.\n",
        "# print(f'A[1,::-1] is \"{A_torch[1,::-1]}\"') # not working. positive step 만 지원.\n",
        "# print(f'A[1,3:0:-1] is \"{A_torch[1,3:0:-1]}\"') # not working. positive step 만 지원."
      ],
      "metadata": {
        "colab": {
          "base_uri": "https://localhost:8080/"
        },
        "id": "nzrEMhpZIso-",
        "outputId": "0a693420-e59f-4a6a-aff8-6fbed5d9fb8f"
      },
      "execution_count": null,
      "outputs": [
        {
          "output_type": "stream",
          "name": "stdout",
          "text": [
            "tensor([[ 0,  1,  2,  3],\n",
            "        [ 4,  5,  6,  7],\n",
            "        [ 8,  9, 10, 11]])\n",
            "A[1,2:] is \"tensor([6, 7])\"\n",
            "A[1,::2] is \"tensor([4, 6])\"\n"
          ]
        }
      ]
    },
    {
      "cell_type": "code",
      "source": [
        "a_torch = torch.rand(5,5)\n",
        "b_torch = a_torch[1:3,1:3]          # view\n",
        "# b_torch = a_torch[1:3,1:3].copy()\n",
        "b_torch[:] = 3.\n",
        "\n",
        "print(a_torch)\n",
        "print(b_torch)"
      ],
      "metadata": {
        "colab": {
          "base_uri": "https://localhost:8080/"
        },
        "id": "FnZi3haWIumH",
        "outputId": "1e7d27ca-c5cd-49ef-b80b-b57913fda945"
      },
      "execution_count": null,
      "outputs": [
        {
          "output_type": "stream",
          "name": "stdout",
          "text": [
            "tensor([[0.5807, 0.3211, 0.3507, 0.5799, 0.9500],\n",
            "        [0.0737, 3.0000, 3.0000, 0.7296, 0.5372],\n",
            "        [0.3892, 3.0000, 3.0000, 0.8810, 0.0656],\n",
            "        [0.3608, 0.6801, 0.5623, 0.8912, 0.1820],\n",
            "        [0.2189, 0.8461, 0.9622, 0.1527, 0.6763]])\n",
            "tensor([[3., 3.],\n",
            "        [3., 3.]])\n"
          ]
        }
      ]
    },
    {
      "cell_type": "markdown",
      "source": [
        "# **tensor의 dtype 변경**"
      ],
      "metadata": {
        "id": "I-6Lt0qwIxtf"
      }
    },
    {
      "cell_type": "code",
      "source": [
        "a = np.ones((3,3))\n",
        "c = a.astype('float32')\n",
        "print(c)\n",
        "\n",
        "print(id(a),a.dtype)\n",
        "print(id(c),c.dtype)\n"
      ],
      "metadata": {
        "colab": {
          "base_uri": "https://localhost:8080/"
        },
        "id": "8m4DKntzIwE0",
        "outputId": "bdfbdd30-835e-4cb1-b53c-ff801d535c10"
      },
      "execution_count": null,
      "outputs": [
        {
          "output_type": "stream",
          "name": "stdout",
          "text": [
            "[[1. 1. 1.]\n",
            " [1. 1. 1.]\n",
            " [1. 1. 1.]]\n",
            "138032996120112 float64\n",
            "138032996565136 float32\n"
          ]
        }
      ]
    },
    {
      "cell_type": "code",
      "source": [
        "a.astype(np.float128)"
      ],
      "metadata": {
        "colab": {
          "base_uri": "https://localhost:8080/"
        },
        "id": "2uv1I8MqIztO",
        "outputId": "b5d62db9-fcf6-4ec4-c8e3-55fc1a53f00c"
      },
      "execution_count": null,
      "outputs": [
        {
          "output_type": "execute_result",
          "data": {
            "text/plain": [
              "array([[1., 1., 1.],\n",
              "       [1., 1., 1.],\n",
              "       [1., 1., 1.]], dtype=float128)"
            ]
          },
          "metadata": {},
          "execution_count": 44
        }
      ]
    },
    {
      "cell_type": "code",
      "source": [
        "c = np.uint8(a)\n",
        "print(c)\n",
        "\n",
        "print(id(a),a.dtype)\n",
        "print(id(c),c.dtype)"
      ],
      "metadata": {
        "colab": {
          "base_uri": "https://localhost:8080/"
        },
        "id": "cBhjru5oI1Ft",
        "outputId": "2a691e57-82ed-4fc2-df9b-e5d6453924ec"
      },
      "execution_count": null,
      "outputs": [
        {
          "output_type": "stream",
          "name": "stdout",
          "text": [
            "[[1 1 1]\n",
            " [1 1 1]\n",
            " [1 1 1]]\n",
            "138032996120112 float64\n",
            "138032996118864 uint8\n"
          ]
        }
      ]
    },
    {
      "cell_type": "code",
      "source": [
        "a_tf = tf.random.uniform(shape=(3,4))\n",
        "print(a_tf.dtype)\n",
        "c_tf = tf.dtypes.cast(a_tf,tf.float64)\n",
        "print(c_tf.dtype)\n",
        "c_tf"
      ],
      "metadata": {
        "colab": {
          "base_uri": "https://localhost:8080/"
        },
        "id": "nvM7_tY-I2MF",
        "outputId": "e5d31e16-8fdb-4934-e977-cc19a5d58454"
      },
      "execution_count": null,
      "outputs": [
        {
          "output_type": "stream",
          "name": "stdout",
          "text": [
            "<dtype: 'float32'>\n",
            "<dtype: 'float64'>\n"
          ]
        },
        {
          "output_type": "execute_result",
          "data": {
            "text/plain": [
              "<tf.Tensor: shape=(3, 4), dtype=float64, numpy=\n",
              "array([[0.32832778, 0.47895086, 0.48024452, 0.76181209],\n",
              "       [0.25890362, 0.23382413, 0.85778439, 0.7859627 ],\n",
              "       [0.81595469, 0.08758891, 0.31528056, 0.5594877 ]])>"
            ]
          },
          "metadata": {},
          "execution_count": 46
        }
      ]
    },
    {
      "cell_type": "code",
      "source": [
        "a_torch = torch.rand(3,4)\n",
        "print(a_torch.dtype, id(a_torch))\n",
        "c_torch = a_torch.type(torch.float64)\n",
        "print(c_torch.dtype, id(c_torch))\n",
        "c_torch"
      ],
      "metadata": {
        "colab": {
          "base_uri": "https://localhost:8080/"
        },
        "id": "wn8dTEqRI3aQ",
        "outputId": "c73f3b95-608e-4927-8733-fc8bd33afc8d"
      },
      "execution_count": null,
      "outputs": [
        {
          "output_type": "stream",
          "name": "stdout",
          "text": [
            "torch.float32 138032996402736\n",
            "torch.float64 138032996730736\n"
          ]
        },
        {
          "output_type": "execute_result",
          "data": {
            "text/plain": [
              "tensor([[0.0843, 0.0672, 0.8297, 0.7233],\n",
              "        [0.3020, 0.3153, 0.3918, 0.2224],\n",
              "        [0.4414, 0.7522, 0.7381, 0.7474]], dtype=torch.float64)"
            ]
          },
          "metadata": {},
          "execution_count": 47
        }
      ]
    },
    {
      "cell_type": "code",
      "source": [
        "\n",
        "import torch\n",
        "\n",
        "a = torch.tensor([ range(i,i+3) for i in [0,3,6]])\n",
        "a"
      ],
      "metadata": {
        "colab": {
          "base_uri": "https://localhost:8080/"
        },
        "id": "BUeV5VB8I4d0",
        "outputId": "c47c27aa-fbc7-4221-96b6-5336be64f7ab"
      },
      "execution_count": null,
      "outputs": [
        {
          "output_type": "execute_result",
          "data": {
            "text/plain": [
              "tensor([[0, 1, 2],\n",
              "        [3, 4, 5],\n",
              "        [6, 7, 8]])"
            ]
          },
          "metadata": {},
          "execution_count": 48
        }
      ]
    },
    {
      "cell_type": "code",
      "source": [
        "a.storage()\n",
        "# a.untyped_storage()"
      ],
      "metadata": {
        "colab": {
          "base_uri": "https://localhost:8080/"
        },
        "id": "B7HMqcM6I-9U",
        "outputId": "9cf63c07-37e9-4f30-ec90-65ac53e08185"
      },
      "execution_count": null,
      "outputs": [
        {
          "output_type": "stream",
          "name": "stderr",
          "text": [
            "<ipython-input-49-07cd75b5fe08>:1: UserWarning: TypedStorage is deprecated. It will be removed in the future and UntypedStorage will be the only storage class. This should only matter to you if you are using storages directly.  To access UntypedStorage directly, use tensor.untyped_storage() instead of tensor.storage()\n",
            "  a.storage()\n"
          ]
        },
        {
          "output_type": "execute_result",
          "data": {
            "text/plain": [
              " 0\n",
              " 1\n",
              " 2\n",
              " 3\n",
              " 4\n",
              " 5\n",
              " 6\n",
              " 7\n",
              " 8\n",
              "[torch.storage.TypedStorage(dtype=torch.int64, device=cpu) of size 9]"
            ]
          },
          "metadata": {},
          "execution_count": 49
        }
      ]
    },
    {
      "cell_type": "code",
      "source": [
        "a.is_contiguous()"
      ],
      "metadata": {
        "colab": {
          "base_uri": "https://localhost:8080/"
        },
        "id": "G_lrpSnoJAIG",
        "outputId": "97eb8a84-1278-471e-9342-26f6a077e979"
      },
      "execution_count": null,
      "outputs": [
        {
          "output_type": "execute_result",
          "data": {
            "text/plain": [
              "True"
            ]
          },
          "metadata": {},
          "execution_count": 50
        }
      ]
    },
    {
      "cell_type": "code",
      "source": [
        "a_sub = a[1:,0]\n",
        "print(a_sub)"
      ],
      "metadata": {
        "colab": {
          "base_uri": "https://localhost:8080/"
        },
        "id": "w8SdoheRJCGO",
        "outputId": "fe2abcf3-b794-4727-89bb-aad5be4e3e4c"
      },
      "execution_count": null,
      "outputs": [
        {
          "output_type": "stream",
          "name": "stdout",
          "text": [
            "tensor([3, 6])\n"
          ]
        }
      ]
    },
    {
      "cell_type": "code",
      "source": [
        "print(a_sub.storage())\n",
        "a_sub.is_contiguous()"
      ],
      "metadata": {
        "colab": {
          "base_uri": "https://localhost:8080/"
        },
        "id": "O8z3nCDDJDjW",
        "outputId": "81fd41c1-2b7d-4ad0-a1c0-30ea8da432d9"
      },
      "execution_count": null,
      "outputs": [
        {
          "output_type": "stream",
          "name": "stdout",
          "text": [
            " 0\n",
            " 1\n",
            " 2\n",
            " 3\n",
            " 4\n",
            " 5\n",
            " 6\n",
            " 7\n",
            " 8\n",
            "[torch.storage.TypedStorage(dtype=torch.int64, device=cpu) of size 9]\n"
          ]
        },
        {
          "output_type": "execute_result",
          "data": {
            "text/plain": [
              "False"
            ]
          },
          "metadata": {},
          "execution_count": 52
        }
      ]
    },
    {
      "cell_type": "code",
      "source": [
        "a.storage().data_ptr() == a_sub.storage().data_ptr()"
      ],
      "metadata": {
        "colab": {
          "base_uri": "https://localhost:8080/"
        },
        "id": "0kOlauREJEqF",
        "outputId": "e1e558c9-a8c8-4c13-c819-805cbf818461"
      },
      "execution_count": null,
      "outputs": [
        {
          "output_type": "execute_result",
          "data": {
            "text/plain": [
              "True"
            ]
          },
          "metadata": {},
          "execution_count": 53
        }
      ]
    },
    {
      "cell_type": "code",
      "source": [
        "a_t = torch.transpose(a,0,1)\n",
        "a_t"
      ],
      "metadata": {
        "colab": {
          "base_uri": "https://localhost:8080/"
        },
        "id": "KUcsDxrrJGm8",
        "outputId": "9bebf71d-04bd-4c88-9e21-c1294918626b"
      },
      "execution_count": null,
      "outputs": [
        {
          "output_type": "execute_result",
          "data": {
            "text/plain": [
              "tensor([[0, 3, 6],\n",
              "        [1, 4, 7],\n",
              "        [2, 5, 8]])"
            ]
          },
          "metadata": {},
          "execution_count": 54
        }
      ]
    },
    {
      "cell_type": "code",
      "source": [
        "print(a_t.storage())\n",
        "a_t.is_contiguous()\n"
      ],
      "metadata": {
        "colab": {
          "base_uri": "https://localhost:8080/"
        },
        "id": "nyt7PNFkJIIq",
        "outputId": "575ce2e6-f1a9-4bb1-8ef1-4c1d875a5a1d"
      },
      "execution_count": null,
      "outputs": [
        {
          "output_type": "stream",
          "name": "stdout",
          "text": [
            " 0\n",
            " 1\n",
            " 2\n",
            " 3\n",
            " 4\n",
            " 5\n",
            " 6\n",
            " 7\n",
            " 8\n",
            "[torch.storage.TypedStorage(dtype=torch.int64, device=cpu) of size 9]\n"
          ]
        },
        {
          "output_type": "execute_result",
          "data": {
            "text/plain": [
              "False"
            ]
          },
          "metadata": {},
          "execution_count": 55
        }
      ]
    },
    {
      "cell_type": "code",
      "source": [
        "a_t[0,1] = 999\n",
        "print(a_t)\n",
        "print('-------')\n",
        "print(a)\n",
        "print('-------')\n",
        "print(a_sub)"
      ],
      "metadata": {
        "colab": {
          "base_uri": "https://localhost:8080/"
        },
        "id": "fhC4k_gcJJYd",
        "outputId": "5f3c7aca-16d3-4a05-cfb2-933f3dd4c147"
      },
      "execution_count": null,
      "outputs": [
        {
          "output_type": "stream",
          "name": "stdout",
          "text": [
            "tensor([[  0, 999,   6],\n",
            "        [  1,   4,   7],\n",
            "        [  2,   5,   8]])\n",
            "-------\n",
            "tensor([[  0,   1,   2],\n",
            "        [999,   4,   5],\n",
            "        [  6,   7,   8]])\n",
            "-------\n",
            "tensor([999,   6])\n"
          ]
        }
      ]
    },
    {
      "cell_type": "code",
      "source": [
        "print(f\"{a.shape=}, {a.size()=}, {a.stride()=}, {a.storage_offset()=}\")\n",
        "print(f\"{a_t.shape=}, {a_t.size()=}, {a_t.stride()=}, {a_t.storage_offset()=}\")\n",
        "print(f\"{a_sub.shape=}, {a_sub.size()=}, {a_sub.stride()=}, {a_sub.storage_offset()=}\")"
      ],
      "metadata": {
        "colab": {
          "base_uri": "https://localhost:8080/"
        },
        "id": "wiki_CO5JK9V",
        "outputId": "9445df90-a647-4f83-af00-375fa5bd7535"
      },
      "execution_count": null,
      "outputs": [
        {
          "output_type": "stream",
          "name": "stdout",
          "text": [
            "a.shape=torch.Size([3, 3]), a.size()=torch.Size([3, 3]), a.stride()=(3, 1), a.storage_offset()=0\n",
            "a_t.shape=torch.Size([3, 3]), a_t.size()=torch.Size([3, 3]), a_t.stride()=(1, 3), a_t.storage_offset()=0\n",
            "a_sub.shape=torch.Size([2]), a_sub.size()=torch.Size([2]), a_sub.stride()=(3,), a_sub.storage_offset()=3\n"
          ]
        }
      ]
    },
    {
      "cell_type": "code",
      "source": [
        "a_v = a.view((9,))\n",
        "a_v"
      ],
      "metadata": {
        "colab": {
          "base_uri": "https://localhost:8080/"
        },
        "id": "EHLdGFn3JMhZ",
        "outputId": "d54b5fa6-c5ae-4e44-f332-c98bed375c56"
      },
      "execution_count": null,
      "outputs": [
        {
          "output_type": "execute_result",
          "data": {
            "text/plain": [
              "tensor([  0,   1,   2, 999,   4,   5,   6,   7,   8])"
            ]
          },
          "metadata": {},
          "execution_count": 58
        }
      ]
    },
    {
      "cell_type": "code",
      "source": [
        "a_r = a.reshape((9,))\n",
        "a_r[3] = 777\n",
        "print('데이터 저장공간을 share함.')\n",
        "print('a_r: af.reshape')\n",
        "print(a_r)\n",
        "print('a: orginal')\n",
        "print(a)\n",
        "print('a_t: transposed')\n",
        "print(a_t)"
      ],
      "metadata": {
        "colab": {
          "base_uri": "https://localhost:8080/"
        },
        "id": "93MbqfEcJN7V",
        "outputId": "2b6d8e8e-5e6b-40dd-dc11-46983dfb4e23"
      },
      "execution_count": null,
      "outputs": [
        {
          "output_type": "stream",
          "name": "stdout",
          "text": [
            "데이터 저장공간을 share함.\n",
            "a_r: af.reshape\n",
            "tensor([  0,   1,   2, 777,   4,   5,   6,   7,   8])\n",
            "a: orginal\n",
            "tensor([[  0,   1,   2],\n",
            "        [777,   4,   5],\n",
            "        [  6,   7,   8]])\n",
            "a_t: transposed\n",
            "tensor([[  0, 777,   6],\n",
            "        [  1,   4,   7],\n",
            "        [  2,   5,   8]])\n"
          ]
        }
      ]
    },
    {
      "cell_type": "code",
      "source": [
        "a_t_r = a_t.reshape((9,)) # uncontiguous tensor에서는 새로 생성이 이루어짐.\n",
        "a_t_r"
      ],
      "metadata": {
        "colab": {
          "base_uri": "https://localhost:8080/"
        },
        "id": "p4Qem6SxJPGM",
        "outputId": "18196024-8ff8-4b6e-9a88-1de7ee934224"
      },
      "execution_count": null,
      "outputs": [
        {
          "output_type": "execute_result",
          "data": {
            "text/plain": [
              "tensor([  0, 777,   6,   1,   4,   7,   2,   5,   8])"
            ]
          },
          "metadata": {},
          "execution_count": 60
        }
      ]
    },
    {
      "cell_type": "code",
      "source": [
        "a_t_r[1] = 999\n",
        "print(a_t_r)\n",
        "print(a_t) # 달라짐."
      ],
      "metadata": {
        "colab": {
          "base_uri": "https://localhost:8080/"
        },
        "id": "y1PjmnfAJQsr",
        "outputId": "bac2029b-df31-4148-a2f8-b178f6dfb38a"
      },
      "execution_count": null,
      "outputs": [
        {
          "output_type": "stream",
          "name": "stdout",
          "text": [
            "tensor([  0, 999,   6,   1,   4,   7,   2,   5,   8])\n",
            "tensor([[  0, 777,   6],\n",
            "        [  1,   4,   7],\n",
            "        [  2,   5,   8]])\n"
          ]
        }
      ]
    },
    {
      "cell_type": "code",
      "source": [
        "act = a_t.contiguous()\n",
        "act"
      ],
      "metadata": {
        "colab": {
          "base_uri": "https://localhost:8080/"
        },
        "id": "Z7h6Kx2KJSBE",
        "outputId": "03bef230-fdde-4621-b079-7d4130c418ea"
      },
      "execution_count": null,
      "outputs": [
        {
          "output_type": "execute_result",
          "data": {
            "text/plain": [
              "tensor([[  0, 777,   6],\n",
              "        [  1,   4,   7],\n",
              "        [  2,   5,   8]])"
            ]
          },
          "metadata": {},
          "execution_count": 62
        }
      ]
    },
    {
      "cell_type": "code",
      "source": [
        "act.storage()"
      ],
      "metadata": {
        "colab": {
          "base_uri": "https://localhost:8080/"
        },
        "id": "dJmFADrMJTR_",
        "outputId": "8848f7de-b960-4b04-bca5-81b1f3477ffb"
      },
      "execution_count": null,
      "outputs": [
        {
          "output_type": "execute_result",
          "data": {
            "text/plain": [
              " 0\n",
              " 777\n",
              " 6\n",
              " 1\n",
              " 4\n",
              " 7\n",
              " 2\n",
              " 5\n",
              " 8\n",
              "[torch.storage.TypedStorage(dtype=torch.int64, device=cpu) of size 9]"
            ]
          },
          "metadata": {},
          "execution_count": 63
        }
      ]
    },
    {
      "cell_type": "code",
      "source": [
        "act[1] = 999\n",
        "print(act)\n",
        "print(a_t)"
      ],
      "metadata": {
        "colab": {
          "base_uri": "https://localhost:8080/"
        },
        "id": "AMeLvcIdJUgC",
        "outputId": "66aa3570-539b-462a-80d4-ee141cf48d45"
      },
      "execution_count": null,
      "outputs": [
        {
          "output_type": "stream",
          "name": "stdout",
          "text": [
            "tensor([[  0, 777,   6],\n",
            "        [999, 999, 999],\n",
            "        [  2,   5,   8]])\n",
            "tensor([[  0, 777,   6],\n",
            "        [  1,   4,   7],\n",
            "        [  2,   5,   8]])\n"
          ]
        }
      ]
    },
    {
      "cell_type": "code",
      "source": [
        "print(a)\n",
        "print('------')\n",
        "print('permute axis-0 and axis-1 = transpose')\n",
        "ap = a.permute([1,0]) # permute axis-0 and axis-1\n",
        "ap"
      ],
      "metadata": {
        "colab": {
          "base_uri": "https://localhost:8080/"
        },
        "id": "EOWGp7rHJWY3",
        "outputId": "903e34c7-a472-43e1-c473-b41c5739ea43"
      },
      "execution_count": null,
      "outputs": [
        {
          "output_type": "stream",
          "name": "stdout",
          "text": [
            "tensor([[  0,   1,   2],\n",
            "        [777,   4,   5],\n",
            "        [  6,   7,   8]])\n",
            "------\n",
            "permute axis-0 and axis-1 = transpose\n"
          ]
        },
        {
          "output_type": "execute_result",
          "data": {
            "text/plain": [
              "tensor([[  0, 777,   6],\n",
              "        [  1,   4,   7],\n",
              "        [  2,   5,   8]])"
            ]
          },
          "metadata": {},
          "execution_count": 65
        }
      ]
    },
    {
      "cell_type": "code",
      "source": [
        "a.storage().data_ptr() == ap.storage().data_ptr()"
      ],
      "metadata": {
        "colab": {
          "base_uri": "https://localhost:8080/"
        },
        "id": "o22_ZUGEJX7H",
        "outputId": "83c71507-931d-4ef9-bd60-f7e431882285"
      },
      "execution_count": null,
      "outputs": [
        {
          "output_type": "execute_result",
          "data": {
            "text/plain": [
              "True"
            ]
          },
          "metadata": {},
          "execution_count": 66
        }
      ]
    },
    {
      "cell_type": "code",
      "source": [
        "print(ap.is_contiguous())"
      ],
      "metadata": {
        "id": "K6EinUcvJblZ",
        "outputId": "57c50436-80e6-49e0-e1fa-915680cc4d21",
        "colab": {
          "base_uri": "https://localhost:8080/"
        }
      },
      "execution_count": null,
      "outputs": [
        {
          "output_type": "stream",
          "name": "stdout",
          "text": [
            "False\n"
          ]
        }
      ]
    },
    {
      "cell_type": "code",
      "source": [
        "ap2 = ap.contiguous()\n",
        "a.storage().data_ptr() == ap2.storage().data_ptr()"
      ],
      "metadata": {
        "id": "m9Orars5Jctd",
        "outputId": "d0ccf38c-781b-4d7f-8264-b7762bf5da71",
        "colab": {
          "base_uri": "https://localhost:8080/"
        }
      },
      "execution_count": null,
      "outputs": [
        {
          "output_type": "execute_result",
          "data": {
            "text/plain": [
              "False"
            ]
          },
          "metadata": {},
          "execution_count": 68
        }
      ]
    },
    {
      "cell_type": "code",
      "source": [
        "ap2.is_contiguous()"
      ],
      "metadata": {
        "id": "e6c7YTXVJePy",
        "outputId": "a9c54407-8bfb-478d-e272-c326428342b0",
        "colab": {
          "base_uri": "https://localhost:8080/"
        }
      },
      "execution_count": null,
      "outputs": [
        {
          "output_type": "execute_result",
          "data": {
            "text/plain": [
              "True"
            ]
          },
          "metadata": {},
          "execution_count": 69
        }
      ]
    },
    {
      "cell_type": "code",
      "source": [],
      "metadata": {
        "id": "nfWSi7AiJfwj"
      },
      "execution_count": null,
      "outputs": []
    }
  ]
}