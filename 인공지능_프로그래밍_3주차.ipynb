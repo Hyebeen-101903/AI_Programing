{
  "nbformat": 4,
  "nbformat_minor": 0,
  "metadata": {
    "colab": {
      "provenance": [],
      "authorship_tag": "ABX9TyMTYzXI5WrRp3jlfqNai8vY",
      "include_colab_link": true
    },
    "kernelspec": {
      "name": "python3",
      "display_name": "Python 3"
    },
    "language_info": {
      "name": "python"
    }
  },
  "cells": [
    {
      "cell_type": "markdown",
      "metadata": {
        "id": "view-in-github",
        "colab_type": "text"
      },
      "source": [
        "<a href=\"https://colab.research.google.com/github/Hyebeen-101903/AI_Programing/blob/main/%EC%9D%B8%EA%B3%B5%EC%A7%80%EB%8A%A5_%ED%94%84%EB%A1%9C%EA%B7%B8%EB%9E%98%EB%B0%8D_3%EC%A3%BC%EC%B0%A8.ipynb\" target=\"_parent\"><img src=\"https://colab.research.google.com/assets/colab-badge.svg\" alt=\"Open In Colab\"/></a>"
      ]
    },
    {
      "cell_type": "code",
      "source": [
        "import numpy as np\n",
        "import tensorflow as tf\n",
        "import torch\n"
      ],
      "metadata": {
        "id": "mQHDAslOm8sv"
      },
      "execution_count": 2,
      "outputs": []
    },
    {
      "cell_type": "markdown",
      "source": [
        "#dtype 변경"
      ],
      "metadata": {
        "id": "6LqhN7I2xJKn"
      }
    },
    {
      "cell_type": "code",
      "execution_count": 5,
      "metadata": {
        "id": "irdZke7wk_sD"
      },
      "outputs": [],
      "source": [
        "t = (1,2,3,4,5,6)\n",
        "\n",
        "a= np.array(t)\n",
        "a_tf = tf.constant(t)\n",
        "a_torch = torch.tensor(t)"
      ]
    },
    {
      "cell_type": "code",
      "source": [
        "a1 = a_tf.numpy()\n",
        "a2 = a_torch.numpy()"
      ],
      "metadata": {
        "id": "UcASTTPxmwly"
      },
      "execution_count": 6,
      "outputs": []
    },
    {
      "cell_type": "code",
      "source": [
        "a3 = a_torch.numpy().copy()\n",
        "a3[0] = 999\n",
        "print(a3)\n",
        "print(a_torch)\n"
      ],
      "metadata": {
        "colab": {
          "base_uri": "https://localhost:8080/"
        },
        "id": "8CF5idIKvuww",
        "outputId": "510afde2-fff7-4e11-e899-4a143cbf6fdd"
      },
      "execution_count": 7,
      "outputs": [
        {
          "output_type": "stream",
          "name": "stdout",
          "text": [
            "[999   2   3   4   5   6]\n",
            "tensor([1, 2, 3, 4, 5, 6])\n"
          ]
        }
      ]
    },
    {
      "cell_type": "code",
      "source": [
        "a2[0] = 777\n",
        "print(a2)\n",
        "print(a_torch)"
      ],
      "metadata": {
        "colab": {
          "base_uri": "https://localhost:8080/"
        },
        "id": "iXYJ7UtunRi6",
        "outputId": "184cb96b-2e32-4562-d361-ce34c79f0546"
      },
      "execution_count": null,
      "outputs": [
        {
          "output_type": "stream",
          "name": "stdout",
          "text": [
            "[777   2   3   4   5   6]\n",
            "tensor([777,   2,   3,   4,   5,   6])\n"
          ]
        }
      ]
    },
    {
      "cell_type": "code",
      "source": [
        "print(a1)\n",
        "print(a_tf)\n",
        "a1[0] = 888\n",
        "print(a1)\n",
        "print(a_tf)"
      ],
      "metadata": {
        "colab": {
          "base_uri": "https://localhost:8080/"
        },
        "id": "lQjCSxUbnXMF",
        "outputId": "ae356255-ba68-4d66-d12b-51bcebf4227a"
      },
      "execution_count": null,
      "outputs": [
        {
          "output_type": "stream",
          "name": "stdout",
          "text": [
            "[1 2 3 4 5 6]\n",
            "tf.Tensor([1 2 3 4 5 6], shape=(6,), dtype=int32)\n",
            "[888   2   3   4   5   6]\n",
            "tf.Tensor([1 2 3 4 5 6], shape=(6,), dtype=int32)\n"
          ]
        }
      ]
    },
    {
      "cell_type": "code",
      "source": [
        "print(a_torch)\n",
        "a3 = a_torch.numpy().copy()\n",
        "a3[0] = 999\n",
        "print(a3)\n",
        "print(a_torch)"
      ],
      "metadata": {
        "colab": {
          "base_uri": "https://localhost:8080/"
        },
        "id": "sUn9kJREnhuo",
        "outputId": "f05d34f8-c605-4d54-c64f-e6c7e900a6a0"
      },
      "execution_count": null,
      "outputs": [
        {
          "output_type": "stream",
          "name": "stdout",
          "text": [
            "tensor([777,   2,   3,   4,   5,   6])\n",
            "[999   2   3   4   5   6]\n",
            "tensor([777,   2,   3,   4,   5,   6])\n"
          ]
        }
      ]
    },
    {
      "cell_type": "code",
      "source": [
        "t = (1,2,3,4,5,6)\n",
        "\n",
        "a = np.array(t)\n",
        "a_tf = tf.constant(a)\n",
        "a_torch = torch.tensor(a)"
      ],
      "metadata": {
        "id": "HS7zUAWqnsZ3"
      },
      "execution_count": null,
      "outputs": []
    },
    {
      "cell_type": "code",
      "source": [
        "a= np.array(t) #numpy의ndarray\n",
        "\n",
        "a_tf = tf.convert_to_tensor(a) # ndarray -> tensor (텐서플로우.텐서로 변환)\n",
        "a_torch = torch.from_numpy(a) # ndarray -> tensor (토치. 넘파이에서 변환)\n",
        "print(a_tf)\n",
        "print(a_torch)"
      ],
      "metadata": {
        "colab": {
          "base_uri": "https://localhost:8080/"
        },
        "id": "7BzQFRd6wKA4",
        "outputId": "d3e83de0-a380-439c-97ac-b6e305050974"
      },
      "execution_count": 8,
      "outputs": [
        {
          "output_type": "stream",
          "name": "stdout",
          "text": [
            "tf.Tensor([1 2 3 4 5 6], shape=(6,), dtype=int64)\n",
            "tensor([1, 2, 3, 4, 5, 6])\n"
          ]
        }
      ]
    },
    {
      "cell_type": "code",
      "source": [
        "t = (1,2,3,4,5,6)\n",
        "\n",
        "a_tf = tf.convert_to_tensor(a)\n",
        "a_torch = torch.from_numpy(a)\n",
        "print(a_tf)\n",
        "print(a_torch)"
      ],
      "metadata": {
        "colab": {
          "base_uri": "https://localhost:8080/"
        },
        "id": "vQBXftq2n24U",
        "outputId": "42cb077b-226f-4e98-90a5-117058d347b1"
      },
      "execution_count": null,
      "outputs": [
        {
          "output_type": "stream",
          "name": "stdout",
          "text": [
            "tf.Tensor([1 2 3 4 5 6], shape=(6,), dtype=int64)\n",
            "tensor([1, 2, 3, 4, 5, 6])\n"
          ]
        }
      ]
    },
    {
      "cell_type": "code",
      "source": [
        "a = np.ones((3,3)) #모든 원소가 1로 채워진 3X3배열 생성\n",
        "b = np.uint8(a)  # 배열 a를 unit8형식으로 변환\n",
        "c = a.astype('float32') # qoduf a를 float32형식으로 변환\n",
        "print(c)\n",
        "\n",
        "print(id(a),a.dtype)\n",
        "print(id(b),b.dtype)\n",
        "print(id(c),c.dtype)"
      ],
      "metadata": {
        "colab": {
          "base_uri": "https://localhost:8080/"
        },
        "id": "sVjbfC_ZwkiX",
        "outputId": "f36191b6-163f-432c-d582-d49ef9262c0b"
      },
      "execution_count": 9,
      "outputs": [
        {
          "output_type": "stream",
          "name": "stdout",
          "text": [
            "[[1. 1. 1.]\n",
            " [1. 1. 1.]\n",
            " [1. 1. 1.]]\n",
            "134055927045104 float64\n",
            "134055927044912 uint8\n",
            "134050796008528 float32\n"
          ]
        }
      ]
    },
    {
      "cell_type": "code",
      "source": [
        "a_torch = torch.rand(3,4)          #  3x4 크기의 배열을 생성하고 0과 1 사이의 임의의 값으로 채움\n",
        "b_torch = a_torch.to(torch.uint8)  #  a_torch 배열을 uint8 형식으로 변환하여 b_torch에 저장\n",
        "c_torch = a_torch.type(torch.float64) #  a_torch 배열을 float64 형식으로 변환하여 c_torch에 저장\n",
        "\n",
        "print(b_torch)                      #  b_torch 배열을 출력합니다.\n",
        "print(c_torch)\n",
        "print(id(a_torch), a_torch.dtype)   #  a_torch 배열의 메모리 주소와 데이터 타입을 출력합니다.\n",
        "print(id(b_torch), b_torch.dtype)\n",
        "print(id(c_torch), c_torch.dtype)\n",
        "\n",
        "b_torch[0,1] = 9                    #  b_torch 배열의 특정 원소를 변경\n",
        "c_torch[0,0] = 1000                 #  c_torch 배열의 특정 원소를 변경\n",
        "print(a_torch)\n",
        "print(b_torch)\n",
        "print(c_torch)"
      ],
      "metadata": {
        "colab": {
          "base_uri": "https://localhost:8080/"
        },
        "id": "SAz1CtUqwnDG",
        "outputId": "49002cd7-1dde-4d13-a409-149ea7e86553"
      },
      "execution_count": 10,
      "outputs": [
        {
          "output_type": "stream",
          "name": "stdout",
          "text": [
            "tensor([[0, 0, 0, 0],\n",
            "        [0, 0, 0, 0],\n",
            "        [0, 0, 0, 0]], dtype=torch.uint8)\n",
            "tensor([[0.1040, 0.4680, 0.2998, 0.9940],\n",
            "        [0.9463, 0.7831, 0.7059, 0.3893],\n",
            "        [0.1493, 0.2001, 0.1805, 0.1987]], dtype=torch.float64)\n",
            "134050796174400 torch.float32\n",
            "134050796174240 torch.uint8\n",
            "134050796180784 torch.float64\n",
            "tensor([[0.1040, 0.4680, 0.2998, 0.9940],\n",
            "        [0.9463, 0.7831, 0.7059, 0.3893],\n",
            "        [0.1493, 0.2001, 0.1805, 0.1987]])\n",
            "tensor([[0, 9, 0, 0],\n",
            "        [0, 0, 0, 0],\n",
            "        [0, 0, 0, 0]], dtype=torch.uint8)\n",
            "tensor([[1.0000e+03, 4.6805e-01, 2.9978e-01, 9.9401e-01],\n",
            "        [9.4630e-01, 7.8312e-01, 7.0588e-01, 3.8931e-01],\n",
            "        [1.4926e-01, 2.0009e-01, 1.8045e-01, 1.9871e-01]], dtype=torch.float64)\n"
          ]
        }
      ]
    },
    {
      "cell_type": "code",
      "source": [
        "a_tf = tf.random.uniform(shape = (3,4))  # 3x4 크기의 텐서를 생성하고 0과 1 사이의 균등 분포에서 난수를 생성\n",
        "c_tf = tf.dtypes.cast(a_tf, tf.float64)  # a_tf 텐서를 float64 형식으로 변환하여 c_tf에 저장합\n",
        "print(c_tf)                              # c_tf 텐서를 출력\n",
        "print(id(a_tf), a_tf.dtype)              # a_tf 텐서의 메모리 주소와 데이터 타입을 출력\n",
        "print(id(c_tf), c_tf.dtype)              # c_tf 텐서의 메모리 주소와 데이터 타입을 출력\n"
      ],
      "metadata": {
        "colab": {
          "base_uri": "https://localhost:8080/"
        },
        "id": "-vL8E0vNwtSF",
        "outputId": "e29933e6-5405-40a4-eef9-8b8900c9ded9"
      },
      "execution_count": 11,
      "outputs": [
        {
          "output_type": "stream",
          "name": "stdout",
          "text": [
            "tf.Tensor(\n",
            "[[0.55759323 0.4983356  0.82520878 0.27248204]\n",
            " [0.0463829  0.99655068 0.27932119 0.74602354]\n",
            " [0.32393467 0.30878186 0.96488488 0.36481023]], shape=(3, 4), dtype=float64)\n",
            "134050831263248 <dtype: 'float32'>\n",
            "134056489056944 <dtype: 'float64'>\n"
          ]
        }
      ]
    },
    {
      "cell_type": "code",
      "source": [
        "dir(7.0)"
      ],
      "metadata": {
        "colab": {
          "base_uri": "https://localhost:8080/"
        },
        "id": "d0KEouNPpYGV",
        "outputId": "04358342-59e9-4a4f-eeeb-8340071b7d53"
      },
      "execution_count": null,
      "outputs": [
        {
          "output_type": "execute_result",
          "data": {
            "text/plain": [
              "['__abs__',\n",
              " '__add__',\n",
              " '__bool__',\n",
              " '__ceil__',\n",
              " '__class__',\n",
              " '__delattr__',\n",
              " '__dir__',\n",
              " '__divmod__',\n",
              " '__doc__',\n",
              " '__eq__',\n",
              " '__float__',\n",
              " '__floor__',\n",
              " '__floordiv__',\n",
              " '__format__',\n",
              " '__ge__',\n",
              " '__getattribute__',\n",
              " '__getformat__',\n",
              " '__getnewargs__',\n",
              " '__gt__',\n",
              " '__hash__',\n",
              " '__init__',\n",
              " '__init_subclass__',\n",
              " '__int__',\n",
              " '__le__',\n",
              " '__lt__',\n",
              " '__mod__',\n",
              " '__mul__',\n",
              " '__ne__',\n",
              " '__neg__',\n",
              " '__new__',\n",
              " '__pos__',\n",
              " '__pow__',\n",
              " '__radd__',\n",
              " '__rdivmod__',\n",
              " '__reduce__',\n",
              " '__reduce_ex__',\n",
              " '__repr__',\n",
              " '__rfloordiv__',\n",
              " '__rmod__',\n",
              " '__rmul__',\n",
              " '__round__',\n",
              " '__rpow__',\n",
              " '__rsub__',\n",
              " '__rtruediv__',\n",
              " '__setattr__',\n",
              " '__setformat__',\n",
              " '__sizeof__',\n",
              " '__str__',\n",
              " '__sub__',\n",
              " '__subclasshook__',\n",
              " '__truediv__',\n",
              " '__trunc__',\n",
              " 'as_integer_ratio',\n",
              " 'conjugate',\n",
              " 'fromhex',\n",
              " 'hex',\n",
              " 'imag',\n",
              " 'is_integer',\n",
              " 'real']"
            ]
          },
          "metadata": {},
          "execution_count": 11
        }
      ]
    },
    {
      "cell_type": "code",
      "source": [
        "a_torch.dtype\n"
      ],
      "metadata": {
        "colab": {
          "base_uri": "https://localhost:8080/"
        },
        "id": "EnSCXBi7rbPb",
        "outputId": "182f880b-9cc1-4979-f054-a71fdbbb1ff9"
      },
      "execution_count": null,
      "outputs": [
        {
          "output_type": "execute_result",
          "data": {
            "text/plain": [
              "torch.int64"
            ]
          },
          "metadata": {},
          "execution_count": 12
        }
      ]
    },
    {
      "cell_type": "code",
      "source": [
        "a_torch.to(dtype = torch.float32)\n"
      ],
      "metadata": {
        "colab": {
          "base_uri": "https://localhost:8080/"
        },
        "id": "WqRIxnuPrigb",
        "outputId": "2bfad6d1-6d34-46bd-bfa5-2e973406523d"
      },
      "execution_count": null,
      "outputs": [
        {
          "output_type": "execute_result",
          "data": {
            "text/plain": [
              "tensor([1., 2., 3., 4., 5., 6.])"
            ]
          },
          "metadata": {},
          "execution_count": 13
        }
      ]
    },
    {
      "cell_type": "code",
      "source": [
        "ori = [1,2,3,4]"
      ],
      "metadata": {
        "id": "XlX7bEbTsDr4"
      },
      "execution_count": null,
      "outputs": []
    },
    {
      "cell_type": "code",
      "source": [
        "sorted(ori)"
      ],
      "metadata": {
        "colab": {
          "base_uri": "https://localhost:8080/"
        },
        "id": "goWNNpNVrucK",
        "outputId": "df7ee1f6-0bac-426c-c866-b1682bbe936f"
      },
      "execution_count": null,
      "outputs": [
        {
          "output_type": "execute_result",
          "data": {
            "text/plain": [
              "[1, 2, 3, 4]"
            ]
          },
          "metadata": {},
          "execution_count": 17
        }
      ]
    },
    {
      "cell_type": "code",
      "source": [
        "ori.sort()"
      ],
      "metadata": {
        "id": "fG6bimfHsRs5"
      },
      "execution_count": null,
      "outputs": []
    },
    {
      "cell_type": "code",
      "source": [
        "print(ori)"
      ],
      "metadata": {
        "colab": {
          "base_uri": "https://localhost:8080/"
        },
        "id": "lojoQ4ddsWPz",
        "outputId": "a7afdea6-b8d2-4e0c-b033-13ec5998e4d4"
      },
      "execution_count": null,
      "outputs": [
        {
          "output_type": "stream",
          "name": "stdout",
          "text": [
            "[1, 2, 3, 4]\n"
          ]
        }
      ]
    },
    {
      "cell_type": "code",
      "source": [
        "ori = [3,2,1,4]\n",
        "ori.sort()"
      ],
      "metadata": {
        "id": "Hh3w67XqsZRV"
      },
      "execution_count": null,
      "outputs": []
    },
    {
      "cell_type": "code",
      "source": [
        "ori\n"
      ],
      "metadata": {
        "colab": {
          "base_uri": "https://localhost:8080/"
        },
        "id": "z0bQ1S8-scxP",
        "outputId": "cfe81363-a5c1-4f47-8518-10c70e4b3090"
      },
      "execution_count": null,
      "outputs": [
        {
          "output_type": "execute_result",
          "data": {
            "text/plain": [
              "[1, 2, 3, 4]"
            ]
          },
          "metadata": {},
          "execution_count": 22
        }
      ]
    },
    {
      "cell_type": "markdown",
      "source": [
        "#Shape 변경#\n"
      ],
      "metadata": {
        "id": "lq4y-AdHwysc"
      }
    },
    {
      "cell_type": "code",
      "source": [
        "a = np.arange(0,10,1) # [ s:e :step_size]\n",
        "b = a.reshape((2,5))\n",
        "print(a.shape,id(a))\n",
        "print(b.shape,id(b))\n",
        "c = np.reshape(a,(5,2))\n",
        "print(c.shape,id(c))\n",
        "c[0,0] = 1000\n",
        "print(a)\n",
        "print(b)\n",
        "print(c)"
      ],
      "metadata": {
        "colab": {
          "base_uri": "https://localhost:8080/"
        },
        "id": "nsJAwWR0sgjo",
        "outputId": "ad1fc84c-2dd3-4ffd-e8f4-27c48c423047"
      },
      "execution_count": null,
      "outputs": [
        {
          "output_type": "stream",
          "name": "stdout",
          "text": [
            "(10,) 136797065283696\n",
            "(2, 5) 136797065284464\n",
            "(5, 2) 136797065283216\n",
            "[1000    1    2    3    4    5    6    7    8    9]\n",
            "[[1000    1    2    3    4]\n",
            " [   5    6    7    8    9]]\n",
            "[[1000    1]\n",
            " [   2    3]\n",
            " [   4    5]\n",
            " [   6    7]\n",
            " [   8    9]]\n"
          ]
        }
      ]
    },
    {
      "cell_type": "code",
      "source": [
        "a_torch = torch.arange(0,10,1)\n",
        "b_torch = a_torch.reshape((2,5))\n",
        "print(a_torch.shape,id(a_torch))\n",
        "print(b_torch.shape,id(b_torch))\n",
        "c_torch = torch.reshape(a_torch,(5,2))\n",
        "print(c_torch.shape,id(c_torch))\n",
        "c_torch[0,0] = 1000\n",
        "\n",
        "print(a_torch)\n",
        "print(b_torch)\n",
        "print(c_torch)\n"
      ],
      "metadata": {
        "colab": {
          "base_uri": "https://localhost:8080/"
        },
        "id": "gaFhrqYGxdu8",
        "outputId": "59bae39e-853a-4e4e-8459-06f40ff66e0b"
      },
      "execution_count": null,
      "outputs": [
        {
          "output_type": "stream",
          "name": "stdout",
          "text": [
            "torch.Size([10]) 136797065451200\n",
            "torch.Size([2, 5]) 136797065449200\n",
            "torch.Size([5, 2]) 136797064975984\n",
            "tensor([1000,    1,    2,    3,    4,    5,    6,    7,    8,    9])\n",
            "tensor([[1000,    1,    2,    3,    4],\n",
            "        [   5,    6,    7,    8,    9]])\n",
            "tensor([[1000,    1],\n",
            "        [   2,    3],\n",
            "        [   4,    5],\n",
            "        [   6,    7],\n",
            "        [   8,    9]])\n"
          ]
        }
      ]
    },
    {
      "cell_type": "code",
      "source": [
        "a_tensor = tf.range(0,10,1)\n",
        "b_tensor = tf.reshape(a_tensor,(2,5))\n",
        "# b_tensor = a_tensor.reshape((2,5)) # not working\n",
        "print(a_tensor.shape,id(a_tensor))\n",
        "print(b_tensor.shape,id(b_tensor))\n",
        "\n",
        "c_tensor = tf.reshape(a_tensor,(5,2))\n",
        "print(c_tensor.shape,id(c_tensor))\n",
        "\n",
        "# 변경하고 싶은 위치와 값을 정의\n",
        "indices = tf.constant([[0, 0]]) # (2, 2) 위치를 변경하고자 함\n",
        "updates = tf.constant([999]) # 해당 위치에 넣고 싶은 값\n",
        "\n",
        "# 업데이트 적용\n",
        "c_tensor = tf.tensor_scatter_nd_update(c_tensor, indices, updates)\n",
        "\n",
        "print(a_tensor)\n",
        "print(b_tensor)\n",
        "print(c_tensor)"
      ],
      "metadata": {
        "colab": {
          "base_uri": "https://localhost:8080/"
        },
        "id": "iPCcs2Esyp4W",
        "outputId": "98e9822c-8ea9-42ed-952f-c4e087874010"
      },
      "execution_count": null,
      "outputs": [
        {
          "output_type": "stream",
          "name": "stdout",
          "text": [
            "(10,) 136797068139632\n",
            "(2, 5) 136797128850272\n",
            "(5, 2) 136802713157872\n",
            "tf.Tensor([0 1 2 3 4 5 6 7 8 9], shape=(10,), dtype=int32)\n",
            "tf.Tensor(\n",
            "[[0 1 2 3 4]\n",
            " [5 6 7 8 9]], shape=(2, 5), dtype=int32)\n",
            "tf.Tensor(\n",
            "[[999   1]\n",
            " [  2   3]\n",
            " [  4   5]\n",
            " [  6   7]\n",
            " [  8   9]], shape=(5, 2), dtype=int32)\n"
          ]
        }
      ]
    },
    {
      "cell_type": "markdown",
      "source": [
        "#Slicing and Indexing"
      ],
      "metadata": {
        "id": "P8YPOeWpw7t1"
      }
    },
    {
      "cell_type": "code",
      "source": [
        "a = np.arange(0,12).reshape(3,4)\n",
        "\n",
        "print(a)\n",
        "print('==================')\n",
        "print(f'a[0] is \"{a[0]}\"')       # 첫번째 행.\n",
        "print(f'a[0,2] is \"{a[0,2]}\"')   # 2\n",
        "print(f'a[0][2] is \"{a[0][2]}\"') # 2\n",
        "print('------------------')\n",
        "print(f'a[1,2:] is \"{a[1,2:]}\"') # slicing의 활용.\n",
        "print(f'a[1,::2] is \"{a[1,::2]}\"')\n",
        "print(f'a[1,::-2] is \"{a[1,::-2]}\"')\n",
        "print(f'a[1,::-1] is \"{a[1,::-1]}\"')\n",
        "print(f'a[1,3:0:-1] is \"{a[1,3:0:-1]}\"')"
      ],
      "metadata": {
        "colab": {
          "base_uri": "https://localhost:8080/"
        },
        "id": "sGB_Q-LIyrpV",
        "outputId": "6ef05e97-68ba-4042-c74a-f79e318eec06"
      },
      "execution_count": null,
      "outputs": [
        {
          "output_type": "stream",
          "name": "stdout",
          "text": [
            "[[ 0  1  2  3]\n",
            " [ 4  5  6  7]\n",
            " [ 8  9 10 11]]\n",
            "==================\n",
            "a[0] is \"[0 1 2 3]\"\n",
            "a[0,2] is \"2\"\n",
            "a[0][2] is \"2\"\n",
            "------------------\n",
            "a[1,2:] is \"[6 7]\"\n",
            "a[1,::2] is \"[4 6]\"\n",
            "a[1,::-2] is \"[7 5]\"\n",
            "a[1,::-1] is \"[7 6 5 4]\"\n",
            "a[1,3:0:-1] is \"[7 6 5]\"\n"
          ]
        }
      ]
    },
    {
      "cell_type": "code",
      "source": [
        "a[0:3:-1] #코드가 돌지 않음\n",
        "a[3:0:-1]"
      ],
      "metadata": {
        "colab": {
          "base_uri": "https://localhost:8080/"
        },
        "id": "zhueG2Wr03hd",
        "outputId": "8e13ab20-9d82-443c-9592-285f009a692b"
      },
      "execution_count": null,
      "outputs": [
        {
          "output_type": "execute_result",
          "data": {
            "text/plain": [
              "array([[ 8,  9, 10, 11],\n",
              "       [ 4,  5,  6,  7]])"
            ]
          },
          "metadata": {},
          "execution_count": 29
        }
      ]
    },
    {
      "cell_type": "code",
      "source": [
        "a = np.arange(0,12).reshape(3,4)\n",
        "a_torch = torch.tensor(a)\n",
        "\n",
        "print(a_torch)\n",
        "print(f'a_torch[0] is \"{a_torch[0]}\"')       # 첫번째 행.\n",
        "print(f'a_torch[0,2] is \"{a_torch[0,2]}\"')   # 2\n",
        "print(f'a_torch[0][2] is \"{a_torch[0][2]}\"') # 2\n",
        "\n",
        "print(f'a_torch[1,2:] is \"{a_torch[1,2:]}\"')\n",
        "print(f'a_torch[1,::2] is \"{a_torch[1,::2]}\"')\n",
        "# print(f'a_torch[1,::-2] is \"{a_torch[1,::-2]}\"')\n",
        "# print(f'a_torch[1,::-1] is \"{a_torch[1,::-1]}\"')\n",
        "# print(f'a_torch[1,3:0:-1] is \"{a_torch[1,3:0:-1]}\"')"
      ],
      "metadata": {
        "colab": {
          "base_uri": "https://localhost:8080/"
        },
        "id": "bgN4pshQ1kA1",
        "outputId": "49bd9be0-a34f-469f-8220-a821acb10ee1"
      },
      "execution_count": null,
      "outputs": [
        {
          "output_type": "stream",
          "name": "stdout",
          "text": [
            "tensor([[ 0,  1,  2,  3],\n",
            "        [ 4,  5,  6,  7],\n",
            "        [ 8,  9, 10, 11]])\n",
            "a_torch[0] is \"tensor([0, 1, 2, 3])\"\n",
            "a_torch[0,2] is \"2\"\n",
            "a_torch[0][2] is \"2\"\n",
            "a_torch[1,2:] is \"tensor([6, 7])\"\n",
            "a_torch[1,::2] is \"tensor([4, 6])\"\n"
          ]
        }
      ]
    },
    {
      "cell_type": "code",
      "source": [
        "i = np.where(b)\n",
        "i"
      ],
      "metadata": {
        "colab": {
          "base_uri": "https://localhost:8080/"
        },
        "id": "wjmCbnPX2IfZ",
        "outputId": "d171feed-1eef-4257-a7f2-68a132cc12c6"
      },
      "execution_count": null,
      "outputs": [
        {
          "output_type": "execute_result",
          "data": {
            "text/plain": [
              "(array([0, 0, 0, 0, 0, 1, 1, 1, 1, 1]), array([0, 1, 2, 3, 4, 0, 1, 2, 3, 4]))"
            ]
          },
          "metadata": {},
          "execution_count": 31
        }
      ]
    },
    {
      "cell_type": "code",
      "source": [
        "a = np.arange(0,12).reshape(3,4)\n",
        "a_tf = tf.constant(a)\n",
        "\n",
        "print(a_tf)\n",
        "print(f'a_tf[0] is \"{a_tf[0]}\"')       # 첫번째 행.\n",
        "print(f'a_tf[0,2] is \"{a_tf[0,2]}\"')   # 2\n",
        "print(f'a_tf[0][2] is \"{a_tf[0][2]}\"') # 2\n",
        "\n",
        "print(f'a_tf[1,2:] is \"{a_tf[1,2:]}\"')\n",
        "print(f'a_tf[1,::2] is \"{a_tf[1,::2]}\"')\n",
        "# print(f'a_tf[1,::-2] is \"{a_tf[1,::-2]}\"')\n",
        "# print(f'a_tf[1,::-1] is \"{a_tf[1,::-1]}\"')\n",
        "# print(f'a_tf[1,3:0:-1] is \"{a_tf[1,3:0:-1]}\"')"
      ],
      "metadata": {
        "id": "KUgNAIR37afz",
        "colab": {
          "base_uri": "https://localhost:8080/"
        },
        "outputId": "c7d25d39-ffaa-4ff9-ca53-ef46031a3fa0"
      },
      "execution_count": 12,
      "outputs": [
        {
          "output_type": "stream",
          "name": "stdout",
          "text": [
            "tf.Tensor(\n",
            "[[ 0  1  2  3]\n",
            " [ 4  5  6  7]\n",
            " [ 8  9 10 11]], shape=(3, 4), dtype=int64)\n",
            "a_tf[0] is \"[0 1 2 3]\"\n",
            "a_tf[0,2] is \"2\"\n",
            "a_tf[0][2] is \"2\"\n",
            "a_tf[1,2:] is \"[6 7]\"\n",
            "a_tf[1,::2] is \"[4 6]\"\n"
          ]
        }
      ]
    },
    {
      "cell_type": "code",
      "source": [
        "x = np.array([10.,20.,30.,40.,50.])\n",
        "x_torch = torch.tensor([10.,20.,30.,40.,50.])\n",
        "x_tf = tf.constant([10.,20.,30.,40.,50.])\n",
        "\n",
        "f_indices = [3, 4, 1]\n",
        "\n",
        "print('original:')\n",
        "print(x)\n",
        "print('----------')\n",
        "print('numpy:')\n",
        "print(x[f_indices])\n",
        "print('----------')\n",
        "print('torch:')\n",
        "print(x_torch[f_indices])\n",
        "print('----------')\n",
        "print('tensorflow:')\n",
        "print(tf.gather(x_tf,f_indices)) #1D 에선 gahter, 2D 이상시 gather_nd\n",
        "print(tf.gather_nd(x_tf, [ i for i in zip(f_indices,)])) # 굳이 쓴다면, 다음과 같이."
      ],
      "metadata": {
        "colab": {
          "base_uri": "https://localhost:8080/"
        },
        "id": "n4Gq0nhoz5uE",
        "outputId": "28160e02-8994-4568-ea6a-6e2e7654559f"
      },
      "execution_count": 13,
      "outputs": [
        {
          "output_type": "stream",
          "name": "stdout",
          "text": [
            "original:\n",
            "[10. 20. 30. 40. 50.]\n",
            "----------\n",
            "numpy:\n",
            "[40. 50. 20.]\n",
            "----------\n",
            "torch:\n",
            "tensor([40., 50., 20.])\n",
            "----------\n",
            "tensorflow:\n",
            "tf.Tensor([40. 50. 20.], shape=(3,), dtype=float32)\n",
            "tf.Tensor([40. 50. 20.], shape=(3,), dtype=float32)\n"
          ]
        }
      ]
    },
    {
      "cell_type": "code",
      "source": [
        "x = np.arange(5*5).reshape(5,5) * 10\n",
        "x_torch = torch.arange(5*5).view(size=(5,5)) * 10\n",
        "x_tf = tf.constant(x)\n",
        "\n",
        "indices_0 = [0, 1, 2]\n",
        "indices_1 = [0, 1, 2]\n",
        "\n",
        "print('original:')\n",
        "print(x)\n",
        "print('----------')\n",
        "print('numpy:')\n",
        "b = x[indices_0, indices_1]\n",
        "print('b.shape =',b.shape)\n",
        "print(b)\n",
        "print('----------')\n",
        "print('torch:')\n",
        "c = x_torch[indices_0, indices_1]\n",
        "print('c.shape =',c.shape)\n",
        "print(c)\n",
        "print('----------')\n",
        "print('tensorflow:')\n",
        "d = tf.gather_nd(x_tf, [ i for i in zip(indices_0, indices_1)])\n",
        "print('d.shape =',d.shape)\n",
        "print(d)"
      ],
      "metadata": {
        "colab": {
          "base_uri": "https://localhost:8080/"
        },
        "id": "jzL2EUwPz7zp",
        "outputId": "e809c9d7-0982-4821-e8cd-d26e942bfb19"
      },
      "execution_count": 14,
      "outputs": [
        {
          "output_type": "stream",
          "name": "stdout",
          "text": [
            "original:\n",
            "[[  0  10  20  30  40]\n",
            " [ 50  60  70  80  90]\n",
            " [100 110 120 130 140]\n",
            " [150 160 170 180 190]\n",
            " [200 210 220 230 240]]\n",
            "----------\n",
            "numpy:\n",
            "b.shape = (3,)\n",
            "[  0  60 120]\n",
            "----------\n",
            "torch:\n",
            "c.shape = torch.Size([3])\n",
            "tensor([  0,  60, 120])\n",
            "----------\n",
            "tensorflow:\n",
            "d.shape = (3,)\n",
            "tf.Tensor([  0  60 120], shape=(3,), dtype=int64)\n"
          ]
        }
      ]
    },
    {
      "cell_type": "code",
      "source": [
        "x = np.arange(5*5*5).reshape(5,5,5) * 10\n",
        "x_torch = torch.arange(5*5*5).view(size=(5,5,5)) * 10\n",
        "x_tf = tf.constant(x)\n",
        "\n",
        "indices_0 = [0, 1] # x\n",
        "indices_1 = [1, 2] # y\n",
        "indices_2 = [2, 0] # z\n",
        "\n",
        "print('original:')\n",
        "print(x)\n",
        "print('----------')\n",
        "print('numpy:')\n",
        "b = x[indices_0, indices_1, indices_2]\n",
        "print('b.shape=',b.shape)\n",
        "print(b)\n",
        "print('----------')\n",
        "print('torch:')\n",
        "c = x_torch[indices_0, indices_1, indices_2]\n",
        "print('c.shape=',c.shape)\n",
        "print(c)\n",
        "print('----------')\n",
        "print('tensorflow')\n",
        "d = tf.gather_nd(x_tf, [ i for i in zip(indices_0, indices_1, indices_2)]) # multi-dim 에선 gater_nd 임.\n",
        "print('d.shape=',d.shape)\n",
        "print(d)"
      ],
      "metadata": {
        "colab": {
          "base_uri": "https://localhost:8080/"
        },
        "id": "dFWJRsOlz-uv",
        "outputId": "e7b67487-28ae-458e-f81c-448cd50685df"
      },
      "execution_count": 15,
      "outputs": [
        {
          "output_type": "stream",
          "name": "stdout",
          "text": [
            "original:\n",
            "[[[   0   10   20   30   40]\n",
            "  [  50   60   70   80   90]\n",
            "  [ 100  110  120  130  140]\n",
            "  [ 150  160  170  180  190]\n",
            "  [ 200  210  220  230  240]]\n",
            "\n",
            " [[ 250  260  270  280  290]\n",
            "  [ 300  310  320  330  340]\n",
            "  [ 350  360  370  380  390]\n",
            "  [ 400  410  420  430  440]\n",
            "  [ 450  460  470  480  490]]\n",
            "\n",
            " [[ 500  510  520  530  540]\n",
            "  [ 550  560  570  580  590]\n",
            "  [ 600  610  620  630  640]\n",
            "  [ 650  660  670  680  690]\n",
            "  [ 700  710  720  730  740]]\n",
            "\n",
            " [[ 750  760  770  780  790]\n",
            "  [ 800  810  820  830  840]\n",
            "  [ 850  860  870  880  890]\n",
            "  [ 900  910  920  930  940]\n",
            "  [ 950  960  970  980  990]]\n",
            "\n",
            " [[1000 1010 1020 1030 1040]\n",
            "  [1050 1060 1070 1080 1090]\n",
            "  [1100 1110 1120 1130 1140]\n",
            "  [1150 1160 1170 1180 1190]\n",
            "  [1200 1210 1220 1230 1240]]]\n",
            "----------\n",
            "numpy:\n",
            "b.shape= (2,)\n",
            "[ 70 350]\n",
            "----------\n",
            "torch:\n",
            "c.shape= torch.Size([2])\n",
            "tensor([ 70, 350])\n",
            "----------\n",
            "tensorflow\n",
            "d.shape= (2,)\n",
            "tf.Tensor([ 70 350], shape=(2,), dtype=int64)\n"
          ]
        }
      ]
    },
    {
      "cell_type": "code",
      "source": [
        "x = np.arange(3*3*3).reshape(3,3,3) * 10\n",
        "\n",
        "print('original:')\n",
        "print(x)\n",
        "print('----------')\n",
        "print('boolean mask:')\n",
        "b = x <= 270/2\n",
        "print(b.shape)\n",
        "print(b)\n",
        "print('----------')\n",
        "print('x <= 135')\n",
        "print(x[b])\n",
        "print('----------')\n",
        "print(x[x<=270/2])\n",
        "print('----------')\n",
        "print('----------')\n",
        "print('x <= 135 | x>= 200')\n",
        "b1 = b | (x >= 200)\n",
        "print('----------')\n",
        "print('boolean mask')\n",
        "print(b1)\n",
        "print('----------')\n",
        "print(x[b1])\n",
        "print('----------')\n",
        "print(x[ (x<=270/2) | (x>=200)])"
      ],
      "metadata": {
        "colab": {
          "base_uri": "https://localhost:8080/"
        },
        "id": "2QAd4-TO0Atx",
        "outputId": "e6455795-4add-47cf-98d0-b6374516a755"
      },
      "execution_count": 16,
      "outputs": [
        {
          "output_type": "stream",
          "name": "stdout",
          "text": [
            "original:\n",
            "[[[  0  10  20]\n",
            "  [ 30  40  50]\n",
            "  [ 60  70  80]]\n",
            "\n",
            " [[ 90 100 110]\n",
            "  [120 130 140]\n",
            "  [150 160 170]]\n",
            "\n",
            " [[180 190 200]\n",
            "  [210 220 230]\n",
            "  [240 250 260]]]\n",
            "----------\n",
            "boolean mask:\n",
            "(3, 3, 3)\n",
            "[[[ True  True  True]\n",
            "  [ True  True  True]\n",
            "  [ True  True  True]]\n",
            "\n",
            " [[ True  True  True]\n",
            "  [ True  True False]\n",
            "  [False False False]]\n",
            "\n",
            " [[False False False]\n",
            "  [False False False]\n",
            "  [False False False]]]\n",
            "----------\n",
            "x <= 135\n",
            "[  0  10  20  30  40  50  60  70  80  90 100 110 120 130]\n",
            "----------\n",
            "[  0  10  20  30  40  50  60  70  80  90 100 110 120 130]\n",
            "----------\n",
            "----------\n",
            "x <= 135 | x>= 200\n",
            "----------\n",
            "boolean mask\n",
            "[[[ True  True  True]\n",
            "  [ True  True  True]\n",
            "  [ True  True  True]]\n",
            "\n",
            " [[ True  True  True]\n",
            "  [ True  True False]\n",
            "  [False False False]]\n",
            "\n",
            " [[False False  True]\n",
            "  [ True  True  True]\n",
            "  [ True  True  True]]]\n",
            "----------\n",
            "[  0  10  20  30  40  50  60  70  80  90 100 110 120 130 200 210 220 230\n",
            " 240 250 260]\n",
            "----------\n",
            "[  0  10  20  30  40  50  60  70  80  90 100 110 120 130 200 210 220 230\n",
            " 240 250 260]\n"
          ]
        }
      ]
    },
    {
      "cell_type": "code",
      "source": [
        "x_torch = torch.arange(3*3*3).view(size=(3,3,3)) * 10\n",
        "print(x_torch[ (x_torch<=270/2) | (x_torch>=200)])\n",
        "\n",
        "print('--------------')\n",
        "\n",
        "x_tf = tf.constant(x)\n",
        "print(x_tf[ (x_tf<= tf.cast(270/2, tf.int64)) | (x_tf>=200)])"
      ],
      "metadata": {
        "colab": {
          "base_uri": "https://localhost:8080/"
        },
        "id": "w8y6T5pg0DE5",
        "outputId": "e6af5c7a-487b-4d75-baf1-7ce415db9dc9"
      },
      "execution_count": 17,
      "outputs": [
        {
          "output_type": "stream",
          "name": "stdout",
          "text": [
            "tensor([  0,  10,  20,  30,  40,  50,  60,  70,  80,  90, 100, 110, 120, 130,\n",
            "        200, 210, 220, 230, 240, 250, 260])\n",
            "--------------\n",
            "tf.Tensor(\n",
            "[  0  10  20  30  40  50  60  70  80  90 100 110 120 130 200 210 220 230\n",
            " 240 250 260], shape=(21,), dtype=int64)\n"
          ]
        }
      ]
    },
    {
      "cell_type": "markdown",
      "source": [
        "#Fancy Indexing"
      ],
      "metadata": {
        "id": "g2JEHiKe0K0I"
      }
    },
    {
      "cell_type": "code",
      "source": [
        "#1D Tensor 에서의 fancy Indxing\n",
        "x = np.array([10.,20.,30.,40.,50.])\n",
        "x_torch = torch.tensor([10.,20.,30.,40.,50.])\n",
        "x_tf = tf.constant([10.,20.,30.,40.,50.])\n",
        "\n",
        "f_indices = [3, 4, 1]\n",
        "print(x[f_indices])\n",
        "print(x_torch[f_indices])\n",
        "print(tf.gather(x_tf,f_indices)) #1D 에선 gahter, 2D 이상시 gather_nd\n",
        "print(tf.gather_nd(x_tf, [ i for i in zip(f_indices,)])) # 굳이 쓴다면, 다음과 같이."
      ],
      "metadata": {
        "colab": {
          "base_uri": "https://localhost:8080/"
        },
        "id": "eb9xUXyD0D5c",
        "outputId": "748d29eb-f456-4232-edb3-e3b6d55ec097"
      },
      "execution_count": 18,
      "outputs": [
        {
          "output_type": "stream",
          "name": "stdout",
          "text": [
            "[40. 50. 20.]\n",
            "tensor([40., 50., 20.])\n",
            "tf.Tensor([40. 50. 20.], shape=(3,), dtype=float32)\n",
            "tf.Tensor([40. 50. 20.], shape=(3,), dtype=float32)\n"
          ]
        }
      ]
    },
    {
      "cell_type": "markdown",
      "source": [
        "2D Tensor에서의 Fancy Indexing"
      ],
      "metadata": {
        "id": "f0H3_kXL0bXL"
      }
    },
    {
      "cell_type": "code",
      "source": [
        "x = np.arange(5*5).reshape(5,5) * 10\n",
        "x_torch = torch.arange(5*5).view(size=(5,5)) * 10\n",
        "x_tf = tf.constant(x)\n",
        "\n",
        "indices_0 = [0, 1, 2]\n",
        "indices_1 = [0, 1, 2]\n",
        "\n",
        "\n",
        "b = x[indices_0, indices_1]\n",
        "print(b.shape)\n",
        "print(b)\n",
        "print('----------')\n",
        "c = x_torch[indices_0, indices_1]\n",
        "print(c.shape)\n",
        "print(c)\n",
        "print('----------')\n",
        "d = tf.gather_nd(x_tf, [ i for i in zip(indices_0, indices_1)])\n",
        "print(d.shape)\n",
        "print(d)"
      ],
      "metadata": {
        "id": "azSh6sq60SRV"
      },
      "execution_count": null,
      "outputs": []
    },
    {
      "cell_type": "markdown",
      "source": [
        "\n",
        "3D Tensor Example"
      ],
      "metadata": {
        "id": "NpNTkOaL0h_g"
      }
    },
    {
      "cell_type": "code",
      "source": [
        "x = np.arange(5*5*5).reshape(5,5,5) * 10\n",
        "x_torch = torch.arange(5*5*5).view(size=(5,5,5)) * 10\n",
        "x_tf = tf.constant(x)\n",
        "\n",
        "indices_0 = [0, 1]\n",
        "indices_1 = [1, 2]\n",
        "indices_2 = [2, 0]\n",
        "\n",
        "b = x[indices_0, indices_1, indices_2]\n",
        "print(b.shape)\n",
        "print(b)\n",
        "print('----------')\n",
        "c = x_torch[indices_0, indices_1, indices_2]\n",
        "print(c.shape)\n",
        "print(c)\n",
        "print('----------')\n",
        "d = tf.gather_nd(x_tf, [ i for i in zip(indices_0, indices_1, indices_2)]) # multi-dim 에선 gater_nd 임.\n",
        "print(d.shape)\n",
        "print(d)"
      ],
      "metadata": {
        "colab": {
          "base_uri": "https://localhost:8080/"
        },
        "id": "hCGx0BiB0jnl",
        "outputId": "776ae698-3f03-4022-a494-9ddf0cd35a32"
      },
      "execution_count": 19,
      "outputs": [
        {
          "output_type": "stream",
          "name": "stdout",
          "text": [
            "(2,)\n",
            "[ 70 350]\n",
            "----------\n",
            "torch.Size([2])\n",
            "tensor([ 70, 350])\n",
            "----------\n",
            "(2,)\n",
            "tf.Tensor([ 70 350], shape=(2,), dtype=int64)\n"
          ]
        }
      ]
    },
    {
      "cell_type": "markdown",
      "source": [
        "\n",
        "Boolean Mask"
      ],
      "metadata": {
        "id": "Qzv5ddEv0m00"
      }
    },
    {
      "cell_type": "code",
      "source": [
        "x = np.arange(3*3*3).reshape(3,3,3) * 10\n",
        "\n",
        "b = x <= 270/2\n",
        "print(b.shape)\n",
        "print(b)\n",
        "print('----------')\n",
        "print(x[b])\n",
        "print('----------')\n",
        "print(x[x<=270/2])\n",
        "\n",
        "b1 = b | (x >= 200)\n",
        "print('----------')\n",
        "print(b1)\n",
        "print('----------')\n",
        "print(x[b1])\n",
        "print('----------')\n",
        "print(x[ (x<=270/2) | (x>=200)])"
      ],
      "metadata": {
        "colab": {
          "base_uri": "https://localhost:8080/"
        },
        "id": "ckNmhQnr0mZv",
        "outputId": "41e648bd-8b67-4f53-ce63-ebd2caf391dd"
      },
      "execution_count": 20,
      "outputs": [
        {
          "output_type": "stream",
          "name": "stdout",
          "text": [
            "(3, 3, 3)\n",
            "[[[ True  True  True]\n",
            "  [ True  True  True]\n",
            "  [ True  True  True]]\n",
            "\n",
            " [[ True  True  True]\n",
            "  [ True  True False]\n",
            "  [False False False]]\n",
            "\n",
            " [[False False False]\n",
            "  [False False False]\n",
            "  [False False False]]]\n",
            "----------\n",
            "[  0  10  20  30  40  50  60  70  80  90 100 110 120 130]\n",
            "----------\n",
            "[  0  10  20  30  40  50  60  70  80  90 100 110 120 130]\n",
            "----------\n",
            "[[[ True  True  True]\n",
            "  [ True  True  True]\n",
            "  [ True  True  True]]\n",
            "\n",
            " [[ True  True  True]\n",
            "  [ True  True False]\n",
            "  [False False False]]\n",
            "\n",
            " [[False False  True]\n",
            "  [ True  True  True]\n",
            "  [ True  True  True]]]\n",
            "----------\n",
            "[  0  10  20  30  40  50  60  70  80  90 100 110 120 130 200 210 220 230\n",
            " 240 250 260]\n",
            "----------\n",
            "[  0  10  20  30  40  50  60  70  80  90 100 110 120 130 200 210 220 230\n",
            " 240 250 260]\n"
          ]
        }
      ]
    },
    {
      "cell_type": "code",
      "source": [
        "x_torch = torch.arange(3*3*3).view(size=(3,3,3)) * 10\n",
        "\n",
        "print(x_torch[ (x_torch<=270/2) | (x_torch>=200)])"
      ],
      "metadata": {
        "colab": {
          "base_uri": "https://localhost:8080/"
        },
        "id": "wU2ZX9ZE0liU",
        "outputId": "04dfb501-2e59-4fed-8a39-3ef554b190ff"
      },
      "execution_count": 44,
      "outputs": [
        {
          "output_type": "stream",
          "name": "stdout",
          "text": [
            "tensor([  0,  10,  20,  30,  40,  50,  60,  70,  80,  90, 100, 110, 120, 130,\n",
            "        200, 210, 220, 230, 240, 250, 260])\n"
          ]
        }
      ]
    },
    {
      "cell_type": "code",
      "source": [
        "x_tf = tf.constant(x)\n",
        "\n",
        "print(x_tf[ (x_tf<= tf.cast(270/2, tf.int64)) | (x_tf>=200)])"
      ],
      "metadata": {
        "colab": {
          "base_uri": "https://localhost:8080/",
          "height": 356
        },
        "id": "XY-8rso80say",
        "outputId": "7831ce2c-36a2-4a06-e23c-13d85f283491"
      },
      "execution_count": 45,
      "outputs": [
        {
          "output_type": "error",
          "ename": "InvalidArgumentError",
          "evalue": "cannot compute LessEqual as input #1(zero-based) was expected to be a double tensor but is a int64 tensor [Op:LessEqual] name: ",
          "traceback": [
            "\u001b[0;31m---------------------------------------------------------------------------\u001b[0m",
            "\u001b[0;31mInvalidArgumentError\u001b[0m                      Traceback (most recent call last)",
            "\u001b[0;32m<ipython-input-45-12db9805043e>\u001b[0m in \u001b[0;36m<cell line: 3>\u001b[0;34m()\u001b[0m\n\u001b[1;32m      1\u001b[0m \u001b[0mx_tf\u001b[0m \u001b[0;34m=\u001b[0m \u001b[0mtf\u001b[0m\u001b[0;34m.\u001b[0m\u001b[0mconstant\u001b[0m\u001b[0;34m(\u001b[0m\u001b[0mx\u001b[0m\u001b[0;34m)\u001b[0m\u001b[0;34m\u001b[0m\u001b[0;34m\u001b[0m\u001b[0m\n\u001b[1;32m      2\u001b[0m \u001b[0;34m\u001b[0m\u001b[0m\n\u001b[0;32m----> 3\u001b[0;31m \u001b[0mprint\u001b[0m\u001b[0;34m(\u001b[0m\u001b[0mx_tf\u001b[0m\u001b[0;34m[\u001b[0m \u001b[0;34m(\u001b[0m\u001b[0mx_tf\u001b[0m\u001b[0;34m<=\u001b[0m \u001b[0mtf\u001b[0m\u001b[0;34m.\u001b[0m\u001b[0mcast\u001b[0m\u001b[0;34m(\u001b[0m\u001b[0;36m270\u001b[0m\u001b[0;34m/\u001b[0m\u001b[0;36m2\u001b[0m\u001b[0;34m,\u001b[0m \u001b[0mtf\u001b[0m\u001b[0;34m.\u001b[0m\u001b[0mint64\u001b[0m\u001b[0;34m)\u001b[0m\u001b[0;34m)\u001b[0m \u001b[0;34m|\u001b[0m \u001b[0;34m(\u001b[0m\u001b[0mx_tf\u001b[0m\u001b[0;34m>=\u001b[0m\u001b[0;36m200\u001b[0m\u001b[0;34m)\u001b[0m\u001b[0;34m]\u001b[0m\u001b[0;34m)\u001b[0m\u001b[0;34m\u001b[0m\u001b[0;34m\u001b[0m\u001b[0m\n\u001b[0m",
            "\u001b[0;32m/usr/local/lib/python3.10/dist-packages/tensorflow/python/ops/math_ops.py\u001b[0m in \u001b[0;36mwrapper\u001b[0;34m(x, y, *args, **kwargs)\u001b[0m\n\u001b[1;32m   1987\u001b[0m   \u001b[0;32mdef\u001b[0m \u001b[0mwrapper\u001b[0m\u001b[0;34m(\u001b[0m\u001b[0mx\u001b[0m\u001b[0;34m,\u001b[0m \u001b[0my\u001b[0m\u001b[0;34m,\u001b[0m \u001b[0;34m*\u001b[0m\u001b[0margs\u001b[0m\u001b[0;34m,\u001b[0m \u001b[0;34m**\u001b[0m\u001b[0mkwargs\u001b[0m\u001b[0;34m)\u001b[0m\u001b[0;34m:\u001b[0m\u001b[0;34m\u001b[0m\u001b[0;34m\u001b[0m\u001b[0m\n\u001b[1;32m   1988\u001b[0m     \u001b[0mx\u001b[0m\u001b[0;34m,\u001b[0m \u001b[0my\u001b[0m \u001b[0;34m=\u001b[0m \u001b[0mmaybe_promote_tensors\u001b[0m\u001b[0;34m(\u001b[0m\u001b[0mx\u001b[0m\u001b[0;34m,\u001b[0m \u001b[0my\u001b[0m\u001b[0;34m)\u001b[0m\u001b[0;34m\u001b[0m\u001b[0;34m\u001b[0m\u001b[0m\n\u001b[0;32m-> 1989\u001b[0;31m     \u001b[0;32mreturn\u001b[0m \u001b[0mfn\u001b[0m\u001b[0;34m(\u001b[0m\u001b[0mx\u001b[0m\u001b[0;34m,\u001b[0m \u001b[0my\u001b[0m\u001b[0;34m,\u001b[0m \u001b[0;34m*\u001b[0m\u001b[0margs\u001b[0m\u001b[0;34m,\u001b[0m \u001b[0;34m**\u001b[0m\u001b[0mkwargs\u001b[0m\u001b[0;34m)\u001b[0m\u001b[0;34m\u001b[0m\u001b[0;34m\u001b[0m\u001b[0m\n\u001b[0m\u001b[1;32m   1990\u001b[0m   \u001b[0;32mreturn\u001b[0m \u001b[0mtf_decorator\u001b[0m\u001b[0;34m.\u001b[0m\u001b[0mmake_decorator\u001b[0m\u001b[0;34m(\u001b[0m\u001b[0mfn\u001b[0m\u001b[0;34m,\u001b[0m \u001b[0mwrapper\u001b[0m\u001b[0;34m)\u001b[0m\u001b[0;34m\u001b[0m\u001b[0;34m\u001b[0m\u001b[0m\n\u001b[1;32m   1991\u001b[0m \u001b[0;34m\u001b[0m\u001b[0m\n",
            "\u001b[0;32m/usr/local/lib/python3.10/dist-packages/tensorflow/python/ops/gen_math_ops.py\u001b[0m in \u001b[0;36mless_equal\u001b[0;34m(x, y, name)\u001b[0m\n\u001b[1;32m   5357\u001b[0m       \u001b[0;32mreturn\u001b[0m \u001b[0m_result\u001b[0m\u001b[0;34m\u001b[0m\u001b[0;34m\u001b[0m\u001b[0m\n\u001b[1;32m   5358\u001b[0m     \u001b[0;32mexcept\u001b[0m \u001b[0m_core\u001b[0m\u001b[0;34m.\u001b[0m\u001b[0m_NotOkStatusException\u001b[0m \u001b[0;32mas\u001b[0m \u001b[0me\u001b[0m\u001b[0;34m:\u001b[0m\u001b[0;34m\u001b[0m\u001b[0;34m\u001b[0m\u001b[0m\n\u001b[0;32m-> 5359\u001b[0;31m       \u001b[0m_ops\u001b[0m\u001b[0;34m.\u001b[0m\u001b[0mraise_from_not_ok_status\u001b[0m\u001b[0;34m(\u001b[0m\u001b[0me\u001b[0m\u001b[0;34m,\u001b[0m \u001b[0mname\u001b[0m\u001b[0;34m)\u001b[0m\u001b[0;34m\u001b[0m\u001b[0;34m\u001b[0m\u001b[0m\n\u001b[0m\u001b[1;32m   5360\u001b[0m     \u001b[0;32mexcept\u001b[0m \u001b[0m_core\u001b[0m\u001b[0;34m.\u001b[0m\u001b[0m_FallbackException\u001b[0m\u001b[0;34m:\u001b[0m\u001b[0;34m\u001b[0m\u001b[0;34m\u001b[0m\u001b[0m\n\u001b[1;32m   5361\u001b[0m       \u001b[0;32mpass\u001b[0m\u001b[0;34m\u001b[0m\u001b[0;34m\u001b[0m\u001b[0m\n",
            "\u001b[0;32m/usr/local/lib/python3.10/dist-packages/tensorflow/python/framework/ops.py\u001b[0m in \u001b[0;36mraise_from_not_ok_status\u001b[0;34m(e, name)\u001b[0m\n\u001b[1;32m   5881\u001b[0m \u001b[0;32mdef\u001b[0m \u001b[0mraise_from_not_ok_status\u001b[0m\u001b[0;34m(\u001b[0m\u001b[0me\u001b[0m\u001b[0;34m,\u001b[0m \u001b[0mname\u001b[0m\u001b[0;34m)\u001b[0m \u001b[0;34m->\u001b[0m \u001b[0mNoReturn\u001b[0m\u001b[0;34m:\u001b[0m\u001b[0;34m\u001b[0m\u001b[0;34m\u001b[0m\u001b[0m\n\u001b[1;32m   5882\u001b[0m   \u001b[0me\u001b[0m\u001b[0;34m.\u001b[0m\u001b[0mmessage\u001b[0m \u001b[0;34m+=\u001b[0m \u001b[0;34m(\u001b[0m\u001b[0;34m\" name: \"\u001b[0m \u001b[0;34m+\u001b[0m \u001b[0mstr\u001b[0m\u001b[0;34m(\u001b[0m\u001b[0mname\u001b[0m \u001b[0;32mif\u001b[0m \u001b[0mname\u001b[0m \u001b[0;32mis\u001b[0m \u001b[0;32mnot\u001b[0m \u001b[0;32mNone\u001b[0m \u001b[0;32melse\u001b[0m \u001b[0;34m\"\"\u001b[0m\u001b[0;34m)\u001b[0m\u001b[0;34m)\u001b[0m\u001b[0;34m\u001b[0m\u001b[0;34m\u001b[0m\u001b[0m\n\u001b[0;32m-> 5883\u001b[0;31m   \u001b[0;32mraise\u001b[0m \u001b[0mcore\u001b[0m\u001b[0;34m.\u001b[0m\u001b[0m_status_to_exception\u001b[0m\u001b[0;34m(\u001b[0m\u001b[0me\u001b[0m\u001b[0;34m)\u001b[0m \u001b[0;32mfrom\u001b[0m \u001b[0;32mNone\u001b[0m  \u001b[0;31m# pylint: disable=protected-access\u001b[0m\u001b[0;34m\u001b[0m\u001b[0;34m\u001b[0m\u001b[0m\n\u001b[0m\u001b[1;32m   5884\u001b[0m \u001b[0;34m\u001b[0m\u001b[0m\n\u001b[1;32m   5885\u001b[0m \u001b[0;34m\u001b[0m\u001b[0m\n",
            "\u001b[0;31mInvalidArgumentError\u001b[0m: cannot compute LessEqual as input #1(zero-based) was expected to be a double tensor but is a int64 tensor [Op:LessEqual] name: "
          ]
        }
      ]
    },
    {
      "cell_type": "markdown",
      "source": [
        "\n",
        "combined indexing"
      ],
      "metadata": {
        "id": "motYvfXz0vHy"
      }
    },
    {
      "cell_type": "code",
      "source": [
        "import numpy as np\n",
        "\n",
        "x = np.array([0,1,2,3,4,5,6,7,8]).reshape((3,3))\n",
        "print(x.shape)\n",
        "\n",
        "mask = np.array([True, False, True])\n",
        "cidx = np.array([2,0,1])\n",
        "print(mask.shape)\n",
        "print(cidx.shape)\n",
        "\n",
        "print('--------')\n",
        "print(x)\n",
        "print('--------')\n",
        "print(x[mask,cidx[:,np.newaxis]]) # broadcasting 으로 fancyindexing 이 이루어짐."
      ],
      "metadata": {
        "colab": {
          "base_uri": "https://localhost:8080/"
        },
        "id": "w-UUIEfz0v1i",
        "outputId": "d8959076-32fe-475b-e6f7-13eea4fa21f3"
      },
      "execution_count": 22,
      "outputs": [
        {
          "output_type": "stream",
          "name": "stdout",
          "text": [
            "(3, 3)\n",
            "(3,)\n",
            "(3,)\n",
            "--------\n",
            "[[0 1 2]\n",
            " [3 4 5]\n",
            " [6 7 8]]\n",
            "--------\n",
            "[[2 8]\n",
            " [0 6]\n",
            " [1 7]]\n"
          ]
        }
      ]
    },
    {
      "cell_type": "code",
      "source": [
        "import torch\n",
        "\n",
        "x_torch = torch.tensor([0,1,2,3,4,5,6,7,8]).reshape((3,3))\n",
        "if torch.cuda.is_available():\n",
        "    x_torch = x_torch.to(\"cuda\")\n",
        "\n",
        "x_torch[mask,cidx[:,np.newaxis]]"
      ],
      "metadata": {
        "colab": {
          "base_uri": "https://localhost:8080/"
        },
        "id": "nzFyrET60yL6",
        "outputId": "b820554c-af56-453f-866b-6030f56221bf"
      },
      "execution_count": 23,
      "outputs": [
        {
          "output_type": "execute_result",
          "data": {
            "text/plain": [
              "tensor([[2, 8],\n",
              "        [0, 6],\n",
              "        [1, 7]])"
            ]
          },
          "metadata": {},
          "execution_count": 23
        }
      ]
    },
    {
      "cell_type": "code",
      "source": [
        "a = np.array([1,0,1])\n",
        "b = cidx[:,np.newaxis]\n",
        "a*b"
      ],
      "metadata": {
        "colab": {
          "base_uri": "https://localhost:8080/"
        },
        "id": "-VacVFTM01pP",
        "outputId": "3e4a40d1-76c8-4c58-df20-6d8ab0af3bd0"
      },
      "execution_count": 24,
      "outputs": [
        {
          "output_type": "execute_result",
          "data": {
            "text/plain": [
              "array([[2, 0, 2],\n",
              "       [0, 0, 0],\n",
              "       [1, 0, 1]])"
            ]
          },
          "metadata": {},
          "execution_count": 24
        }
      ]
    },
    {
      "cell_type": "code",
      "source": [
        "x = np.array([0,1,2,3,4,5,6,7,8]).reshape((3,3))\n",
        "\n",
        "# booelan mask 대신, 일반적인 수치로도 가능.\n",
        "r = x[[0,2],cidx[:,np.newaxis]] # combined indexing의 경우, ₩내부에서 broadcasting 룰이 적용됨.\n",
        "\n",
        "print(x)\n",
        "print('--------')\n",
        "print(r)"
      ],
      "metadata": {
        "colab": {
          "base_uri": "https://localhost:8080/"
        },
        "id": "OciS_C_t02VQ",
        "outputId": "b997cc2d-5621-4e3b-ce44-c3fcc16bed28"
      },
      "execution_count": 25,
      "outputs": [
        {
          "output_type": "stream",
          "name": "stdout",
          "text": [
            "[[0 1 2]\n",
            " [3 4 5]\n",
            " [6 7 8]]\n",
            "--------\n",
            "[[2 8]\n",
            " [0 6]\n",
            " [1 7]]\n"
          ]
        }
      ]
    },
    {
      "cell_type": "code",
      "source": [
        "import numpy as np\n",
        "\n",
        "x = np.array([0,1,2,3,4,5,6,7]).reshape(2,2,2)\n",
        "t = np.array([0,1])\n",
        "r = x[[False,True],t[np.newaxis,:]]\n",
        "print(x.shape)\n",
        "print(x)\n",
        "print('--------')\n",
        "print(r.shape)\n",
        "print(r)\n",
        "print('--------')\n",
        "print(t[np.newaxis, :].shape)\n",
        "print(t[np.newaxis, :])"
      ],
      "metadata": {
        "id": "gGgB4Fm904O5"
      },
      "execution_count": null,
      "outputs": []
    },
    {
      "cell_type": "markdown",
      "source": [
        "fancy indexing을 활용한 처리."
      ],
      "metadata": {
        "id": "y-sanyrQ06VL"
      }
    },
    {
      "cell_type": "code",
      "source": [
        "x = np.arange(10).reshape(1,10)\n",
        "print('before:',x)\n",
        "r_idx = np.array([0])\n",
        "c_idx = np.array([9, 1, 3, 9]) # 중복되어도 더해지진 않음.\n",
        "x[r_idx,c_idx] = x[r_idx,c_idx] +10\n",
        "print('after :',x)"
      ],
      "metadata": {
        "colab": {
          "base_uri": "https://localhost:8080/"
        },
        "id": "M9HO127-07sV",
        "outputId": "e5e037ff-57fc-4854-c391-1104f624644d"
      },
      "execution_count": 32,
      "outputs": [
        {
          "output_type": "stream",
          "name": "stdout",
          "text": [
            "before: [[0 1 2 3 4 5 6 7 8 9]]\n",
            "after : [[ 0 11  2 13  4  5  6  7  8 19]]\n"
          ]
        }
      ]
    },
    {
      "cell_type": "code",
      "source": [
        "x = np.arange(10)\n",
        "print('before:',x)\n",
        "np.add.at(x,i,10) # 중복된 index를 더해줌.\n",
        "print('after :',x)\n",
        ""
      ],
      "metadata": {
        "colab": {
          "base_uri": "https://localhost:8080/"
        },
        "id": "nOxCYy5s09KO",
        "outputId": "3c11df40-03aa-493e-d068-a1595fafcebe"
      },
      "execution_count": 33,
      "outputs": [
        {
          "output_type": "stream",
          "name": "stdout",
          "text": [
            "before: [0 1 2 3 4 5 6 7 8 9]\n",
            "after : [ 0 11  2 13  4  5  6  7  8 29]\n"
          ]
        }
      ]
    },
    {
      "cell_type": "code",
      "source": [
        "x_torch = torch.arange(10)\n",
        "print(x_torch.dtype)\n",
        "print('before:',x_torch)\n",
        "i = torch.tensor([9, 1, 3, 9]) # 중복되어도 더해지진 않음.\n",
        "x_torch[i] = x_torch[i] +10\n",
        "print('after :',x_torch)"
      ],
      "metadata": {
        "colab": {
          "base_uri": "https://localhost:8080/"
        },
        "id": "w4Pkdy0h0_-H",
        "outputId": "5dac05e1-10bb-4988-a81c-6d32b7881abd"
      },
      "execution_count": 38,
      "outputs": [
        {
          "output_type": "stream",
          "name": "stdout",
          "text": [
            "torch.int64\n",
            "before: tensor([0, 1, 2, 3, 4, 5, 6, 7, 8, 9])\n",
            "after : tensor([ 0, 11,  2, 13,  4,  5,  6,  7,  8, 19])\n"
          ]
        }
      ]
    },
    {
      "cell_type": "code",
      "source": [
        "import numpy as np\n",
        "\n",
        "rng = np.random.default_rng(1)\n",
        "x = rng.random((5,2))\n",
        "print(x)"
      ],
      "metadata": {
        "colab": {
          "base_uri": "https://localhost:8080/"
        },
        "id": "NAh0Z6qp1DrG",
        "outputId": "b7bae9ad-1c32-4936-f4c5-8a9a6537560f"
      },
      "execution_count": 41,
      "outputs": [
        {
          "output_type": "stream",
          "name": "stdout",
          "text": [
            "[[0.51182162 0.9504637 ]\n",
            " [0.14415961 0.94864945]\n",
            " [0.31183145 0.42332645]\n",
            " [0.82770259 0.40919914]\n",
            " [0.54959369 0.02755911]]\n"
          ]
        }
      ]
    },
    {
      "cell_type": "code",
      "source": [
        "y0 = x[:, np.newaxis]\n",
        ".shape"
      ],
      "metadata": {
        "colab": {
          "base_uri": "https://localhost:8080/",
          "height": 106
        },
        "id": "u_pTEQyy1Fwt",
        "outputId": "83a4de5e-bd47-41ed-e050-e89d33101430"
      },
      "execution_count": 42,
      "outputs": [
        {
          "output_type": "error",
          "ename": "SyntaxError",
          "evalue": "invalid syntax (<ipython-input-42-4ecc719f291e>, line 2)",
          "traceback": [
            "\u001b[0;36m  File \u001b[0;32m\"<ipython-input-42-4ecc719f291e>\"\u001b[0;36m, line \u001b[0;32m2\u001b[0m\n\u001b[0;31m    .shape\u001b[0m\n\u001b[0m    ^\u001b[0m\n\u001b[0;31mSyntaxError\u001b[0m\u001b[0;31m:\u001b[0m invalid syntax\n"
          ]
        }
      ]
    },
    {
      "cell_type": "code",
      "source": [],
      "metadata": {
        "id": "BVvcsRRq1Hp8"
      },
      "execution_count": null,
      "outputs": []
    }
  ]
}